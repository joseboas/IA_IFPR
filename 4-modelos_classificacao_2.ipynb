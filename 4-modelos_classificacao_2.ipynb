{
 "cells": [
  {
   "cell_type": "markdown",
   "metadata": {},
   "source": [
    "# Continuação à classificação"
   ]
  },
  {
   "cell_type": "code",
   "execution_count": 96,
   "metadata": {},
   "outputs": [],
   "source": [
    "#Vou importar todos os modelos de classificação padrão do sklearn\n",
    "import warnings\n",
    "warnings.filterwarnings('ignore')\n",
    "import pandas as pd\n",
    "import seaborn as sns\n",
    "from sklearn.model_selection import train_test_split\n",
    "from sklearn.metrics import (cohen_kappa_score,confusion_matrix, accuracy_score, precision_score, recall_score, \n",
    "f1_score, roc_auc_score,roc_curve,auc,r2_score,classification_report)\n",
    "import matplotlib.pyplot as plt\n",
    "from yellowbrick.classifier import  ROCAUC"
   ]
  },
  {
   "cell_type": "code",
   "execution_count": 2,
   "metadata": {},
   "outputs": [],
   "source": [
    "#Carregar os dados\n",
    "df = pd.read_csv('titanic3_processado.csv', delimiter = ',')"
   ]
  },
  {
   "cell_type": "code",
   "execution_count": 3,
   "metadata": {},
   "outputs": [
    {
     "data": {
      "text/html": [
       "<div>\n",
       "<style scoped>\n",
       "    .dataframe tbody tr th:only-of-type {\n",
       "        vertical-align: middle;\n",
       "    }\n",
       "\n",
       "    .dataframe tbody tr th {\n",
       "        vertical-align: top;\n",
       "    }\n",
       "\n",
       "    .dataframe thead th {\n",
       "        text-align: right;\n",
       "    }\n",
       "</style>\n",
       "<table border=\"1\" class=\"dataframe\">\n",
       "  <thead>\n",
       "    <tr style=\"text-align: right;\">\n",
       "      <th></th>\n",
       "      <th>passenger_id</th>\n",
       "      <th>classe</th>\n",
       "      <th>sobreviveu</th>\n",
       "      <th>idade</th>\n",
       "      <th>irmaos_conjuge</th>\n",
       "      <th>pais_filhos</th>\n",
       "      <th>tarifa</th>\n",
       "      <th>sexo_female</th>\n",
       "      <th>sexo_male</th>\n",
       "      <th>embarque_24.0</th>\n",
       "      <th>embarque_C</th>\n",
       "      <th>embarque_Q</th>\n",
       "      <th>embarque_S</th>\n",
       "    </tr>\n",
       "  </thead>\n",
       "  <tbody>\n",
       "    <tr>\n",
       "      <th>0</th>\n",
       "      <td>0</td>\n",
       "      <td>1</td>\n",
       "      <td>1</td>\n",
       "      <td>29.0000</td>\n",
       "      <td>0</td>\n",
       "      <td>0</td>\n",
       "      <td>14.4542</td>\n",
       "      <td>1</td>\n",
       "      <td>0</td>\n",
       "      <td>0</td>\n",
       "      <td>0</td>\n",
       "      <td>0</td>\n",
       "      <td>1</td>\n",
       "    </tr>\n",
       "    <tr>\n",
       "      <th>1</th>\n",
       "      <td>1</td>\n",
       "      <td>1</td>\n",
       "      <td>1</td>\n",
       "      <td>0.9167</td>\n",
       "      <td>1</td>\n",
       "      <td>2</td>\n",
       "      <td>14.4542</td>\n",
       "      <td>0</td>\n",
       "      <td>1</td>\n",
       "      <td>0</td>\n",
       "      <td>0</td>\n",
       "      <td>0</td>\n",
       "      <td>1</td>\n",
       "    </tr>\n",
       "    <tr>\n",
       "      <th>2</th>\n",
       "      <td>5</td>\n",
       "      <td>1</td>\n",
       "      <td>1</td>\n",
       "      <td>48.0000</td>\n",
       "      <td>0</td>\n",
       "      <td>0</td>\n",
       "      <td>26.5500</td>\n",
       "      <td>0</td>\n",
       "      <td>1</td>\n",
       "      <td>0</td>\n",
       "      <td>0</td>\n",
       "      <td>0</td>\n",
       "      <td>1</td>\n",
       "    </tr>\n",
       "    <tr>\n",
       "      <th>3</th>\n",
       "      <td>6</td>\n",
       "      <td>1</td>\n",
       "      <td>1</td>\n",
       "      <td>63.0000</td>\n",
       "      <td>1</td>\n",
       "      <td>0</td>\n",
       "      <td>77.9583</td>\n",
       "      <td>1</td>\n",
       "      <td>0</td>\n",
       "      <td>0</td>\n",
       "      <td>0</td>\n",
       "      <td>0</td>\n",
       "      <td>1</td>\n",
       "    </tr>\n",
       "    <tr>\n",
       "      <th>4</th>\n",
       "      <td>8</td>\n",
       "      <td>1</td>\n",
       "      <td>1</td>\n",
       "      <td>53.0000</td>\n",
       "      <td>2</td>\n",
       "      <td>0</td>\n",
       "      <td>51.4792</td>\n",
       "      <td>1</td>\n",
       "      <td>0</td>\n",
       "      <td>0</td>\n",
       "      <td>0</td>\n",
       "      <td>0</td>\n",
       "      <td>1</td>\n",
       "    </tr>\n",
       "  </tbody>\n",
       "</table>\n",
       "</div>"
      ],
      "text/plain": [
       "   passenger_id  classe  sobreviveu    idade  irmaos_conjuge  pais_filhos  \\\n",
       "0             0       1           1  29.0000               0            0   \n",
       "1             1       1           1   0.9167               1            2   \n",
       "2             5       1           1  48.0000               0            0   \n",
       "3             6       1           1  63.0000               1            0   \n",
       "4             8       1           1  53.0000               2            0   \n",
       "\n",
       "    tarifa  sexo_female  sexo_male  embarque_24.0  embarque_C  embarque_Q  \\\n",
       "0  14.4542            1          0              0           0           0   \n",
       "1  14.4542            0          1              0           0           0   \n",
       "2  26.5500            0          1              0           0           0   \n",
       "3  77.9583            1          0              0           0           0   \n",
       "4  51.4792            1          0              0           0           0   \n",
       "\n",
       "   embarque_S  \n",
       "0           1  \n",
       "1           1  \n",
       "2           1  \n",
       "3           1  \n",
       "4           1  "
      ]
     },
     "execution_count": 3,
     "metadata": {},
     "output_type": "execute_result"
    }
   ],
   "source": [
    "df.head()"
   ]
  },
  {
   "cell_type": "code",
   "execution_count": 4,
   "metadata": {},
   "outputs": [
    {
     "data": {
      "text/html": [
       "<div>\n",
       "<style scoped>\n",
       "    .dataframe tbody tr th:only-of-type {\n",
       "        vertical-align: middle;\n",
       "    }\n",
       "\n",
       "    .dataframe tbody tr th {\n",
       "        vertical-align: top;\n",
       "    }\n",
       "\n",
       "    .dataframe thead th {\n",
       "        text-align: right;\n",
       "    }\n",
       "</style>\n",
       "<table border=\"1\" class=\"dataframe\">\n",
       "  <thead>\n",
       "    <tr style=\"text-align: right;\">\n",
       "      <th></th>\n",
       "      <th>classe</th>\n",
       "      <th>sobreviveu</th>\n",
       "      <th>idade</th>\n",
       "      <th>irmaos_conjuge</th>\n",
       "      <th>pais_filhos</th>\n",
       "      <th>tarifa</th>\n",
       "      <th>sexo_female</th>\n",
       "      <th>sexo_male</th>\n",
       "      <th>embarque_24.0</th>\n",
       "      <th>embarque_C</th>\n",
       "      <th>embarque_Q</th>\n",
       "      <th>embarque_S</th>\n",
       "    </tr>\n",
       "    <tr>\n",
       "      <th>passenger_id</th>\n",
       "      <th></th>\n",
       "      <th></th>\n",
       "      <th></th>\n",
       "      <th></th>\n",
       "      <th></th>\n",
       "      <th></th>\n",
       "      <th></th>\n",
       "      <th></th>\n",
       "      <th></th>\n",
       "      <th></th>\n",
       "      <th></th>\n",
       "      <th></th>\n",
       "    </tr>\n",
       "  </thead>\n",
       "  <tbody>\n",
       "    <tr>\n",
       "      <th>0</th>\n",
       "      <td>1</td>\n",
       "      <td>1</td>\n",
       "      <td>29.0000</td>\n",
       "      <td>0</td>\n",
       "      <td>0</td>\n",
       "      <td>14.4542</td>\n",
       "      <td>1</td>\n",
       "      <td>0</td>\n",
       "      <td>0</td>\n",
       "      <td>0</td>\n",
       "      <td>0</td>\n",
       "      <td>1</td>\n",
       "    </tr>\n",
       "    <tr>\n",
       "      <th>1</th>\n",
       "      <td>1</td>\n",
       "      <td>1</td>\n",
       "      <td>0.9167</td>\n",
       "      <td>1</td>\n",
       "      <td>2</td>\n",
       "      <td>14.4542</td>\n",
       "      <td>0</td>\n",
       "      <td>1</td>\n",
       "      <td>0</td>\n",
       "      <td>0</td>\n",
       "      <td>0</td>\n",
       "      <td>1</td>\n",
       "    </tr>\n",
       "    <tr>\n",
       "      <th>5</th>\n",
       "      <td>1</td>\n",
       "      <td>1</td>\n",
       "      <td>48.0000</td>\n",
       "      <td>0</td>\n",
       "      <td>0</td>\n",
       "      <td>26.5500</td>\n",
       "      <td>0</td>\n",
       "      <td>1</td>\n",
       "      <td>0</td>\n",
       "      <td>0</td>\n",
       "      <td>0</td>\n",
       "      <td>1</td>\n",
       "    </tr>\n",
       "    <tr>\n",
       "      <th>6</th>\n",
       "      <td>1</td>\n",
       "      <td>1</td>\n",
       "      <td>63.0000</td>\n",
       "      <td>1</td>\n",
       "      <td>0</td>\n",
       "      <td>77.9583</td>\n",
       "      <td>1</td>\n",
       "      <td>0</td>\n",
       "      <td>0</td>\n",
       "      <td>0</td>\n",
       "      <td>0</td>\n",
       "      <td>1</td>\n",
       "    </tr>\n",
       "    <tr>\n",
       "      <th>8</th>\n",
       "      <td>1</td>\n",
       "      <td>1</td>\n",
       "      <td>53.0000</td>\n",
       "      <td>2</td>\n",
       "      <td>0</td>\n",
       "      <td>51.4792</td>\n",
       "      <td>1</td>\n",
       "      <td>0</td>\n",
       "      <td>0</td>\n",
       "      <td>0</td>\n",
       "      <td>0</td>\n",
       "      <td>1</td>\n",
       "    </tr>\n",
       "  </tbody>\n",
       "</table>\n",
       "</div>"
      ],
      "text/plain": [
       "              classe  sobreviveu    idade  irmaos_conjuge  pais_filhos  \\\n",
       "passenger_id                                                             \n",
       "0                  1           1  29.0000               0            0   \n",
       "1                  1           1   0.9167               1            2   \n",
       "5                  1           1  48.0000               0            0   \n",
       "6                  1           1  63.0000               1            0   \n",
       "8                  1           1  53.0000               2            0   \n",
       "\n",
       "               tarifa  sexo_female  sexo_male  embarque_24.0  embarque_C  \\\n",
       "passenger_id                                                               \n",
       "0             14.4542            1          0              0           0   \n",
       "1             14.4542            0          1              0           0   \n",
       "5             26.5500            0          1              0           0   \n",
       "6             77.9583            1          0              0           0   \n",
       "8             51.4792            1          0              0           0   \n",
       "\n",
       "              embarque_Q  embarque_S  \n",
       "passenger_id                          \n",
       "0                      0           1  \n",
       "1                      0           1  \n",
       "5                      0           1  \n",
       "6                      0           1  \n",
       "8                      0           1  "
      ]
     },
     "execution_count": 4,
     "metadata": {},
     "output_type": "execute_result"
    }
   ],
   "source": [
    "#Setar o passenger_id como index\n",
    "df.set_index('passenger_id',inplace = True)\n",
    "df.head()"
   ]
  },
  {
   "cell_type": "code",
   "execution_count": 5,
   "metadata": {},
   "outputs": [
    {
     "data": {
      "text/plain": [
       "0    500\n",
       "1    500\n",
       "Name: sobreviveu, dtype: int64"
      ]
     },
     "execution_count": 5,
     "metadata": {},
     "output_type": "execute_result"
    }
   ],
   "source": [
    "#Vamos ver se continuam balanceados\n",
    "df.sobreviveu.value_counts() "
   ]
  },
  {
   "cell_type": "code",
   "execution_count": 6,
   "metadata": {},
   "outputs": [],
   "source": [
    "#Vamos separar a classe da variável\n",
    "X = df.drop(['sobreviveu'], axis=1)\n",
    "y = df['sobreviveu']"
   ]
  },
  {
   "cell_type": "code",
   "execution_count": 7,
   "metadata": {},
   "outputs": [
    {
     "name": "stdout",
     "output_type": "stream",
     "text": [
      "Não sobreviveu:  500\n",
      "Sobreviveu :  500\n"
     ]
    },
    {
     "data": {
      "image/png": "[encoded data removed]",
      "text/plain": [
       "<Figure size 576x396 with 1 Axes>"
      ]
     },
     "metadata": {},
     "output_type": "display_data"
    }
   ],
   "source": [
    "#Rever a distruição das amostras entre as classes\n",
    "sns.set(style=\"darkgrid\")\n",
    "ax = sns.countplot(x = y)      \n",
    "N, S = y.value_counts(sort=True) \n",
    "print('Não sobreviveu: ',N)\n",
    "print('Sobreviveu : ',S)"
   ]
  },
  {
   "cell_type": "markdown",
   "metadata": {},
   "source": [
    "### Normalização"
   ]
  },
  {
   "cell_type": "code",
   "execution_count": 8,
   "metadata": {},
   "outputs": [],
   "source": [
    "from sklearn.preprocessing import MinMaxScaler\n",
    "# create a scaler object\n",
    "scaler = MinMaxScaler()\n",
    "# fit and transform the data\n",
    "X = pd.DataFrame(scaler.fit_transform(X), columns=X.columns)"
   ]
  },
  {
   "cell_type": "code",
   "execution_count": 9,
   "metadata": {},
   "outputs": [
    {
     "data": {
      "text/html": [
       "<div>\n",
       "<style scoped>\n",
       "    .dataframe tbody tr th:only-of-type {\n",
       "        vertical-align: middle;\n",
       "    }\n",
       "\n",
       "    .dataframe tbody tr th {\n",
       "        vertical-align: top;\n",
       "    }\n",
       "\n",
       "    .dataframe thead th {\n",
       "        text-align: right;\n",
       "    }\n",
       "</style>\n",
       "<table border=\"1\" class=\"dataframe\">\n",
       "  <thead>\n",
       "    <tr style=\"text-align: right;\">\n",
       "      <th></th>\n",
       "      <th>classe</th>\n",
       "      <th>idade</th>\n",
       "      <th>irmaos_conjuge</th>\n",
       "      <th>pais_filhos</th>\n",
       "      <th>tarifa</th>\n",
       "      <th>sexo_female</th>\n",
       "      <th>sexo_male</th>\n",
       "      <th>embarque_24.0</th>\n",
       "      <th>embarque_C</th>\n",
       "      <th>embarque_Q</th>\n",
       "      <th>embarque_S</th>\n",
       "    </tr>\n",
       "  </thead>\n",
       "  <tbody>\n",
       "    <tr>\n",
       "      <th>0</th>\n",
       "      <td>0.0</td>\n",
       "      <td>0.361169</td>\n",
       "      <td>0.000</td>\n",
       "      <td>0.000000</td>\n",
       "      <td>0.154590</td>\n",
       "      <td>1.0</td>\n",
       "      <td>0.0</td>\n",
       "      <td>0.0</td>\n",
       "      <td>0.0</td>\n",
       "      <td>0.0</td>\n",
       "      <td>1.0</td>\n",
       "    </tr>\n",
       "    <tr>\n",
       "      <th>1</th>\n",
       "      <td>0.0</td>\n",
       "      <td>0.009395</td>\n",
       "      <td>0.125</td>\n",
       "      <td>0.222222</td>\n",
       "      <td>0.154590</td>\n",
       "      <td>0.0</td>\n",
       "      <td>1.0</td>\n",
       "      <td>0.0</td>\n",
       "      <td>0.0</td>\n",
       "      <td>0.0</td>\n",
       "      <td>1.0</td>\n",
       "    </tr>\n",
       "    <tr>\n",
       "      <th>2</th>\n",
       "      <td>0.0</td>\n",
       "      <td>0.599165</td>\n",
       "      <td>0.000</td>\n",
       "      <td>0.000000</td>\n",
       "      <td>0.283957</td>\n",
       "      <td>0.0</td>\n",
       "      <td>1.0</td>\n",
       "      <td>0.0</td>\n",
       "      <td>0.0</td>\n",
       "      <td>0.0</td>\n",
       "      <td>1.0</td>\n",
       "    </tr>\n",
       "    <tr>\n",
       "      <th>3</th>\n",
       "      <td>0.0</td>\n",
       "      <td>0.787056</td>\n",
       "      <td>0.125</td>\n",
       "      <td>0.000000</td>\n",
       "      <td>0.833779</td>\n",
       "      <td>1.0</td>\n",
       "      <td>0.0</td>\n",
       "      <td>0.0</td>\n",
       "      <td>0.0</td>\n",
       "      <td>0.0</td>\n",
       "      <td>1.0</td>\n",
       "    </tr>\n",
       "    <tr>\n",
       "      <th>4</th>\n",
       "      <td>0.0</td>\n",
       "      <td>0.661795</td>\n",
       "      <td>0.250</td>\n",
       "      <td>0.000000</td>\n",
       "      <td>0.550580</td>\n",
       "      <td>1.0</td>\n",
       "      <td>0.0</td>\n",
       "      <td>0.0</td>\n",
       "      <td>0.0</td>\n",
       "      <td>0.0</td>\n",
       "      <td>1.0</td>\n",
       "    </tr>\n",
       "    <tr>\n",
       "      <th>...</th>\n",
       "      <td>...</td>\n",
       "      <td>...</td>\n",
       "      <td>...</td>\n",
       "      <td>...</td>\n",
       "      <td>...</td>\n",
       "      <td>...</td>\n",
       "      <td>...</td>\n",
       "      <td>...</td>\n",
       "      <td>...</td>\n",
       "      <td>...</td>\n",
       "      <td>...</td>\n",
       "    </tr>\n",
       "    <tr>\n",
       "      <th>995</th>\n",
       "      <td>1.0</td>\n",
       "      <td>0.035490</td>\n",
       "      <td>0.000</td>\n",
       "      <td>0.000000</td>\n",
       "      <td>0.082620</td>\n",
       "      <td>0.0</td>\n",
       "      <td>1.0</td>\n",
       "      <td>0.0</td>\n",
       "      <td>0.0</td>\n",
       "      <td>1.0</td>\n",
       "      <td>0.0</td>\n",
       "    </tr>\n",
       "    <tr>\n",
       "      <th>996</th>\n",
       "      <td>1.0</td>\n",
       "      <td>0.035490</td>\n",
       "      <td>0.125</td>\n",
       "      <td>0.222222</td>\n",
       "      <td>0.250802</td>\n",
       "      <td>1.0</td>\n",
       "      <td>0.0</td>\n",
       "      <td>0.0</td>\n",
       "      <td>0.0</td>\n",
       "      <td>0.0</td>\n",
       "      <td>1.0</td>\n",
       "    </tr>\n",
       "    <tr>\n",
       "      <th>997</th>\n",
       "      <td>0.0</td>\n",
       "      <td>0.686847</td>\n",
       "      <td>0.125</td>\n",
       "      <td>0.000000</td>\n",
       "      <td>0.635294</td>\n",
       "      <td>0.0</td>\n",
       "      <td>1.0</td>\n",
       "      <td>0.0</td>\n",
       "      <td>1.0</td>\n",
       "      <td>0.0</td>\n",
       "      <td>0.0</td>\n",
       "    </tr>\n",
       "    <tr>\n",
       "      <th>998</th>\n",
       "      <td>0.5</td>\n",
       "      <td>0.260960</td>\n",
       "      <td>0.125</td>\n",
       "      <td>0.000000</td>\n",
       "      <td>0.122995</td>\n",
       "      <td>0.0</td>\n",
       "      <td>1.0</td>\n",
       "      <td>0.0</td>\n",
       "      <td>0.0</td>\n",
       "      <td>0.0</td>\n",
       "      <td>1.0</td>\n",
       "    </tr>\n",
       "    <tr>\n",
       "      <th>999</th>\n",
       "      <td>1.0</td>\n",
       "      <td>0.323591</td>\n",
       "      <td>0.000</td>\n",
       "      <td>0.000000</td>\n",
       "      <td>0.083155</td>\n",
       "      <td>0.0</td>\n",
       "      <td>1.0</td>\n",
       "      <td>0.0</td>\n",
       "      <td>0.0</td>\n",
       "      <td>0.0</td>\n",
       "      <td>1.0</td>\n",
       "    </tr>\n",
       "  </tbody>\n",
       "</table>\n",
       "<p>1000 rows × 11 columns</p>\n",
       "</div>"
      ],
      "text/plain": [
       "     classe     idade  irmaos_conjuge  pais_filhos    tarifa  sexo_female  \\\n",
       "0       0.0  0.361169           0.000     0.000000  0.154590          1.0   \n",
       "1       0.0  0.009395           0.125     0.222222  0.154590          0.0   \n",
       "2       0.0  0.599165           0.000     0.000000  0.283957          0.0   \n",
       "3       0.0  0.787056           0.125     0.000000  0.833779          1.0   \n",
       "4       0.0  0.661795           0.250     0.000000  0.550580          1.0   \n",
       "..      ...       ...             ...          ...       ...          ...   \n",
       "995     1.0  0.035490           0.000     0.000000  0.082620          0.0   \n",
       "996     1.0  0.035490           0.125     0.222222  0.250802          1.0   \n",
       "997     0.0  0.686847           0.125     0.000000  0.635294          0.0   \n",
       "998     0.5  0.260960           0.125     0.000000  0.122995          0.0   \n",
       "999     1.0  0.323591           0.000     0.000000  0.083155          0.0   \n",
       "\n",
       "     sexo_male  embarque_24.0  embarque_C  embarque_Q  embarque_S  \n",
       "0          0.0            0.0         0.0         0.0         1.0  \n",
       "1          1.0            0.0         0.0         0.0         1.0  \n",
       "2          1.0            0.0         0.0         0.0         1.0  \n",
       "3          0.0            0.0         0.0         0.0         1.0  \n",
       "4          0.0            0.0         0.0         0.0         1.0  \n",
       "..         ...            ...         ...         ...         ...  \n",
       "995        1.0            0.0         0.0         1.0         0.0  \n",
       "996        0.0            0.0         0.0         0.0         1.0  \n",
       "997        1.0            0.0         1.0         0.0         0.0  \n",
       "998        1.0            0.0         0.0         0.0         1.0  \n",
       "999        1.0            0.0         0.0         0.0         1.0  \n",
       "\n",
       "[1000 rows x 11 columns]"
      ]
     },
     "execution_count": 9,
     "metadata": {},
     "output_type": "execute_result"
    }
   ],
   "source": [
    "X"
   ]
  },
  {
   "cell_type": "code",
   "execution_count": 10,
   "metadata": {},
   "outputs": [],
   "source": [
    "#Vamos separar em treino e teste\n",
    "#Obs: random_state deixa os valores aleatírios dentro de um range\n",
    "#Eu posso usar 3,5,6, qualquer número inteiro que dentro de um range eu pego um sequencia de valores\n",
    "X_treino, X_teste, y_treino, y_teste = train_test_split(X,y,test_size = 0.3,random_state = 42)"
   ]
  },
  {
   "cell_type": "code",
   "execution_count": 11,
   "metadata": {},
   "outputs": [
    {
     "name": "stdout",
     "output_type": "stream",
     "text": [
      "700\n",
      "300\n"
     ]
    }
   ],
   "source": [
    "print(len(X_treino))\n",
    "print(len(X_teste))"
   ]
  },
  {
   "cell_type": "markdown",
   "metadata": {},
   "source": [
    "## K vizinhos mais próximos\n",
    "* O algoritmo KNN (K-Nearest Neighbor, ou K Vizinhos Mais Próximos) faz a classificação com base na distância até algumas amostras (k) de treinamento;\n",
    "* A família de algoritmos é chamada de aprendizado baseado em instâncias (instance-based learning), pois não há parâmetros para aprender;\n",
    "* O modelo pressupõe que a distância é suficiente para fazer uma inferência; afora isso, nenhuma pressuposição é feita sobre os dados subjacentes ou suas distribuições;\n",
    "* A parte complicada é selecionar o valor apropriado de k. Além disso, a maldição da dimensionalidade pode atrapalhar as métricas de distância, pois haverá pouca diferença entre os vizinhos mais próximos e mais distantes no caso de mais dimensões."
   ]
  },
  {
   "cell_type": "markdown",
   "metadata": {},
   "source": [
    "<img src=\"KNN.png\" width=\"400px\" align=\"left\"><br>"
   ]
  },
  {
   "cell_type": "code",
   "execution_count": 12,
   "metadata": {},
   "outputs": [],
   "source": [
    "#Vamos importar\n",
    "from sklearn.neighbors import KNeighborsClassifier"
   ]
  },
  {
   "cell_type": "code",
   "execution_count": 13,
   "metadata": {},
   "outputs": [],
   "source": [
    "#Vamos instanciar\n",
    "knc = KNeighborsClassifier()"
   ]
  },
  {
   "cell_type": "code",
   "execution_count": 14,
   "metadata": {},
   "outputs": [
    {
     "data": {
      "text/html": [
       "<style>#sk-container-id-1 {color: black;background-color: white;}#sk-container-id-1 pre{padding: 0;}#sk-container-id-1 div.sk-toggleable {background-color: white;}#sk-container-id-1 label.sk-toggleable__label {cursor: pointer;display: block;width: 100%;margin-bottom: 0;padding: 0.3em;box-sizing: border-box;text-align: center;}#sk-container-id-1 label.sk-toggleable__label-arrow:before {content: \"▸\";float: left;margin-right: 0.25em;color: #696969;}#sk-container-id-1 label.sk-toggleable__label-arrow:hover:before {color: black;}#sk-container-id-1 div.sk-estimator:hover label.sk-toggleable__label-arrow:before {color: black;}#sk-container-id-1 div.sk-toggleable__content {max-height: 0;max-width: 0;overflow: hidden;text-align: left;background-color: #f0f8ff;}#sk-container-id-1 div.sk-toggleable__content pre {margin: 0.2em;color: black;border-radius: 0.25em;background-color: #f0f8ff;}#sk-container-id-1 input.sk-toggleable__control:checked~div.sk-toggleable__content {max-height: 200px;max-width: 100%;overflow: auto;}#sk-container-id-1 input.sk-toggleable__control:checked~label.sk-toggleable__label-arrow:before {content: \"▾\";}#sk-container-id-1 div.sk-estimator input.sk-toggleable__control:checked~label.sk-toggleable__label {background-color: #d4ebff;}#sk-container-id-1 div.sk-label input.sk-toggleable__control:checked~label.sk-toggleable__label {background-color: #d4ebff;}#sk-container-id-1 input.sk-hidden--visually {border: 0;clip: rect(1px 1px 1px 1px);clip: rect(1px, 1px, 1px, 1px);height: 1px;margin: -1px;overflow: hidden;padding: 0;position: absolute;width: 1px;}#sk-container-id-1 div.sk-estimator {font-family: monospace;background-color: #f0f8ff;border: 1px dotted black;border-radius: 0.25em;box-sizing: border-box;margin-bottom: 0.5em;}#sk-container-id-1 div.sk-estimator:hover {background-color: #d4ebff;}#sk-container-id-1 div.sk-parallel-item::after {content: \"\";width: 100%;border-bottom: 1px solid gray;flex-grow: 1;}#sk-container-id-1 div.sk-label:hover label.sk-toggleable__label {background-color: #d4ebff;}#sk-container-id-1 div.sk-serial::before {content: \"\";position: absolute;border-left: 1px solid gray;box-sizing: border-box;top: 0;bottom: 0;left: 50%;z-index: 0;}#sk-container-id-1 div.sk-serial {display: flex;flex-direction: column;align-items: center;background-color: white;padding-right: 0.2em;padding-left: 0.2em;position: relative;}#sk-container-id-1 div.sk-item {position: relative;z-index: 1;}#sk-container-id-1 div.sk-parallel {display: flex;align-items: stretch;justify-content: center;background-color: white;position: relative;}#sk-container-id-1 div.sk-item::before, #sk-container-id-1 div.sk-parallel-item::before {content: \"\";position: absolute;border-left: 1px solid gray;box-sizing: border-box;top: 0;bottom: 0;left: 50%;z-index: -1;}#sk-container-id-1 div.sk-parallel-item {display: flex;flex-direction: column;z-index: 1;position: relative;background-color: white;}#sk-container-id-1 div.sk-parallel-item:first-child::after {align-self: flex-end;width: 50%;}#sk-container-id-1 div.sk-parallel-item:last-child::after {align-self: flex-start;width: 50%;}#sk-container-id-1 div.sk-parallel-item:only-child::after {width: 0;}#sk-container-id-1 div.sk-dashed-wrapped {border: 1px dashed gray;margin: 0 0.4em 0.5em 0.4em;box-sizing: border-box;padding-bottom: 0.4em;background-color: white;}#sk-container-id-1 div.sk-label label {font-family: monospace;font-weight: bold;display: inline-block;line-height: 1.2em;}#sk-container-id-1 div.sk-label-container {text-align: center;}#sk-container-id-1 div.sk-container {/* jupyter's `normalize.less` sets `[hidden] { display: none; }` but bootstrap.min.css set `[hidden] { display: none !important; }` so we also need the `!important` here to be able to override the default hidden behavior on the sphinx rendered scikit-learn.org. See: https://github.com/scikit-learn/scikit-learn/issues/21755 */display: inline-block !important;position: relative;}#sk-container-id-1 div.sk-text-repr-fallback {display: none;}</style><div id=\"sk-container-id-1\" class=\"sk-top-container\"><div class=\"sk-text-repr-fallback\"><pre>KNeighborsClassifier()</pre><b>In a Jupyter environment, please rerun this cell to show the HTML representation or trust the notebook. <br />On GitHub, the HTML representation is unable to render, please try loading this page with nbviewer.org.</b></div><div class=\"sk-container\" hidden><div class=\"sk-item\"><div class=\"sk-estimator sk-toggleable\"><input class=\"sk-toggleable__control sk-hidden--visually\" id=\"sk-estimator-id-1\" type=\"checkbox\" checked><label for=\"sk-estimator-id-1\" class=\"sk-toggleable__label sk-toggleable__label-arrow\">KNeighborsClassifier</label><div class=\"sk-toggleable__content\"><pre>KNeighborsClassifier()</pre></div></div></div></div></div>"
      ],
      "text/plain": [
       "KNeighborsClassifier()"
      ]
     },
     "execution_count": 14,
     "metadata": {},
     "output_type": "execute_result"
    }
   ],
   "source": [
    "#Treinar\n",
    "knc.fit(X_treino, y_treino)"
   ]
  },
  {
   "cell_type": "code",
   "execution_count": 15,
   "metadata": {},
   "outputs": [
    {
     "data": {
      "text/plain": [
       "0.8"
      ]
     },
     "execution_count": 15,
     "metadata": {},
     "output_type": "execute_result"
    }
   ],
   "source": [
    "knc.score(X_teste, y_teste)"
   ]
  },
  {
   "cell_type": "code",
   "execution_count": 16,
   "metadata": {},
   "outputs": [],
   "source": [
    "#A seguir, apresentamos algumas das características que incluiremos em cada modelo:\n",
    "knc = KNeighborsClassifier(algorithm='auto', leaf_size=30, metric='minkowski', \n",
    "                                                metric_params=None, n_jobs=1,n_neighbors=5, p=2, weights='uniform')"
   ]
  },
  {
   "cell_type": "code",
   "execution_count": 17,
   "metadata": {},
   "outputs": [
    {
     "data": {
      "text/html": [
       "<style>#sk-container-id-2 {color: black;background-color: white;}#sk-container-id-2 pre{padding: 0;}#sk-container-id-2 div.sk-toggleable {background-color: white;}#sk-container-id-2 label.sk-toggleable__label {cursor: pointer;display: block;width: 100%;margin-bottom: 0;padding: 0.3em;box-sizing: border-box;text-align: center;}#sk-container-id-2 label.sk-toggleable__label-arrow:before {content: \"▸\";float: left;margin-right: 0.25em;color: #696969;}#sk-container-id-2 label.sk-toggleable__label-arrow:hover:before {color: black;}#sk-container-id-2 div.sk-estimator:hover label.sk-toggleable__label-arrow:before {color: black;}#sk-container-id-2 div.sk-toggleable__content {max-height: 0;max-width: 0;overflow: hidden;text-align: left;background-color: #f0f8ff;}#sk-container-id-2 div.sk-toggleable__content pre {margin: 0.2em;color: black;border-radius: 0.25em;background-color: #f0f8ff;}#sk-container-id-2 input.sk-toggleable__control:checked~div.sk-toggleable__content {max-height: 200px;max-width: 100%;overflow: auto;}#sk-container-id-2 input.sk-toggleable__control:checked~label.sk-toggleable__label-arrow:before {content: \"▾\";}#sk-container-id-2 div.sk-estimator input.sk-toggleable__control:checked~label.sk-toggleable__label {background-color: #d4ebff;}#sk-container-id-2 div.sk-label input.sk-toggleable__control:checked~label.sk-toggleable__label {background-color: #d4ebff;}#sk-container-id-2 input.sk-hidden--visually {border: 0;clip: rect(1px 1px 1px 1px);clip: rect(1px, 1px, 1px, 1px);height: 1px;margin: -1px;overflow: hidden;padding: 0;position: absolute;width: 1px;}#sk-container-id-2 div.sk-estimator {font-family: monospace;background-color: #f0f8ff;border: 1px dotted black;border-radius: 0.25em;box-sizing: border-box;margin-bottom: 0.5em;}#sk-container-id-2 div.sk-estimator:hover {background-color: #d4ebff;}#sk-container-id-2 div.sk-parallel-item::after {content: \"\";width: 100%;border-bottom: 1px solid gray;flex-grow: 1;}#sk-container-id-2 div.sk-label:hover label.sk-toggleable__label {background-color: #d4ebff;}#sk-container-id-2 div.sk-serial::before {content: \"\";position: absolute;border-left: 1px solid gray;box-sizing: border-box;top: 0;bottom: 0;left: 50%;z-index: 0;}#sk-container-id-2 div.sk-serial {display: flex;flex-direction: column;align-items: center;background-color: white;padding-right: 0.2em;padding-left: 0.2em;position: relative;}#sk-container-id-2 div.sk-item {position: relative;z-index: 1;}#sk-container-id-2 div.sk-parallel {display: flex;align-items: stretch;justify-content: center;background-color: white;position: relative;}#sk-container-id-2 div.sk-item::before, #sk-container-id-2 div.sk-parallel-item::before {content: \"\";position: absolute;border-left: 1px solid gray;box-sizing: border-box;top: 0;bottom: 0;left: 50%;z-index: -1;}#sk-container-id-2 div.sk-parallel-item {display: flex;flex-direction: column;z-index: 1;position: relative;background-color: white;}#sk-container-id-2 div.sk-parallel-item:first-child::after {align-self: flex-end;width: 50%;}#sk-container-id-2 div.sk-parallel-item:last-child::after {align-self: flex-start;width: 50%;}#sk-container-id-2 div.sk-parallel-item:only-child::after {width: 0;}#sk-container-id-2 div.sk-dashed-wrapped {border: 1px dashed gray;margin: 0 0.4em 0.5em 0.4em;box-sizing: border-box;padding-bottom: 0.4em;background-color: white;}#sk-container-id-2 div.sk-label label {font-family: monospace;font-weight: bold;display: inline-block;line-height: 1.2em;}#sk-container-id-2 div.sk-label-container {text-align: center;}#sk-container-id-2 div.sk-container {/* jupyter's `normalize.less` sets `[hidden] { display: none; }` but bootstrap.min.css set `[hidden] { display: none !important; }` so we also need the `!important` here to be able to override the default hidden behavior on the sphinx rendered scikit-learn.org. See: https://github.com/scikit-learn/scikit-learn/issues/21755 */display: inline-block !important;position: relative;}#sk-container-id-2 div.sk-text-repr-fallback {display: none;}</style><div id=\"sk-container-id-2\" class=\"sk-top-container\"><div class=\"sk-text-repr-fallback\"><pre>KNeighborsClassifier(n_jobs=1)</pre><b>In a Jupyter environment, please rerun this cell to show the HTML representation or trust the notebook. <br />On GitHub, the HTML representation is unable to render, please try loading this page with nbviewer.org.</b></div><div class=\"sk-container\" hidden><div class=\"sk-item\"><div class=\"sk-estimator sk-toggleable\"><input class=\"sk-toggleable__control sk-hidden--visually\" id=\"sk-estimator-id-2\" type=\"checkbox\" checked><label for=\"sk-estimator-id-2\" class=\"sk-toggleable__label sk-toggleable__label-arrow\">KNeighborsClassifier</label><div class=\"sk-toggleable__content\"><pre>KNeighborsClassifier(n_jobs=1)</pre></div></div></div></div></div>"
      ],
      "text/plain": [
       "KNeighborsClassifier(n_jobs=1)"
      ]
     },
     "execution_count": 17,
     "metadata": {},
     "output_type": "execute_result"
    }
   ],
   "source": [
    "knc.fit(X_treino, y_treino)"
   ]
  },
  {
   "cell_type": "code",
   "execution_count": 18,
   "metadata": {},
   "outputs": [
    {
     "data": {
      "text/plain": [
       "0.8"
      ]
     },
     "execution_count": 18,
     "metadata": {},
     "output_type": "execute_result"
    }
   ],
   "source": [
    "knc.score(X_teste, y_teste)"
   ]
  },
  {
   "cell_type": "markdown",
   "metadata": {},
   "source": [
    "### Cross Validation. ou Validação Cruzada é uma técnica para avaliar a capacidade de generalização de um modelo,  a partir de um conjunto de dados."
   ]
  },
  {
   "cell_type": "code",
   "execution_count": 19,
   "metadata": {},
   "outputs": [],
   "source": [
    "from sklearn.model_selection import cross_val_score"
   ]
  },
  {
   "cell_type": "code",
   "execution_count": 20,
   "metadata": {},
   "outputs": [
    {
     "name": "stdout",
     "output_type": "stream",
     "text": [
      "Scores = [0.77 0.81 0.78 0.78 0.84 0.76 0.64 0.54 0.64 0.71]\n",
      "Média dos Scores = 0.727\n"
     ]
    }
   ],
   "source": [
    "cv_scores = cross_val_score(knc,X,y, cv=10, scoring='accuracy')\n",
    "print(f'Scores = {cv_scores}')\n",
    "print(f'Média dos Scores = {cv_scores.mean()}')"
   ]
  },
  {
   "cell_type": "code",
   "execution_count": 21,
   "metadata": {},
   "outputs": [
    {
     "data": {
      "text/plain": [
       "array([1, 0, 0, 0, 1, 1, 1, 1, 1, 1, 1, 1, 0, 0, 0, 0, 1, 0, 1, 1, 0, 1,\n",
       "       0, 0, 1, 1, 0, 0, 0, 0, 1, 1, 0, 1, 1, 1, 0, 1, 0, 0, 0, 0, 1, 1,\n",
       "       0, 0, 0, 0, 1, 0, 0, 1, 1, 0, 1, 1, 0, 1, 1, 0, 1, 1, 0, 0, 0, 0,\n",
       "       0, 1, 1, 0, 1, 1, 0, 0, 1, 1, 0, 1, 0, 1, 0, 1, 1, 0, 1, 0, 0, 0,\n",
       "       0, 1, 1, 1, 1, 0, 0, 1, 0, 1, 1, 0, 0, 1, 0, 1, 0, 0, 0, 0, 1, 0,\n",
       "       0, 0, 1, 0, 1, 1, 1, 0, 0, 1, 1, 1, 0, 1, 1, 0, 0, 1, 0, 1, 0, 0,\n",
       "       1, 0, 0, 0, 0, 1, 0, 1, 1, 1, 0, 1, 0, 0, 1, 1, 0, 0, 0, 1, 0, 1,\n",
       "       0, 0, 1, 0, 1, 0, 0, 0, 0, 0, 0, 0, 1, 1, 1, 1, 1, 1, 0, 0, 0, 1,\n",
       "       1, 1, 0, 0, 1, 0, 1, 0, 0, 1, 0, 0, 0, 0, 1, 1, 1, 1, 1, 1, 0, 1,\n",
       "       0, 1, 1, 0, 1, 0, 0, 0, 1, 0, 0, 0, 1, 1, 0, 1, 0, 0, 0, 1, 0, 1,\n",
       "       1, 0, 0, 1, 0, 0, 0, 1, 1, 1, 1, 0, 1, 0, 1, 1, 1, 0, 1, 0, 1, 1,\n",
       "       0, 0, 0, 1, 0, 1, 1, 1, 1, 1, 0, 0, 1, 1, 0, 0, 0, 1, 0, 0, 1, 1,\n",
       "       1, 1, 0, 0, 0, 1, 0, 1, 0, 1, 0, 1, 0, 0, 1, 0, 0, 0, 1, 1, 1, 0,\n",
       "       1, 0, 1, 1, 0, 0, 0, 0, 1, 1, 0, 1, 1, 1], dtype=int64)"
      ]
     },
     "execution_count": 21,
     "metadata": {},
     "output_type": "execute_result"
    }
   ],
   "source": [
    "#Obter a previsões\n",
    "knc_previsoes = knc.predict(X_teste)\n",
    "knc_previsoes"
   ]
  },
  {
   "cell_type": "code",
   "execution_count": 22,
   "metadata": {},
   "outputs": [
    {
     "data": {
      "text/plain": [
       "array([[0.2, 0.8],\n",
       "       [0.8, 0.2],\n",
       "       [0.8, 0.2],\n",
       "       [1. , 0. ],\n",
       "       [0.2, 0.8],\n",
       "       [0.4, 0.6],\n",
       "       [0.2, 0.8],\n",
       "       [0.4, 0.6],\n",
       "       [0.2, 0.8],\n",
       "       [0. , 1. ],\n",
       "       [0.4, 0.6],\n",
       "       [0.2, 0.8],\n",
       "       [1. , 0. ],\n",
       "       [0.8, 0.2],\n",
       "       [0.8, 0.2],\n",
       "       [1. , 0. ],\n",
       "       [0. , 1. ],\n",
       "       [0.8, 0.2],\n",
       "       [0.4, 0.6],\n",
       "       [0.2, 0.8],\n",
       "       [0.6, 0.4],\n",
       "       [0. , 1. ],\n",
       "       [1. , 0. ],\n",
       "       [0.8, 0.2],\n",
       "       [0.4, 0.6],\n",
       "       [0.4, 0.6],\n",
       "       [0.6, 0.4],\n",
       "       [0.8, 0.2],\n",
       "       [0.6, 0.4],\n",
       "       [0.6, 0.4],\n",
       "       [0.4, 0.6],\n",
       "       [0. , 1. ],\n",
       "       [0.8, 0.2],\n",
       "       [0.4, 0.6],\n",
       "       [0.4, 0.6],\n",
       "       [0.4, 0.6],\n",
       "       [0.8, 0.2],\n",
       "       [0.4, 0.6],\n",
       "       [0.8, 0.2],\n",
       "       [0.8, 0.2],\n",
       "       [1. , 0. ],\n",
       "       [0.6, 0.4],\n",
       "       [0. , 1. ],\n",
       "       [0.2, 0.8],\n",
       "       [0.6, 0.4],\n",
       "       [0.8, 0.2],\n",
       "       [0.8, 0.2],\n",
       "       [0.6, 0.4],\n",
       "       [0.2, 0.8],\n",
       "       [1. , 0. ],\n",
       "       [1. , 0. ],\n",
       "       [0.4, 0.6],\n",
       "       [0. , 1. ],\n",
       "       [1. , 0. ],\n",
       "       [0. , 1. ],\n",
       "       [0.2, 0.8],\n",
       "       [0.8, 0.2],\n",
       "       [0. , 1. ],\n",
       "       [0.2, 0.8],\n",
       "       [1. , 0. ],\n",
       "       [0.2, 0.8],\n",
       "       [0. , 1. ],\n",
       "       [0.6, 0.4],\n",
       "       [0.8, 0.2],\n",
       "       [1. , 0. ],\n",
       "       [0.8, 0.2],\n",
       "       [0.6, 0.4],\n",
       "       [0.4, 0.6],\n",
       "       [0. , 1. ],\n",
       "       [1. , 0. ],\n",
       "       [0. , 1. ],\n",
       "       [0.2, 0.8],\n",
       "       [0.8, 0.2],\n",
       "       [0.8, 0.2],\n",
       "       [0.4, 0.6],\n",
       "       [0.2, 0.8],\n",
       "       [0.8, 0.2],\n",
       "       [0. , 1. ],\n",
       "       [1. , 0. ],\n",
       "       [0.2, 0.8],\n",
       "       [1. , 0. ],\n",
       "       [0.2, 0.8],\n",
       "       [0.4, 0.6],\n",
       "       [0.6, 0.4],\n",
       "       [0.2, 0.8],\n",
       "       [1. , 0. ],\n",
       "       [0.8, 0.2],\n",
       "       [0.8, 0.2],\n",
       "       [0.8, 0.2],\n",
       "       [0.4, 0.6],\n",
       "       [0.4, 0.6],\n",
       "       [0.2, 0.8],\n",
       "       [0.4, 0.6],\n",
       "       [0.8, 0.2],\n",
       "       [0.8, 0.2],\n",
       "       [0.4, 0.6],\n",
       "       [0.6, 0.4],\n",
       "       [0. , 1. ],\n",
       "       [0. , 1. ],\n",
       "       [0.8, 0.2],\n",
       "       [1. , 0. ],\n",
       "       [0.4, 0.6],\n",
       "       [0.8, 0.2],\n",
       "       [0. , 1. ],\n",
       "       [0.8, 0.2],\n",
       "       [1. , 0. ],\n",
       "       [0.8, 0.2],\n",
       "       [0.8, 0.2],\n",
       "       [0. , 1. ],\n",
       "       [0.8, 0.2],\n",
       "       [0.8, 0.2],\n",
       "       [1. , 0. ],\n",
       "       [0.2, 0.8],\n",
       "       [0.6, 0.4],\n",
       "       [0. , 1. ],\n",
       "       [0.4, 0.6],\n",
       "       [0. , 1. ],\n",
       "       [0.8, 0.2],\n",
       "       [1. , 0. ],\n",
       "       [0.2, 0.8],\n",
       "       [0. , 1. ],\n",
       "       [0. , 1. ],\n",
       "       [1. , 0. ],\n",
       "       [0. , 1. ],\n",
       "       [0. , 1. ],\n",
       "       [0.8, 0.2],\n",
       "       [0.6, 0.4],\n",
       "       [0.2, 0.8],\n",
       "       [0.8, 0.2],\n",
       "       [0. , 1. ],\n",
       "       [1. , 0. ],\n",
       "       [0.8, 0.2],\n",
       "       [0.4, 0.6],\n",
       "       [1. , 0. ],\n",
       "       [0.6, 0.4],\n",
       "       [0.6, 0.4],\n",
       "       [0.6, 0.4],\n",
       "       [0.2, 0.8],\n",
       "       [0.6, 0.4],\n",
       "       [0. , 1. ],\n",
       "       [0. , 1. ],\n",
       "       [0. , 1. ],\n",
       "       [0.8, 0.2],\n",
       "       [0.2, 0.8],\n",
       "       [0.6, 0.4],\n",
       "       [0.8, 0.2],\n",
       "       [0.2, 0.8],\n",
       "       [0. , 1. ],\n",
       "       [0.6, 0.4],\n",
       "       [0.6, 0.4],\n",
       "       [1. , 0. ],\n",
       "       [0. , 1. ],\n",
       "       [0.6, 0.4],\n",
       "       [0.4, 0.6],\n",
       "       [0.6, 0.4],\n",
       "       [0.6, 0.4],\n",
       "       [0.2, 0.8],\n",
       "       [0.8, 0.2],\n",
       "       [0. , 1. ],\n",
       "       [0.6, 0.4],\n",
       "       [0.8, 0.2],\n",
       "       [0.8, 0.2],\n",
       "       [0.6, 0.4],\n",
       "       [1. , 0. ],\n",
       "       [0.8, 0.2],\n",
       "       [0.6, 0.4],\n",
       "       [0.2, 0.8],\n",
       "       [0.2, 0.8],\n",
       "       [0. , 1. ],\n",
       "       [0. , 1. ],\n",
       "       [0.4, 0.6],\n",
       "       [0.2, 0.8],\n",
       "       [0.6, 0.4],\n",
       "       [1. , 0. ],\n",
       "       [0.8, 0.2],\n",
       "       [0.4, 0.6],\n",
       "       [0.4, 0.6],\n",
       "       [0.2, 0.8],\n",
       "       [1. , 0. ],\n",
       "       [1. , 0. ],\n",
       "       [0.4, 0.6],\n",
       "       [0.8, 0.2],\n",
       "       [0.4, 0.6],\n",
       "       [0.8, 0.2],\n",
       "       [0.8, 0.2],\n",
       "       [0. , 1. ],\n",
       "       [0.6, 0.4],\n",
       "       [1. , 0. ],\n",
       "       [0.8, 0.2],\n",
       "       [0.6, 0.4],\n",
       "       [0. , 1. ],\n",
       "       [0.2, 0.8],\n",
       "       [0.4, 0.6],\n",
       "       [0. , 1. ],\n",
       "       [0. , 1. ],\n",
       "       [0.4, 0.6],\n",
       "       [1. , 0. ],\n",
       "       [0. , 1. ],\n",
       "       [0.6, 0.4],\n",
       "       [0. , 1. ],\n",
       "       [0. , 1. ],\n",
       "       [0.8, 0.2],\n",
       "       [0.2, 0.8],\n",
       "       [0.8, 0.2],\n",
       "       [0.8, 0.2],\n",
       "       [0.8, 0.2],\n",
       "       [0. , 1. ],\n",
       "       [1. , 0. ],\n",
       "       [0.6, 0.4],\n",
       "       [0.6, 0.4],\n",
       "       [0. , 1. ],\n",
       "       [0. , 1. ],\n",
       "       [0.8, 0.2],\n",
       "       [0.2, 0.8],\n",
       "       [0.6, 0.4],\n",
       "       [1. , 0. ],\n",
       "       [1. , 0. ],\n",
       "       [0.2, 0.8],\n",
       "       [1. , 0. ],\n",
       "       [0.4, 0.6],\n",
       "       [0.2, 0.8],\n",
       "       [0.8, 0.2],\n",
       "       [0.8, 0.2],\n",
       "       [0. , 1. ],\n",
       "       [0.6, 0.4],\n",
       "       [0.6, 0.4],\n",
       "       [0.6, 0.4],\n",
       "       [0.4, 0.6],\n",
       "       [0.4, 0.6],\n",
       "       [0.2, 0.8],\n",
       "       [0.4, 0.6],\n",
       "       [0.8, 0.2],\n",
       "       [0.2, 0.8],\n",
       "       [0.8, 0.2],\n",
       "       [0.2, 0.8],\n",
       "       [0.2, 0.8],\n",
       "       [0. , 1. ],\n",
       "       [0.8, 0.2],\n",
       "       [0.2, 0.8],\n",
       "       [0.8, 0.2],\n",
       "       [0. , 1. ],\n",
       "       [0. , 1. ],\n",
       "       [0.8, 0.2],\n",
       "       [0.6, 0.4],\n",
       "       [0.6, 0.4],\n",
       "       [0.4, 0.6],\n",
       "       [0.6, 0.4],\n",
       "       [0. , 1. ],\n",
       "       [0. , 1. ],\n",
       "       [0. , 1. ],\n",
       "       [0. , 1. ],\n",
       "       [0.4, 0.6],\n",
       "       [0.6, 0.4],\n",
       "       [0.6, 0.4],\n",
       "       [0.4, 0.6],\n",
       "       [0.2, 0.8],\n",
       "       [0.6, 0.4],\n",
       "       [0.6, 0.4],\n",
       "       [0.6, 0.4],\n",
       "       [0. , 1. ],\n",
       "       [0.6, 0.4],\n",
       "       [0.6, 0.4],\n",
       "       [0. , 1. ],\n",
       "       [0.2, 0.8],\n",
       "       [0.4, 0.6],\n",
       "       [0.2, 0.8],\n",
       "       [0.6, 0.4],\n",
       "       [0.6, 0.4],\n",
       "       [0.6, 0.4],\n",
       "       [0.2, 0.8],\n",
       "       [0.6, 0.4],\n",
       "       [0. , 1. ],\n",
       "       [0.6, 0.4],\n",
       "       [0.4, 0.6],\n",
       "       [1. , 0. ],\n",
       "       [0. , 1. ],\n",
       "       [0.6, 0.4],\n",
       "       [0.8, 0.2],\n",
       "       [0.2, 0.8],\n",
       "       [0.6, 0.4],\n",
       "       [1. , 0. ],\n",
       "       [1. , 0. ],\n",
       "       [0.4, 0.6],\n",
       "       [0. , 1. ],\n",
       "       [0.2, 0.8],\n",
       "       [0.6, 0.4],\n",
       "       [0.4, 0.6],\n",
       "       [0.8, 0.2],\n",
       "       [0.2, 0.8],\n",
       "       [0.2, 0.8],\n",
       "       [0.8, 0.2],\n",
       "       [0.6, 0.4],\n",
       "       [1. , 0. ],\n",
       "       [0.8, 0.2],\n",
       "       [0.4, 0.6],\n",
       "       [0.4, 0.6],\n",
       "       [0.8, 0.2],\n",
       "       [0. , 1. ],\n",
       "       [0. , 1. ],\n",
       "       [0. , 1. ]])"
      ]
     },
     "execution_count": 22,
     "metadata": {},
     "output_type": "execute_result"
    }
   ],
   "source": [
    "# Obter a previsões da probabilidade\n",
    "#Note que ele retorna  probabilidade da classe 0 e 1 respectivamente\n",
    "knc_previsoes_prob = knc.predict_proba(X_teste)\n",
    "knc_previsoes_prob"
   ]
  },
  {
   "cell_type": "markdown",
   "metadata": {},
   "source": [
    "### Matriz de Confusão "
   ]
  },
  {
   "cell_type": "code",
   "execution_count": 23,
   "metadata": {},
   "outputs": [
    {
     "data": {
      "image/png": "[encoded data removed]",
      "text/plain": [
       "<Figure size 576x396 with 2 Axes>"
      ]
     },
     "metadata": {},
     "output_type": "display_data"
    }
   ],
   "source": [
    "sns.heatmap(confusion_matrix(y_teste, knc_previsoes), cmap='OrRd', annot=True, fmt='2.0f')\n",
    "plt.title('Regressão Logística')\n",
    "plt.ylabel('P R E V I S T O')\n",
    "plt.xlabel('R E A L')\n",
    "plt.show()"
   ]
  },
  {
   "cell_type": "code",
   "execution_count": 24,
   "metadata": {},
   "outputs": [
    {
     "name": "stdout",
     "output_type": "stream",
     "text": [
      "Acurácia:0.8\n",
      "Precisão:0.81\n",
      "Recall ou Sensibilidade:0.79\n",
      "F1-Score:0.8\n",
      "Kappa:0.6\n",
      "Curva ROC:0.8\n"
     ]
    }
   ],
   "source": [
    "#Acurácia, Sensibilidade positiva (VP/(VP+FN),  Precisão, Recall, F1-Score\n",
    "acuracia = accuracy_score(y_teste,knc_previsoes)\n",
    "precisao = precision_score(y_teste,knc_previsoes)\n",
    "recall = recall_score(y_teste,knc_previsoes)\n",
    "f1Score = f1_score(y_teste,knc_previsoes)\n",
    "knc_curva_roc = roc_auc_score(y_teste,knc_previsoes)\n",
    "kappa = cohen_kappa_score(y_teste,knc_previsoes)\n",
    "print(f'Acurácia:{round(acuracia,2)}')\n",
    "print(f'Precisão:{round(precisao,2)}')\n",
    "print(f'Recall ou Sensibilidade:{round(recall,2)}')\n",
    "print(f'F1-Score:{round(f1Score,2)}')\n",
    "print(f'Kappa:{round(kappa,2)}')\n",
    "print(f'Curva ROC:{round(knc_curva_roc,2)}')"
   ]
  },
  {
   "cell_type": "code",
   "execution_count": 25,
   "metadata": {},
   "outputs": [
    {
     "name": "stdout",
     "output_type": "stream",
     "text": [
      "              precision    recall  f1-score   support\n",
      "\n",
      "           0       0.79      0.81      0.80       150\n",
      "           1       0.81      0.79      0.80       150\n",
      "\n",
      "    accuracy                           0.80       300\n",
      "   macro avg       0.80      0.80      0.80       300\n",
      "weighted avg       0.80      0.80      0.80       300\n",
      "\n"
     ]
    }
   ],
   "source": [
    "print(classification_report(y_teste, knc.predict(X_teste)))"
   ]
  },
  {
   "cell_type": "markdown",
   "metadata": {},
   "source": [
    "### Curva ROC "
   ]
  },
  {
   "cell_type": "code",
   "execution_count": 26,
   "metadata": {},
   "outputs": [
    {
     "data": {
      "image/png": "[encoded data removed]",
      "text/plain": [
       "<Figure size 576x396 with 1 Axes>"
      ]
     },
     "metadata": {},
     "output_type": "display_data"
    }
   ],
   "source": [
    "knc_fp,knc_vp,lim1 = roc_curve(y_teste,knc_previsoes)\n",
    "plt.plot(knc_fp,knc_vp, marker='.', label='KNN='+str(round(knc_curva_roc,2)),color=\"orange\")\n",
    "plt.plot([0, 1], [0, 1], color='black', linestyle='--')\n",
    "# alterando o nome dos eixos\n",
    "plt.xlabel('1- Especificidade')\n",
    "plt.ylabel('Sensibilidade')\n",
    "# Legenda\n",
    "plt.legend()\n",
    "# Mostrando o gráfico\n",
    "plt.show()\n",
    "#fig.savefig(\"images/mlpr_0305.png\")"
   ]
  },
  {
   "cell_type": "code",
   "execution_count": 27,
   "metadata": {},
   "outputs": [
    {
     "data": {
      "image/png": "[encoded data removed]",
      "text/plain": [
       "<Figure size 576x396 with 1 Axes>"
      ]
     },
     "metadata": {},
     "output_type": "display_data"
    }
   ],
   "source": [
    "#Aqui estamos pegando apenas da classe 1\n",
    "knc_probs = knc_previsoes_prob[:,1]\n",
    "knc_fp,knc_vp,lim1 = roc_curve(y_teste,knc_probs)\n",
    "plt.plot(knc_fp,knc_vp, marker='.', label='KNN',color=\"orange\")\n",
    "plt.plot([0, 1], [0, 1], color='black', linestyle='--')\n",
    "# alterando o nome dos eixos\n",
    "plt.xlabel('1- Especificidade')\n",
    "plt.ylabel('Sensibilidade')\n",
    "# Legenda\n",
    "plt.legend()\n",
    "# Mostrando o gráfico\n",
    "plt.show()\n",
    "#fig.savefig(\"images/mlpr_0305.png\")"
   ]
  },
  {
   "cell_type": "code",
   "execution_count": 28,
   "metadata": {},
   "outputs": [
    {
     "data": {
      "text/html": [
       "<div>\n",
       "<style scoped>\n",
       "    .dataframe tbody tr th:only-of-type {\n",
       "        vertical-align: middle;\n",
       "    }\n",
       "\n",
       "    .dataframe tbody tr th {\n",
       "        vertical-align: top;\n",
       "    }\n",
       "\n",
       "    .dataframe thead th {\n",
       "        text-align: right;\n",
       "    }\n",
       "</style>\n",
       "<table border=\"1\" class=\"dataframe\">\n",
       "  <thead>\n",
       "    <tr style=\"text-align: right;\">\n",
       "      <th></th>\n",
       "      <th>classe</th>\n",
       "      <th>idade</th>\n",
       "      <th>irmaos_conjuge</th>\n",
       "      <th>pais_filhos</th>\n",
       "      <th>tarifa</th>\n",
       "      <th>sexo_female</th>\n",
       "      <th>sexo_male</th>\n",
       "      <th>embarque_24.0</th>\n",
       "      <th>embarque_C</th>\n",
       "      <th>embarque_Q</th>\n",
       "      <th>embarque_S</th>\n",
       "    </tr>\n",
       "  </thead>\n",
       "  <tbody>\n",
       "    <tr>\n",
       "      <th>521</th>\n",
       "      <td>0.0</td>\n",
       "      <td>0.373695</td>\n",
       "      <td>0.000</td>\n",
       "      <td>0.000000</td>\n",
       "      <td>0.278075</td>\n",
       "      <td>0.0</td>\n",
       "      <td>1.0</td>\n",
       "      <td>0.0</td>\n",
       "      <td>0.0</td>\n",
       "      <td>0.0</td>\n",
       "      <td>1.0</td>\n",
       "    </tr>\n",
       "    <tr>\n",
       "      <th>737</th>\n",
       "      <td>0.5</td>\n",
       "      <td>0.311064</td>\n",
       "      <td>0.000</td>\n",
       "      <td>0.000000</td>\n",
       "      <td>0.112299</td>\n",
       "      <td>0.0</td>\n",
       "      <td>1.0</td>\n",
       "      <td>0.0</td>\n",
       "      <td>0.0</td>\n",
       "      <td>0.0</td>\n",
       "      <td>1.0</td>\n",
       "    </tr>\n",
       "    <tr>\n",
       "      <th>740</th>\n",
       "      <td>0.5</td>\n",
       "      <td>0.874739</td>\n",
       "      <td>0.000</td>\n",
       "      <td>0.000000</td>\n",
       "      <td>0.112299</td>\n",
       "      <td>0.0</td>\n",
       "      <td>1.0</td>\n",
       "      <td>0.0</td>\n",
       "      <td>0.0</td>\n",
       "      <td>0.0</td>\n",
       "      <td>1.0</td>\n",
       "    </tr>\n",
       "    <tr>\n",
       "      <th>660</th>\n",
       "      <td>1.0</td>\n",
       "      <td>0.035490</td>\n",
       "      <td>0.125</td>\n",
       "      <td>0.000000</td>\n",
       "      <td>0.068850</td>\n",
       "      <td>0.0</td>\n",
       "      <td>1.0</td>\n",
       "      <td>0.0</td>\n",
       "      <td>1.0</td>\n",
       "      <td>0.0</td>\n",
       "      <td>0.0</td>\n",
       "    </tr>\n",
       "    <tr>\n",
       "      <th>411</th>\n",
       "      <td>1.0</td>\n",
       "      <td>0.323591</td>\n",
       "      <td>0.000</td>\n",
       "      <td>0.000000</td>\n",
       "      <td>0.604233</td>\n",
       "      <td>0.0</td>\n",
       "      <td>1.0</td>\n",
       "      <td>0.0</td>\n",
       "      <td>0.0</td>\n",
       "      <td>0.0</td>\n",
       "      <td>1.0</td>\n",
       "    </tr>\n",
       "    <tr>\n",
       "      <th>...</th>\n",
       "      <td>...</td>\n",
       "      <td>...</td>\n",
       "      <td>...</td>\n",
       "      <td>...</td>\n",
       "      <td>...</td>\n",
       "      <td>...</td>\n",
       "      <td>...</td>\n",
       "      <td>...</td>\n",
       "      <td>...</td>\n",
       "      <td>...</td>\n",
       "      <td>...</td>\n",
       "    </tr>\n",
       "    <tr>\n",
       "      <th>468</th>\n",
       "      <td>1.0</td>\n",
       "      <td>0.398747</td>\n",
       "      <td>0.000</td>\n",
       "      <td>0.000000</td>\n",
       "      <td>0.086096</td>\n",
       "      <td>0.0</td>\n",
       "      <td>1.0</td>\n",
       "      <td>0.0</td>\n",
       "      <td>0.0</td>\n",
       "      <td>0.0</td>\n",
       "      <td>1.0</td>\n",
       "    </tr>\n",
       "    <tr>\n",
       "      <th>935</th>\n",
       "      <td>1.0</td>\n",
       "      <td>0.323591</td>\n",
       "      <td>0.000</td>\n",
       "      <td>0.000000</td>\n",
       "      <td>0.084447</td>\n",
       "      <td>0.0</td>\n",
       "      <td>1.0</td>\n",
       "      <td>0.0</td>\n",
       "      <td>0.0</td>\n",
       "      <td>0.0</td>\n",
       "      <td>1.0</td>\n",
       "    </tr>\n",
       "    <tr>\n",
       "      <th>428</th>\n",
       "      <td>1.0</td>\n",
       "      <td>0.035490</td>\n",
       "      <td>0.000</td>\n",
       "      <td>0.000000</td>\n",
       "      <td>0.084270</td>\n",
       "      <td>1.0</td>\n",
       "      <td>0.0</td>\n",
       "      <td>0.0</td>\n",
       "      <td>0.0</td>\n",
       "      <td>1.0</td>\n",
       "      <td>0.0</td>\n",
       "    </tr>\n",
       "    <tr>\n",
       "      <th>7</th>\n",
       "      <td>0.0</td>\n",
       "      <td>0.323591</td>\n",
       "      <td>0.000</td>\n",
       "      <td>0.000000</td>\n",
       "      <td>0.843316</td>\n",
       "      <td>1.0</td>\n",
       "      <td>0.0</td>\n",
       "      <td>0.0</td>\n",
       "      <td>0.0</td>\n",
       "      <td>0.0</td>\n",
       "      <td>1.0</td>\n",
       "    </tr>\n",
       "    <tr>\n",
       "      <th>155</th>\n",
       "      <td>0.0</td>\n",
       "      <td>0.260960</td>\n",
       "      <td>0.250</td>\n",
       "      <td>0.222222</td>\n",
       "      <td>0.154590</td>\n",
       "      <td>1.0</td>\n",
       "      <td>0.0</td>\n",
       "      <td>0.0</td>\n",
       "      <td>1.0</td>\n",
       "      <td>0.0</td>\n",
       "      <td>0.0</td>\n",
       "    </tr>\n",
       "  </tbody>\n",
       "</table>\n",
       "<p>300 rows × 11 columns</p>\n",
       "</div>"
      ],
      "text/plain": [
       "     classe     idade  irmaos_conjuge  pais_filhos    tarifa  sexo_female  \\\n",
       "521     0.0  0.373695           0.000     0.000000  0.278075          0.0   \n",
       "737     0.5  0.311064           0.000     0.000000  0.112299          0.0   \n",
       "740     0.5  0.874739           0.000     0.000000  0.112299          0.0   \n",
       "660     1.0  0.035490           0.125     0.000000  0.068850          0.0   \n",
       "411     1.0  0.323591           0.000     0.000000  0.604233          0.0   \n",
       "..      ...       ...             ...          ...       ...          ...   \n",
       "468     1.0  0.398747           0.000     0.000000  0.086096          0.0   \n",
       "935     1.0  0.323591           0.000     0.000000  0.084447          0.0   \n",
       "428     1.0  0.035490           0.000     0.000000  0.084270          1.0   \n",
       "7       0.0  0.323591           0.000     0.000000  0.843316          1.0   \n",
       "155     0.0  0.260960           0.250     0.222222  0.154590          1.0   \n",
       "\n",
       "     sexo_male  embarque_24.0  embarque_C  embarque_Q  embarque_S  \n",
       "521        1.0            0.0         0.0         0.0         1.0  \n",
       "737        1.0            0.0         0.0         0.0         1.0  \n",
       "740        1.0            0.0         0.0         0.0         1.0  \n",
       "660        1.0            0.0         1.0         0.0         0.0  \n",
       "411        1.0            0.0         0.0         0.0         1.0  \n",
       "..         ...            ...         ...         ...         ...  \n",
       "468        1.0            0.0         0.0         0.0         1.0  \n",
       "935        1.0            0.0         0.0         0.0         1.0  \n",
       "428        0.0            0.0         0.0         1.0         0.0  \n",
       "7          0.0            0.0         0.0         0.0         1.0  \n",
       "155        0.0            0.0         1.0         0.0         0.0  \n",
       "\n",
       "[300 rows x 11 columns]"
      ]
     },
     "execution_count": 28,
     "metadata": {},
     "output_type": "execute_result"
    }
   ],
   "source": [
    "X_teste"
   ]
  },
  {
   "cell_type": "code",
   "execution_count": 29,
   "metadata": {},
   "outputs": [
    {
     "data": {
      "text/plain": [
       "array([1], dtype=int64)"
      ]
     },
     "execution_count": 29,
     "metadata": {},
     "output_type": "execute_result"
    }
   ],
   "source": [
    "knc_previsoes_1 = knc.predict(X_teste[:1])\n",
    "knc_previsoes_1"
   ]
  },
  {
   "cell_type": "code",
   "execution_count": 30,
   "metadata": {},
   "outputs": [
    {
     "data": {
      "text/plain": [
       "array([[0.2, 0.8]])"
      ]
     },
     "execution_count": 30,
     "metadata": {},
     "output_type": "execute_result"
    }
   ],
   "source": [
    "knc_previsoes_1 = knc.predict_proba(X_teste[:1])\n",
    "knc_previsoes_1"
   ]
  },
  {
   "cell_type": "markdown",
   "metadata": {},
   "source": [
    "##### OBS: Note that in binary classification, recall of the positive class is also known as “sensitivity”; recall of the negative class is “specificity”"
   ]
  },
  {
   "cell_type": "markdown",
   "metadata": {},
   "source": [
    "## Decision Tree - Árvore de decisão\n",
    "Harrison, Matt. Machine Learning – Guia de Referência Rápida (p. 120). Novatec Editora. Edição do Kindle. \n",
    "\n",
    "* É como ir a um médico que faz uma série de perguntas a fim de determinar a causa de seus sintomas;\n",
    "* Podemos usar um processo para criar uma árvore de decisão e ter uma série de perguntas para prever uma classe alvo;\n",
    "* As vantagens desse modelo incluem suporte para dados não numéricos (em algumas implementações);\n",
    "* Pouca preparação dos dados (não há necessidade de escalar); \n",
    "* Suporte para lidar com relacionamentos não lineares;\n",
    "* A importância dos atributos é revelada e é fácil de explicar;\n",
    "\n",
    "Algumas propriedades de uma árvore de decisão:\n",
    "* Eficiência na execução:\n",
    "  * Para a criação, percorre cada um dos m atributos e ordena todas as n amostras, O(mn log n); \n",
    "  * Para predição, você percorrerá a árvore, O(altura);\n",
    "* Pré-processamento dos dados:\n",
    "  * Não é necessário escalar. É preciso se livrar dos valores ausentes e convertê-los em dados numéricos;\n",
    "* Para evitar uma superadequação: \n",
    "  * Defina max_depth com um número menor e aumente min_impurity_decrease;\n",
    "* Interpretação dos resultados:\n",
    "  * É possível percorrer a árvore de opções;\n",
    "  * Por haver passos, uma árvore é ruim para lidar com relacionamentos lineares (uma pequena mudança em um número pode \n",
    "    levar a um caminho diferente). \n",
    "  * A árvore também é extremamente dependente dos dados de treinamento; \n",
    "  * Uma pequena mudança pode modificar a árvore toda."
   ]
  },
  {
   "cell_type": "markdown",
   "metadata": {},
   "source": [
    "<img src=\"arvores_decisao.png\" width=\"400px\" align=\"left\"><br>"
   ]
  },
  {
   "cell_type": "code",
   "execution_count": 31,
   "metadata": {},
   "outputs": [],
   "source": [
    "from sklearn.tree import DecisionTreeClassifier"
   ]
  },
  {
   "cell_type": "code",
   "execution_count": 32,
   "metadata": {},
   "outputs": [],
   "source": [
    "#Importar\n",
    "from sklearn.naive_bayes import GaussianNB"
   ]
  },
  {
   "cell_type": "code",
   "execution_count": 33,
   "metadata": {},
   "outputs": [],
   "source": [
    "#Vamos instanciar\n",
    "#O padrão do max_depth é 0\n",
    "dt = DecisionTreeClassifier(random_state=42, max_depth=3)"
   ]
  },
  {
   "cell_type": "code",
   "execution_count": 34,
   "metadata": {},
   "outputs": [
    {
     "data": {
      "text/html": [
       "<style>#sk-container-id-3 {color: black;background-color: white;}#sk-container-id-3 pre{padding: 0;}#sk-container-id-3 div.sk-toggleable {background-color: white;}#sk-container-id-3 label.sk-toggleable__label {cursor: pointer;display: block;width: 100%;margin-bottom: 0;padding: 0.3em;box-sizing: border-box;text-align: center;}#sk-container-id-3 label.sk-toggleable__label-arrow:before {content: \"▸\";float: left;margin-right: 0.25em;color: #696969;}#sk-container-id-3 label.sk-toggleable__label-arrow:hover:before {color: black;}#sk-container-id-3 div.sk-estimator:hover label.sk-toggleable__label-arrow:before {color: black;}#sk-container-id-3 div.sk-toggleable__content {max-height: 0;max-width: 0;overflow: hidden;text-align: left;background-color: #f0f8ff;}#sk-container-id-3 div.sk-toggleable__content pre {margin: 0.2em;color: black;border-radius: 0.25em;background-color: #f0f8ff;}#sk-container-id-3 input.sk-toggleable__control:checked~div.sk-toggleable__content {max-height: 200px;max-width: 100%;overflow: auto;}#sk-container-id-3 input.sk-toggleable__control:checked~label.sk-toggleable__label-arrow:before {content: \"▾\";}#sk-container-id-3 div.sk-estimator input.sk-toggleable__control:checked~label.sk-toggleable__label {background-color: #d4ebff;}#sk-container-id-3 div.sk-label input.sk-toggleable__control:checked~label.sk-toggleable__label {background-color: #d4ebff;}#sk-container-id-3 input.sk-hidden--visually {border: 0;clip: rect(1px 1px 1px 1px);clip: rect(1px, 1px, 1px, 1px);height: 1px;margin: -1px;overflow: hidden;padding: 0;position: absolute;width: 1px;}#sk-container-id-3 div.sk-estimator {font-family: monospace;background-color: #f0f8ff;border: 1px dotted black;border-radius: 0.25em;box-sizing: border-box;margin-bottom: 0.5em;}#sk-container-id-3 div.sk-estimator:hover {background-color: #d4ebff;}#sk-container-id-3 div.sk-parallel-item::after {content: \"\";width: 100%;border-bottom: 1px solid gray;flex-grow: 1;}#sk-container-id-3 div.sk-label:hover label.sk-toggleable__label {background-color: #d4ebff;}#sk-container-id-3 div.sk-serial::before {content: \"\";position: absolute;border-left: 1px solid gray;box-sizing: border-box;top: 0;bottom: 0;left: 50%;z-index: 0;}#sk-container-id-3 div.sk-serial {display: flex;flex-direction: column;align-items: center;background-color: white;padding-right: 0.2em;padding-left: 0.2em;position: relative;}#sk-container-id-3 div.sk-item {position: relative;z-index: 1;}#sk-container-id-3 div.sk-parallel {display: flex;align-items: stretch;justify-content: center;background-color: white;position: relative;}#sk-container-id-3 div.sk-item::before, #sk-container-id-3 div.sk-parallel-item::before {content: \"\";position: absolute;border-left: 1px solid gray;box-sizing: border-box;top: 0;bottom: 0;left: 50%;z-index: -1;}#sk-container-id-3 div.sk-parallel-item {display: flex;flex-direction: column;z-index: 1;position: relative;background-color: white;}#sk-container-id-3 div.sk-parallel-item:first-child::after {align-self: flex-end;width: 50%;}#sk-container-id-3 div.sk-parallel-item:last-child::after {align-self: flex-start;width: 50%;}#sk-container-id-3 div.sk-parallel-item:only-child::after {width: 0;}#sk-container-id-3 div.sk-dashed-wrapped {border: 1px dashed gray;margin: 0 0.4em 0.5em 0.4em;box-sizing: border-box;padding-bottom: 0.4em;background-color: white;}#sk-container-id-3 div.sk-label label {font-family: monospace;font-weight: bold;display: inline-block;line-height: 1.2em;}#sk-container-id-3 div.sk-label-container {text-align: center;}#sk-container-id-3 div.sk-container {/* jupyter's `normalize.less` sets `[hidden] { display: none; }` but bootstrap.min.css set `[hidden] { display: none !important; }` so we also need the `!important` here to be able to override the default hidden behavior on the sphinx rendered scikit-learn.org. See: https://github.com/scikit-learn/scikit-learn/issues/21755 */display: inline-block !important;position: relative;}#sk-container-id-3 div.sk-text-repr-fallback {display: none;}</style><div id=\"sk-container-id-3\" class=\"sk-top-container\"><div class=\"sk-text-repr-fallback\"><pre>DecisionTreeClassifier(max_depth=3, random_state=42)</pre><b>In a Jupyter environment, please rerun this cell to show the HTML representation or trust the notebook. <br />On GitHub, the HTML representation is unable to render, please try loading this page with nbviewer.org.</b></div><div class=\"sk-container\" hidden><div class=\"sk-item\"><div class=\"sk-estimator sk-toggleable\"><input class=\"sk-toggleable__control sk-hidden--visually\" id=\"sk-estimator-id-3\" type=\"checkbox\" checked><label for=\"sk-estimator-id-3\" class=\"sk-toggleable__label sk-toggleable__label-arrow\">DecisionTreeClassifier</label><div class=\"sk-toggleable__content\"><pre>DecisionTreeClassifier(max_depth=3, random_state=42)</pre></div></div></div></div></div>"
      ],
      "text/plain": [
       "DecisionTreeClassifier(max_depth=3, random_state=42)"
      ]
     },
     "execution_count": 34,
     "metadata": {},
     "output_type": "execute_result"
    }
   ],
   "source": [
    "#Treinar\n",
    "dt.fit(X_treino, y_treino) "
   ]
  },
  {
   "cell_type": "code",
   "execution_count": 35,
   "metadata": {},
   "outputs": [
    {
     "data": {
      "text/plain": [
       "0.7733333333333333"
      ]
     },
     "execution_count": 35,
     "metadata": {},
     "output_type": "execute_result"
    }
   ],
   "source": [
    "dt.score(X_teste, y_teste)"
   ]
  },
  {
   "cell_type": "code",
   "execution_count": 36,
   "metadata": {},
   "outputs": [],
   "source": [
    "#min_impurity_split=None foi implementado até a versão 0.23.2 \n",
    "#presort foi descontinuado foi implementado até a versão 0.23.2 \n",
    "dt = DecisionTreeClassifier(class_weight=None, criterion='gini', max_depth=3, max_features=None, \n",
    "                            max_leaf_nodes=None, min_impurity_decrease=0.0, \n",
    "                            min_samples_leaf=1, min_samples_split=2, min_weight_fraction_leaf=0.0, \n",
    "                            random_state=42, splitter='best')\n",
    "#Obs: Não quer dizer que quanto maio  a profundidade (max_depth) você terá um maior desempenho"
   ]
  },
  {
   "cell_type": "code",
   "execution_count": 37,
   "metadata": {},
   "outputs": [
    {
     "data": {
      "text/html": [
       "<style>#sk-container-id-4 {color: black;background-color: white;}#sk-container-id-4 pre{padding: 0;}#sk-container-id-4 div.sk-toggleable {background-color: white;}#sk-container-id-4 label.sk-toggleable__label {cursor: pointer;display: block;width: 100%;margin-bottom: 0;padding: 0.3em;box-sizing: border-box;text-align: center;}#sk-container-id-4 label.sk-toggleable__label-arrow:before {content: \"▸\";float: left;margin-right: 0.25em;color: #696969;}#sk-container-id-4 label.sk-toggleable__label-arrow:hover:before {color: black;}#sk-container-id-4 div.sk-estimator:hover label.sk-toggleable__label-arrow:before {color: black;}#sk-container-id-4 div.sk-toggleable__content {max-height: 0;max-width: 0;overflow: hidden;text-align: left;background-color: #f0f8ff;}#sk-container-id-4 div.sk-toggleable__content pre {margin: 0.2em;color: black;border-radius: 0.25em;background-color: #f0f8ff;}#sk-container-id-4 input.sk-toggleable__control:checked~div.sk-toggleable__content {max-height: 200px;max-width: 100%;overflow: auto;}#sk-container-id-4 input.sk-toggleable__control:checked~label.sk-toggleable__label-arrow:before {content: \"▾\";}#sk-container-id-4 div.sk-estimator input.sk-toggleable__control:checked~label.sk-toggleable__label {background-color: #d4ebff;}#sk-container-id-4 div.sk-label input.sk-toggleable__control:checked~label.sk-toggleable__label {background-color: #d4ebff;}#sk-container-id-4 input.sk-hidden--visually {border: 0;clip: rect(1px 1px 1px 1px);clip: rect(1px, 1px, 1px, 1px);height: 1px;margin: -1px;overflow: hidden;padding: 0;position: absolute;width: 1px;}#sk-container-id-4 div.sk-estimator {font-family: monospace;background-color: #f0f8ff;border: 1px dotted black;border-radius: 0.25em;box-sizing: border-box;margin-bottom: 0.5em;}#sk-container-id-4 div.sk-estimator:hover {background-color: #d4ebff;}#sk-container-id-4 div.sk-parallel-item::after {content: \"\";width: 100%;border-bottom: 1px solid gray;flex-grow: 1;}#sk-container-id-4 div.sk-label:hover label.sk-toggleable__label {background-color: #d4ebff;}#sk-container-id-4 div.sk-serial::before {content: \"\";position: absolute;border-left: 1px solid gray;box-sizing: border-box;top: 0;bottom: 0;left: 50%;z-index: 0;}#sk-container-id-4 div.sk-serial {display: flex;flex-direction: column;align-items: center;background-color: white;padding-right: 0.2em;padding-left: 0.2em;position: relative;}#sk-container-id-4 div.sk-item {position: relative;z-index: 1;}#sk-container-id-4 div.sk-parallel {display: flex;align-items: stretch;justify-content: center;background-color: white;position: relative;}#sk-container-id-4 div.sk-item::before, #sk-container-id-4 div.sk-parallel-item::before {content: \"\";position: absolute;border-left: 1px solid gray;box-sizing: border-box;top: 0;bottom: 0;left: 50%;z-index: -1;}#sk-container-id-4 div.sk-parallel-item {display: flex;flex-direction: column;z-index: 1;position: relative;background-color: white;}#sk-container-id-4 div.sk-parallel-item:first-child::after {align-self: flex-end;width: 50%;}#sk-container-id-4 div.sk-parallel-item:last-child::after {align-self: flex-start;width: 50%;}#sk-container-id-4 div.sk-parallel-item:only-child::after {width: 0;}#sk-container-id-4 div.sk-dashed-wrapped {border: 1px dashed gray;margin: 0 0.4em 0.5em 0.4em;box-sizing: border-box;padding-bottom: 0.4em;background-color: white;}#sk-container-id-4 div.sk-label label {font-family: monospace;font-weight: bold;display: inline-block;line-height: 1.2em;}#sk-container-id-4 div.sk-label-container {text-align: center;}#sk-container-id-4 div.sk-container {/* jupyter's `normalize.less` sets `[hidden] { display: none; }` but bootstrap.min.css set `[hidden] { display: none !important; }` so we also need the `!important` here to be able to override the default hidden behavior on the sphinx rendered scikit-learn.org. See: https://github.com/scikit-learn/scikit-learn/issues/21755 */display: inline-block !important;position: relative;}#sk-container-id-4 div.sk-text-repr-fallback {display: none;}</style><div id=\"sk-container-id-4\" class=\"sk-top-container\"><div class=\"sk-text-repr-fallback\"><pre>DecisionTreeClassifier(max_depth=3, random_state=42)</pre><b>In a Jupyter environment, please rerun this cell to show the HTML representation or trust the notebook. <br />On GitHub, the HTML representation is unable to render, please try loading this page with nbviewer.org.</b></div><div class=\"sk-container\" hidden><div class=\"sk-item\"><div class=\"sk-estimator sk-toggleable\"><input class=\"sk-toggleable__control sk-hidden--visually\" id=\"sk-estimator-id-4\" type=\"checkbox\" checked><label for=\"sk-estimator-id-4\" class=\"sk-toggleable__label sk-toggleable__label-arrow\">DecisionTreeClassifier</label><div class=\"sk-toggleable__content\"><pre>DecisionTreeClassifier(max_depth=3, random_state=42)</pre></div></div></div></div></div>"
      ],
      "text/plain": [
       "DecisionTreeClassifier(max_depth=3, random_state=42)"
      ]
     },
     "execution_count": 37,
     "metadata": {},
     "output_type": "execute_result"
    }
   ],
   "source": [
    "#Treinar\n",
    "dt.fit(X_treino, y_treino) "
   ]
  },
  {
   "cell_type": "code",
   "execution_count": 38,
   "metadata": {},
   "outputs": [
    {
     "data": {
      "text/plain": [
       "0.7733333333333333"
      ]
     },
     "execution_count": 38,
     "metadata": {},
     "output_type": "execute_result"
    }
   ],
   "source": [
    "dt.score(X_teste, y_teste)"
   ]
  },
  {
   "cell_type": "markdown",
   "metadata": {},
   "source": [
    "### Cross Validation. ou Validação Cruzada é uma técnica para avaliar a capacidade de generalização de um modelo,  a partir de um conjunto de dados."
   ]
  },
  {
   "cell_type": "code",
   "execution_count": 39,
   "metadata": {},
   "outputs": [
    {
     "name": "stdout",
     "output_type": "stream",
     "text": [
      "Scores = [0.8  0.79 0.75 0.77 0.76 0.73 0.66 0.66 0.65 0.71]\n",
      "Média dos Scores = 0.728\n"
     ]
    }
   ],
   "source": [
    "cv_scores = cross_val_score(dt,X,y, cv=10, scoring='accuracy')\n",
    "print(f'Scores = {cv_scores}')\n",
    "print(f'Média dos Scores = {cv_scores.mean()}')"
   ]
  },
  {
   "cell_type": "code",
   "execution_count": 40,
   "metadata": {},
   "outputs": [
    {
     "data": {
      "text/plain": [
       "array([1, 0, 0, 0, 0, 0, 1, 1, 1, 1, 1, 1, 0, 0, 0, 0, 1, 0, 1, 1, 0, 1,\n",
       "       0, 0, 1, 1, 0, 0, 0, 0, 1, 1, 0, 1, 1, 1, 0, 1, 0, 0, 1, 0, 1, 0,\n",
       "       1, 0, 0, 0, 1, 0, 0, 0, 1, 0, 1, 1, 1, 1, 1, 0, 1, 1, 0, 0, 0, 0,\n",
       "       0, 0, 1, 0, 1, 1, 0, 0, 1, 1, 0, 1, 0, 1, 0, 1, 0, 0, 1, 0, 0, 0,\n",
       "       0, 1, 1, 1, 1, 0, 0, 0, 0, 1, 1, 0, 0, 0, 0, 1, 0, 0, 0, 0, 1, 0,\n",
       "       0, 0, 1, 0, 1, 0, 1, 0, 0, 1, 1, 1, 1, 1, 1, 0, 1, 1, 0, 1, 0, 0,\n",
       "       1, 0, 1, 1, 1, 1, 1, 1, 1, 1, 0, 1, 1, 0, 1, 1, 0, 0, 0, 1, 0, 1,\n",
       "       0, 0, 1, 0, 1, 0, 0, 0, 0, 0, 0, 0, 1, 1, 1, 1, 1, 1, 0, 0, 0, 1,\n",
       "       1, 1, 0, 0, 1, 0, 1, 0, 0, 1, 1, 0, 0, 0, 1, 1, 1, 1, 1, 0, 0, 1,\n",
       "       0, 1, 1, 1, 0, 0, 0, 0, 1, 0, 1, 0, 1, 1, 0, 1, 0, 0, 0, 1, 0, 1,\n",
       "       1, 0, 0, 1, 0, 1, 0, 0, 1, 1, 1, 0, 1, 0, 1, 1, 1, 0, 1, 0, 1, 1,\n",
       "       0, 1, 1, 1, 0, 1, 1, 1, 1, 1, 1, 0, 0, 1, 0, 0, 0, 1, 1, 0, 1, 1,\n",
       "       1, 1, 1, 0, 1, 0, 0, 1, 0, 1, 0, 1, 0, 0, 1, 0, 0, 0, 1, 1, 1, 1,\n",
       "       1, 0, 1, 1, 0, 0, 0, 0, 1, 0, 0, 1, 1, 1], dtype=int64)"
      ]
     },
     "execution_count": 40,
     "metadata": {},
     "output_type": "execute_result"
    }
   ],
   "source": [
    "#Obter a previsões\n",
    "dt_previsoes = dt.predict(X_teste)\n",
    "dt_previsoes"
   ]
  },
  {
   "cell_type": "code",
   "execution_count": 41,
   "metadata": {},
   "outputs": [
    {
     "data": {
      "text/plain": [
       "array([[0.4516129 , 0.5483871 ],\n",
       "       [0.78114478, 0.21885522],\n",
       "       [0.78114478, 0.21885522],\n",
       "       [0.78114478, 0.21885522],\n",
       "       [0.78114478, 0.21885522],\n",
       "       [0.78114478, 0.21885522],\n",
       "       [0.4516129 , 0.5483871 ],\n",
       "       [0.30973451, 0.69026549],\n",
       "       [0.30973451, 0.69026549],\n",
       "       [0.04794521, 0.95205479],\n",
       "       [0.30973451, 0.69026549],\n",
       "       [0.04794521, 0.95205479],\n",
       "       [0.78114478, 0.21885522],\n",
       "       [0.78114478, 0.21885522],\n",
       "       [0.78114478, 0.21885522],\n",
       "       [0.78114478, 0.21885522],\n",
       "       [0.04794521, 0.95205479],\n",
       "       [0.78114478, 0.21885522],\n",
       "       [0.30973451, 0.69026549],\n",
       "       [0.30973451, 0.69026549],\n",
       "       [0.78114478, 0.21885522],\n",
       "       [0.04794521, 0.95205479],\n",
       "       [0.78114478, 0.21885522],\n",
       "       [0.78114478, 0.21885522],\n",
       "       [0.27777778, 0.72222222],\n",
       "       [0.04794521, 0.95205479],\n",
       "       [0.66666667, 0.33333333],\n",
       "       [0.78114478, 0.21885522],\n",
       "       [0.78114478, 0.21885522],\n",
       "       [0.78114478, 0.21885522],\n",
       "       [0.30973451, 0.69026549],\n",
       "       [0.04794521, 0.95205479],\n",
       "       [0.78114478, 0.21885522],\n",
       "       [0.30973451, 0.69026549],\n",
       "       [0.30973451, 0.69026549],\n",
       "       [0.4516129 , 0.5483871 ],\n",
       "       [0.78114478, 0.21885522],\n",
       "       [0.4516129 , 0.5483871 ],\n",
       "       [0.78114478, 0.21885522],\n",
       "       [0.66666667, 0.33333333],\n",
       "       [0.30973451, 0.69026549],\n",
       "       [0.66666667, 0.33333333],\n",
       "       [0.04794521, 0.95205479],\n",
       "       [0.66666667, 0.33333333],\n",
       "       [0.27777778, 0.72222222],\n",
       "       [0.78114478, 0.21885522],\n",
       "       [0.78114478, 0.21885522],\n",
       "       [0.66666667, 0.33333333],\n",
       "       [0.30973451, 0.69026549],\n",
       "       [0.78114478, 0.21885522],\n",
       "       [0.78114478, 0.21885522],\n",
       "       [0.78114478, 0.21885522],\n",
       "       [0.04794521, 0.95205479],\n",
       "       [0.78114478, 0.21885522],\n",
       "       [0.04794521, 0.95205479],\n",
       "       [0.4516129 , 0.5483871 ],\n",
       "       [0.4516129 , 0.5483871 ],\n",
       "       [0.04794521, 0.95205479],\n",
       "       [0.04794521, 0.95205479],\n",
       "       [1.        , 0.        ],\n",
       "       [0.27777778, 0.72222222],\n",
       "       [0.04794521, 0.95205479],\n",
       "       [0.78114478, 0.21885522],\n",
       "       [0.78114478, 0.21885522],\n",
       "       [0.78114478, 0.21885522],\n",
       "       [0.78114478, 0.21885522],\n",
       "       [0.78114478, 0.21885522],\n",
       "       [0.78114478, 0.21885522],\n",
       "       [0.04794521, 0.95205479],\n",
       "       [0.78114478, 0.21885522],\n",
       "       [0.04794521, 0.95205479],\n",
       "       [0.30973451, 0.69026549],\n",
       "       [0.78114478, 0.21885522],\n",
       "       [0.78114478, 0.21885522],\n",
       "       [0.04794521, 0.95205479],\n",
       "       [0.27777778, 0.72222222],\n",
       "       [0.78114478, 0.21885522],\n",
       "       [0.04794521, 0.95205479],\n",
       "       [0.78114478, 0.21885522],\n",
       "       [0.04794521, 0.95205479],\n",
       "       [0.78114478, 0.21885522],\n",
       "       [0.04794521, 0.95205479],\n",
       "       [0.78114478, 0.21885522],\n",
       "       [0.66666667, 0.33333333],\n",
       "       [0.04794521, 0.95205479],\n",
       "       [0.78114478, 0.21885522],\n",
       "       [0.78114478, 0.21885522],\n",
       "       [0.78114478, 0.21885522],\n",
       "       [0.78114478, 0.21885522],\n",
       "       [0.30973451, 0.69026549],\n",
       "       [0.30973451, 0.69026549],\n",
       "       [0.30973451, 0.69026549],\n",
       "       [0.30973451, 0.69026549],\n",
       "       [0.78114478, 0.21885522],\n",
       "       [0.78114478, 0.21885522],\n",
       "       [0.78114478, 0.21885522],\n",
       "       [0.78114478, 0.21885522],\n",
       "       [0.04794521, 0.95205479],\n",
       "       [0.04794521, 0.95205479],\n",
       "       [0.78114478, 0.21885522],\n",
       "       [0.78114478, 0.21885522],\n",
       "       [0.78114478, 0.21885522],\n",
       "       [0.78114478, 0.21885522],\n",
       "       [0.04794521, 0.95205479],\n",
       "       [0.78114478, 0.21885522],\n",
       "       [0.78114478, 0.21885522],\n",
       "       [0.78114478, 0.21885522],\n",
       "       [0.78114478, 0.21885522],\n",
       "       [0.04794521, 0.95205479],\n",
       "       [0.78114478, 0.21885522],\n",
       "       [0.78114478, 0.21885522],\n",
       "       [0.78114478, 0.21885522],\n",
       "       [0.30973451, 0.69026549],\n",
       "       [0.78114478, 0.21885522],\n",
       "       [0.04794521, 0.95205479],\n",
       "       [0.78114478, 0.21885522],\n",
       "       [0.04794521, 0.95205479],\n",
       "       [0.78114478, 0.21885522],\n",
       "       [1.        , 0.        ],\n",
       "       [0.27777778, 0.72222222],\n",
       "       [0.04794521, 0.95205479],\n",
       "       [0.30973451, 0.69026549],\n",
       "       [0.30973451, 0.69026549],\n",
       "       [0.04794521, 0.95205479],\n",
       "       [0.04794521, 0.95205479],\n",
       "       [0.78114478, 0.21885522],\n",
       "       [0.4516129 , 0.5483871 ],\n",
       "       [0.30973451, 0.69026549],\n",
       "       [0.78114478, 0.21885522],\n",
       "       [0.30973451, 0.69026549],\n",
       "       [0.78114478, 0.21885522],\n",
       "       [1.        , 0.        ],\n",
       "       [0.27777778, 0.72222222],\n",
       "       [0.78114478, 0.21885522],\n",
       "       [0.4516129 , 0.5483871 ],\n",
       "       [0.4516129 , 0.5483871 ],\n",
       "       [0.4516129 , 0.5483871 ],\n",
       "       [0.27777778, 0.72222222],\n",
       "       [0.4516129 , 0.5483871 ],\n",
       "       [0.04794521, 0.95205479],\n",
       "       [0.04794521, 0.95205479],\n",
       "       [0.04794521, 0.95205479],\n",
       "       [0.78114478, 0.21885522],\n",
       "       [0.04794521, 0.95205479],\n",
       "       [0.30973451, 0.69026549],\n",
       "       [0.78114478, 0.21885522],\n",
       "       [0.4516129 , 0.5483871 ],\n",
       "       [0.04794521, 0.95205479],\n",
       "       [0.78114478, 0.21885522],\n",
       "       [0.78114478, 0.21885522],\n",
       "       [0.78114478, 0.21885522],\n",
       "       [0.04794521, 0.95205479],\n",
       "       [0.78114478, 0.21885522],\n",
       "       [0.30973451, 0.69026549],\n",
       "       [0.78114478, 0.21885522],\n",
       "       [0.78114478, 0.21885522],\n",
       "       [0.04794521, 0.95205479],\n",
       "       [0.78114478, 0.21885522],\n",
       "       [0.04794521, 0.95205479],\n",
       "       [0.66666667, 0.33333333],\n",
       "       [0.78114478, 0.21885522],\n",
       "       [0.78114478, 0.21885522],\n",
       "       [0.78114478, 0.21885522],\n",
       "       [0.78114478, 0.21885522],\n",
       "       [0.66666667, 0.33333333],\n",
       "       [0.66666667, 0.33333333],\n",
       "       [0.27777778, 0.72222222],\n",
       "       [0.4516129 , 0.5483871 ],\n",
       "       [0.04794521, 0.95205479],\n",
       "       [0.22222222, 0.77777778],\n",
       "       [0.22222222, 0.77777778],\n",
       "       [0.30973451, 0.69026549],\n",
       "       [0.66666667, 0.33333333],\n",
       "       [0.78114478, 0.21885522],\n",
       "       [0.78114478, 0.21885522],\n",
       "       [0.30973451, 0.69026549],\n",
       "       [0.27777778, 0.72222222],\n",
       "       [0.04794521, 0.95205479],\n",
       "       [0.78114478, 0.21885522],\n",
       "       [0.78114478, 0.21885522],\n",
       "       [0.30973451, 0.69026549],\n",
       "       [0.78114478, 0.21885522],\n",
       "       [0.30973451, 0.69026549],\n",
       "       [0.78114478, 0.21885522],\n",
       "       [0.78114478, 0.21885522],\n",
       "       [0.04794521, 0.95205479],\n",
       "       [0.30973451, 0.69026549],\n",
       "       [0.78114478, 0.21885522],\n",
       "       [0.78114478, 0.21885522],\n",
       "       [0.78114478, 0.21885522],\n",
       "       [0.22222222, 0.77777778],\n",
       "       [0.30973451, 0.69026549],\n",
       "       [0.30973451, 0.69026549],\n",
       "       [0.04794521, 0.95205479],\n",
       "       [0.04794521, 0.95205479],\n",
       "       [0.78114478, 0.21885522],\n",
       "       [0.78114478, 0.21885522],\n",
       "       [0.04794521, 0.95205479],\n",
       "       [0.78114478, 0.21885522],\n",
       "       [0.04794521, 0.95205479],\n",
       "       [0.04794521, 0.95205479],\n",
       "       [0.4516129 , 0.5483871 ],\n",
       "       [0.78114478, 0.21885522],\n",
       "       [0.66666667, 0.33333333],\n",
       "       [0.78114478, 0.21885522],\n",
       "       [0.78114478, 0.21885522],\n",
       "       [0.04794521, 0.95205479],\n",
       "       [0.78114478, 0.21885522],\n",
       "       [0.30973451, 0.69026549],\n",
       "       [0.78114478, 0.21885522],\n",
       "       [0.04794521, 0.95205479],\n",
       "       [0.04794521, 0.95205479],\n",
       "       [0.78114478, 0.21885522],\n",
       "       [0.4516129 , 0.5483871 ],\n",
       "       [0.78114478, 0.21885522],\n",
       "       [1.        , 0.        ],\n",
       "       [0.78114478, 0.21885522],\n",
       "       [0.04794521, 0.95205479],\n",
       "       [0.78114478, 0.21885522],\n",
       "       [0.30973451, 0.69026549],\n",
       "       [0.04794521, 0.95205479],\n",
       "       [0.78114478, 0.21885522],\n",
       "       [0.78114478, 0.21885522],\n",
       "       [0.04794521, 0.95205479],\n",
       "       [0.78114478, 0.21885522],\n",
       "       [0.4516129 , 0.5483871 ],\n",
       "       [0.78114478, 0.21885522],\n",
       "       [0.78114478, 0.21885522],\n",
       "       [0.30973451, 0.69026549],\n",
       "       [0.30973451, 0.69026549],\n",
       "       [0.30973451, 0.69026549],\n",
       "       [0.78114478, 0.21885522],\n",
       "       [0.30973451, 0.69026549],\n",
       "       [0.66666667, 0.33333333],\n",
       "       [0.04794521, 0.95205479],\n",
       "       [0.04794521, 0.95205479],\n",
       "       [0.04794521, 0.95205479],\n",
       "       [0.78114478, 0.21885522],\n",
       "       [0.04794521, 0.95205479],\n",
       "       [1.        , 0.        ],\n",
       "       [0.04794521, 0.95205479],\n",
       "       [0.04794521, 0.95205479],\n",
       "       [0.78114478, 0.21885522],\n",
       "       [0.4516129 , 0.5483871 ],\n",
       "       [0.04794521, 0.95205479],\n",
       "       [0.4516129 , 0.5483871 ],\n",
       "       [0.78114478, 0.21885522],\n",
       "       [0.04794521, 0.95205479],\n",
       "       [0.04794521, 0.95205479],\n",
       "       [0.04794521, 0.95205479],\n",
       "       [0.04794521, 0.95205479],\n",
       "       [0.30973451, 0.69026549],\n",
       "       [0.30973451, 0.69026549],\n",
       "       [0.78114478, 0.21885522],\n",
       "       [0.78114478, 0.21885522],\n",
       "       [0.30973451, 0.69026549],\n",
       "       [0.78114478, 0.21885522],\n",
       "       [0.78114478, 0.21885522],\n",
       "       [0.78114478, 0.21885522],\n",
       "       [0.04794521, 0.95205479],\n",
       "       [0.4516129 , 0.5483871 ],\n",
       "       [0.78114478, 0.21885522],\n",
       "       [0.04794521, 0.95205479],\n",
       "       [0.04794521, 0.95205479],\n",
       "       [0.30973451, 0.69026549],\n",
       "       [0.04794521, 0.95205479],\n",
       "       [0.4516129 , 0.5483871 ],\n",
       "       [0.78114478, 0.21885522],\n",
       "       [0.30973451, 0.69026549],\n",
       "       [0.78114478, 0.21885522],\n",
       "       [0.78114478, 0.21885522],\n",
       "       [0.04794521, 0.95205479],\n",
       "       [0.78114478, 0.21885522],\n",
       "       [0.04794521, 0.95205479],\n",
       "       [0.78114478, 0.21885522],\n",
       "       [0.04794521, 0.95205479],\n",
       "       [0.66666667, 0.33333333],\n",
       "       [0.78114478, 0.21885522],\n",
       "       [0.04794521, 0.95205479],\n",
       "       [0.78114478, 0.21885522],\n",
       "       [0.78114478, 0.21885522],\n",
       "       [0.78114478, 0.21885522],\n",
       "       [0.27777778, 0.72222222],\n",
       "       [0.22222222, 0.77777778],\n",
       "       [0.27777778, 0.72222222],\n",
       "       [0.4516129 , 0.5483871 ],\n",
       "       [0.30973451, 0.69026549],\n",
       "       [0.78114478, 0.21885522],\n",
       "       [0.27777778, 0.72222222],\n",
       "       [0.4516129 , 0.5483871 ],\n",
       "       [0.78114478, 0.21885522],\n",
       "       [0.78114478, 0.21885522],\n",
       "       [1.        , 0.        ],\n",
       "       [0.78114478, 0.21885522],\n",
       "       [0.30973451, 0.69026549],\n",
       "       [0.78114478, 0.21885522],\n",
       "       [0.78114478, 0.21885522],\n",
       "       [0.30973451, 0.69026549],\n",
       "       [0.04794521, 0.95205479],\n",
       "       [0.04794521, 0.95205479]])"
      ]
     },
     "execution_count": 41,
     "metadata": {},
     "output_type": "execute_result"
    }
   ],
   "source": [
    "#Obter a previsões da probabilidade\n",
    "#Note que ele retorna  probabilidade da classe 0 e 1 respectivamente\n",
    "dt_previsoes_prob = dt.predict_proba(X_teste)\n",
    "dt_previsoes_prob"
   ]
  },
  {
   "cell_type": "markdown",
   "metadata": {},
   "source": [
    "### Matriz de Confusão "
   ]
  },
  {
   "cell_type": "code",
   "execution_count": 42,
   "metadata": {},
   "outputs": [
    {
     "data": {
      "image/png": "[encoded data removed]",
      "text/plain": [
       "<Figure size 576x396 with 2 Axes>"
      ]
     },
     "metadata": {},
     "output_type": "display_data"
    }
   ],
   "source": [
    "sns.heatmap(confusion_matrix(y_teste, dt_previsoes), cmap='OrRd', annot=True, fmt='2.0f')\n",
    "plt.title('Árvore de Decisão')\n",
    "plt.ylabel('P R E V I S T O')\n",
    "plt.xlabel('R E A L')\n",
    "plt.show()"
   ]
  },
  {
   "cell_type": "code",
   "execution_count": 43,
   "metadata": {},
   "outputs": [
    {
     "name": "stdout",
     "output_type": "stream",
     "text": [
      "Acurácia:0.77\n",
      "Precisão:0.77\n",
      "Recall ou Sensibilidade:0.78\n",
      "F1-Score:0.77\n",
      "Kappa:0.55\n",
      "Curva ROC:0.77\n"
     ]
    }
   ],
   "source": [
    "#Acurácia, Sensibilidade positiva (VP/(VP+FN),  Precisão, Recall, F1-Score\n",
    "acuracia = accuracy_score(y_teste,dt_previsoes)\n",
    "precisao = precision_score(y_teste,dt_previsoes)\n",
    "recall = recall_score(y_teste,dt_previsoes)\n",
    "f1Score = f1_score(y_teste,dt_previsoes)\n",
    "dt_curva_roc = roc_auc_score(y_teste,dt_previsoes)\n",
    "kappa = cohen_kappa_score(y_teste,dt_previsoes)\n",
    "print(f'Acurácia:{round(acuracia,2)}')\n",
    "print(f'Precisão:{round(precisao,2)}')\n",
    "print(f'Recall ou Sensibilidade:{round(recall,2)}')\n",
    "print(f'F1-Score:{round(f1Score,2)}')\n",
    "print(f'Kappa:{round(kappa,2)}')\n",
    "print(f'Curva ROC:{round(dt_curva_roc,2)}')"
   ]
  },
  {
   "cell_type": "code",
   "execution_count": 44,
   "metadata": {},
   "outputs": [
    {
     "name": "stdout",
     "output_type": "stream",
     "text": [
      "              precision    recall  f1-score   support\n",
      "\n",
      "           0       0.78      0.77      0.77       150\n",
      "           1       0.77      0.78      0.77       150\n",
      "\n",
      "    accuracy                           0.77       300\n",
      "   macro avg       0.77      0.77      0.77       300\n",
      "weighted avg       0.77      0.77      0.77       300\n",
      "\n"
     ]
    }
   ],
   "source": [
    "print(classification_report(y_teste, dt.predict(X_teste)))"
   ]
  },
  {
   "cell_type": "markdown",
   "metadata": {},
   "source": [
    "### Curva ROC"
   ]
  },
  {
   "cell_type": "code",
   "execution_count": 45,
   "metadata": {},
   "outputs": [
    {
     "data": {
      "image/png": "[encoded data removed]",
      "text/plain": [
       "<Figure size 576x396 with 1 Axes>"
      ]
     },
     "metadata": {},
     "output_type": "display_data"
    }
   ],
   "source": [
    "knc_fp,knc_vp,lim1 = roc_curve(y_teste,knc_previsoes)\n",
    "dt_fp,dt_vp,lim2 = roc_curve(y_teste,dt_previsoes)\n",
    "plt.plot(knc_fp,knc_vp, marker='.', label='KNN='+str(round(knc_curva_roc,2)),color=\"orange\")\n",
    "plt.plot(dt_fp,dt_vp, marker='.', label='Decision Tree='+str(round(dt_curva_roc,2)),color=\"blue\")\n",
    "plt.plot([0, 1], [0, 1], color='black', linestyle='--')\n",
    "# alterando o nome dos eixos\n",
    "plt.xlabel('1- Especificidade')\n",
    "plt.ylabel('Sensibilidade')\n",
    "# Legenda\n",
    "plt.legend()\n",
    "# Mostrando o gráfico\n",
    "plt.show()\n",
    "#fig.savefig(\"images/mlpr_0305.png\")"
   ]
  },
  {
   "cell_type": "code",
   "execution_count": 46,
   "metadata": {},
   "outputs": [
    {
     "data": {
      "image/png": "[encoded data removed]",
      "text/plain": [
       "<Figure size 576x396 with 1 Axes>"
      ]
     },
     "metadata": {},
     "output_type": "display_data"
    }
   ],
   "source": [
    "#Aqui estamos pegando apenas da classe 1\n",
    "knc_probs = knc_previsoes_prob[:,1]\n",
    "dt_probs = dt_previsoes_prob[:,1]\n",
    "knc_fp,knc_vp,lim1 = roc_curve(y_teste,knc_probs)\n",
    "dt_fp,dt_vp,lim2 = roc_curve(y_teste,dt_probs)\n",
    "plt.plot(knc_fp,knc_vp, marker='.', label='KNN',color=\"orange\")\n",
    "plt.plot(dt_fp,dt_vp, marker='.', label='Decision Tree',color=\"blue\")\n",
    "plt.plot([0, 1], [0, 1], color='black', linestyle='--')\n",
    "# alterando o nome dos eixos\n",
    "plt.xlabel('1- Especificidade')\n",
    "plt.ylabel('Sensibilidade')\n",
    "# Legenda\n",
    "plt.legend()\n",
    "# Mostrando o gráfico\n",
    "plt.show()\n",
    "#fig.savefig(\"images/mlpr_0305.png\")"
   ]
  },
  {
   "cell_type": "code",
   "execution_count": 47,
   "metadata": {},
   "outputs": [
    {
     "data": {
      "text/plain": [
       "array([1], dtype=int64)"
      ]
     },
     "execution_count": 47,
     "metadata": {},
     "output_type": "execute_result"
    }
   ],
   "source": [
    "dt_previsoes_1 = dt.predict(X_teste[:1])\n",
    "dt_previsoes_1"
   ]
  },
  {
   "cell_type": "code",
   "execution_count": 48,
   "metadata": {},
   "outputs": [
    {
     "data": {
      "text/plain": [
       "array([[0.4516129, 0.5483871]])"
      ]
     },
     "execution_count": 48,
     "metadata": {},
     "output_type": "execute_result"
    }
   ],
   "source": [
    "dt_previsoes_1 = dt.predict_proba(X_teste[:1])\n",
    "dt_previsoes_1"
   ]
  },
  {
   "cell_type": "markdown",
   "metadata": {},
   "source": [
    "## Floresta aleatória - RandomForest\n",
    "Harrison, Matt. Machine Learning – Guia de Referência Rápida (p. 128). Novatec Editora. Edição do Kindle. \n",
    "\n",
    "* Floresta aleatória (random forest) é um conjunto de árvores de decisão;\n",
    "* Ela usa bagging para corrigir a tendência das árvores de decisão à superadequação;\n",
    "* Ao criar várias árvores treinadas com subamostras e atributos aleatórios dos dados, a variância é reduzida;\n",
    "* Como o treinamento é feito em subamostras dos dados, as florestas aleatórias são capazes de avaliar o erro OOB e o desempenho;\n",
    "* Podem também exibir a importância dos atributos, calculando a média da importância em todas as árvores;\n",
    "* Sempre que adicionar outro membro (e seu processo de seleção for independente dos demais), um resultado melhor será obtido;\n",
    "* A floresta aleatória tem sido uma excelente ferramenta tanto para classificação como para regressão, embora, recentemente, tenha cedido espaço para as árvores com gradient boosting.\n",
    "\n",
    "\n",
    "Algumas propriedades:\n",
    "* Eficiência na execução \n",
    "  * Deve criar j árvores aleatórias. Isso pode ser feito em paralelo usando n_jobs. A complexidade de cada árvore é de O(mn\n",
    "    log n), em que n é o número de amostras e m é o número de atributos. Para a criação, percorre cada um dos m atributos\n",
    "    em um laço e ordena todas as n amostras, O(mn log n). Para predição, percorre a árvore, O(altura);\n",
    "* Pré-processamento dos dados não é necessário;\n",
    "* Para evitar uma superadequação, adicione mais árvores (n_estimators). Use um valor menor para max_depth;\n",
    "* Interpretação dos resultados \n",
    "  * Tem suporte para importância de atributos, porém não há uma única árvore de decisão para percorrer. É possível \n",
    "    inspecionar árvores únicas do conjunto."
   ]
  },
  {
   "cell_type": "markdown",
   "metadata": {},
   "source": [
    "<img src=\"random_forest.png\" width=\"600px\" align=\"left\"><br>"
   ]
  },
  {
   "cell_type": "code",
   "execution_count": 49,
   "metadata": {},
   "outputs": [],
   "source": [
    "from sklearn.ensemble import RandomForestClassifier"
   ]
  },
  {
   "cell_type": "code",
   "execution_count": 50,
   "metadata": {},
   "outputs": [],
   "source": [
    "rf = RandomForestClassifier(random_state=42)"
   ]
  },
  {
   "cell_type": "code",
   "execution_count": 51,
   "metadata": {},
   "outputs": [
    {
     "data": {
      "text/html": [
       "<style>#sk-container-id-5 {color: black;background-color: white;}#sk-container-id-5 pre{padding: 0;}#sk-container-id-5 div.sk-toggleable {background-color: white;}#sk-container-id-5 label.sk-toggleable__label {cursor: pointer;display: block;width: 100%;margin-bottom: 0;padding: 0.3em;box-sizing: border-box;text-align: center;}#sk-container-id-5 label.sk-toggleable__label-arrow:before {content: \"▸\";float: left;margin-right: 0.25em;color: #696969;}#sk-container-id-5 label.sk-toggleable__label-arrow:hover:before {color: black;}#sk-container-id-5 div.sk-estimator:hover label.sk-toggleable__label-arrow:before {color: black;}#sk-container-id-5 div.sk-toggleable__content {max-height: 0;max-width: 0;overflow: hidden;text-align: left;background-color: #f0f8ff;}#sk-container-id-5 div.sk-toggleable__content pre {margin: 0.2em;color: black;border-radius: 0.25em;background-color: #f0f8ff;}#sk-container-id-5 input.sk-toggleable__control:checked~div.sk-toggleable__content {max-height: 200px;max-width: 100%;overflow: auto;}#sk-container-id-5 input.sk-toggleable__control:checked~label.sk-toggleable__label-arrow:before {content: \"▾\";}#sk-container-id-5 div.sk-estimator input.sk-toggleable__control:checked~label.sk-toggleable__label {background-color: #d4ebff;}#sk-container-id-5 div.sk-label input.sk-toggleable__control:checked~label.sk-toggleable__label {background-color: #d4ebff;}#sk-container-id-5 input.sk-hidden--visually {border: 0;clip: rect(1px 1px 1px 1px);clip: rect(1px, 1px, 1px, 1px);height: 1px;margin: -1px;overflow: hidden;padding: 0;position: absolute;width: 1px;}#sk-container-id-5 div.sk-estimator {font-family: monospace;background-color: #f0f8ff;border: 1px dotted black;border-radius: 0.25em;box-sizing: border-box;margin-bottom: 0.5em;}#sk-container-id-5 div.sk-estimator:hover {background-color: #d4ebff;}#sk-container-id-5 div.sk-parallel-item::after {content: \"\";width: 100%;border-bottom: 1px solid gray;flex-grow: 1;}#sk-container-id-5 div.sk-label:hover label.sk-toggleable__label {background-color: #d4ebff;}#sk-container-id-5 div.sk-serial::before {content: \"\";position: absolute;border-left: 1px solid gray;box-sizing: border-box;top: 0;bottom: 0;left: 50%;z-index: 0;}#sk-container-id-5 div.sk-serial {display: flex;flex-direction: column;align-items: center;background-color: white;padding-right: 0.2em;padding-left: 0.2em;position: relative;}#sk-container-id-5 div.sk-item {position: relative;z-index: 1;}#sk-container-id-5 div.sk-parallel {display: flex;align-items: stretch;justify-content: center;background-color: white;position: relative;}#sk-container-id-5 div.sk-item::before, #sk-container-id-5 div.sk-parallel-item::before {content: \"\";position: absolute;border-left: 1px solid gray;box-sizing: border-box;top: 0;bottom: 0;left: 50%;z-index: -1;}#sk-container-id-5 div.sk-parallel-item {display: flex;flex-direction: column;z-index: 1;position: relative;background-color: white;}#sk-container-id-5 div.sk-parallel-item:first-child::after {align-self: flex-end;width: 50%;}#sk-container-id-5 div.sk-parallel-item:last-child::after {align-self: flex-start;width: 50%;}#sk-container-id-5 div.sk-parallel-item:only-child::after {width: 0;}#sk-container-id-5 div.sk-dashed-wrapped {border: 1px dashed gray;margin: 0 0.4em 0.5em 0.4em;box-sizing: border-box;padding-bottom: 0.4em;background-color: white;}#sk-container-id-5 div.sk-label label {font-family: monospace;font-weight: bold;display: inline-block;line-height: 1.2em;}#sk-container-id-5 div.sk-label-container {text-align: center;}#sk-container-id-5 div.sk-container {/* jupyter's `normalize.less` sets `[hidden] { display: none; }` but bootstrap.min.css set `[hidden] { display: none !important; }` so we also need the `!important` here to be able to override the default hidden behavior on the sphinx rendered scikit-learn.org. See: https://github.com/scikit-learn/scikit-learn/issues/21755 */display: inline-block !important;position: relative;}#sk-container-id-5 div.sk-text-repr-fallback {display: none;}</style><div id=\"sk-container-id-5\" class=\"sk-top-container\"><div class=\"sk-text-repr-fallback\"><pre>RandomForestClassifier(random_state=42)</pre><b>In a Jupyter environment, please rerun this cell to show the HTML representation or trust the notebook. <br />On GitHub, the HTML representation is unable to render, please try loading this page with nbviewer.org.</b></div><div class=\"sk-container\" hidden><div class=\"sk-item\"><div class=\"sk-estimator sk-toggleable\"><input class=\"sk-toggleable__control sk-hidden--visually\" id=\"sk-estimator-id-5\" type=\"checkbox\" checked><label for=\"sk-estimator-id-5\" class=\"sk-toggleable__label sk-toggleable__label-arrow\">RandomForestClassifier</label><div class=\"sk-toggleable__content\"><pre>RandomForestClassifier(random_state=42)</pre></div></div></div></div></div>"
      ],
      "text/plain": [
       "RandomForestClassifier(random_state=42)"
      ]
     },
     "execution_count": 51,
     "metadata": {},
     "output_type": "execute_result"
    }
   ],
   "source": [
    "rf.fit(X_treino, y_treino)"
   ]
  },
  {
   "cell_type": "code",
   "execution_count": 52,
   "metadata": {},
   "outputs": [
    {
     "data": {
      "text/plain": [
       "0.7966666666666666"
      ]
     },
     "execution_count": 52,
     "metadata": {},
     "output_type": "execute_result"
    }
   ],
   "source": [
    "rf.score(X_teste, y_teste)"
   ]
  },
  {
   "cell_type": "code",
   "execution_count": 53,
   "metadata": {},
   "outputs": [],
   "source": [
    "rf = RandomForestClassifier(bootstrap=True, class_weight=None, criterion='gini', max_depth=None, max_features='auto', \n",
    "                            max_leaf_nodes=None, min_impurity_decrease=0.0, min_samples_leaf=1, \n",
    "                            min_samples_split=2, min_weight_fraction_leaf=0.0, n_estimators=10, n_jobs=1, \n",
    "                            oob_score=False, random_state=42, verbose=0, warm_start=False)"
   ]
  },
  {
   "cell_type": "code",
   "execution_count": 54,
   "metadata": {},
   "outputs": [
    {
     "data": {
      "text/html": [
       "<style>#sk-container-id-6 {color: black;background-color: white;}#sk-container-id-6 pre{padding: 0;}#sk-container-id-6 div.sk-toggleable {background-color: white;}#sk-container-id-6 label.sk-toggleable__label {cursor: pointer;display: block;width: 100%;margin-bottom: 0;padding: 0.3em;box-sizing: border-box;text-align: center;}#sk-container-id-6 label.sk-toggleable__label-arrow:before {content: \"▸\";float: left;margin-right: 0.25em;color: #696969;}#sk-container-id-6 label.sk-toggleable__label-arrow:hover:before {color: black;}#sk-container-id-6 div.sk-estimator:hover label.sk-toggleable__label-arrow:before {color: black;}#sk-container-id-6 div.sk-toggleable__content {max-height: 0;max-width: 0;overflow: hidden;text-align: left;background-color: #f0f8ff;}#sk-container-id-6 div.sk-toggleable__content pre {margin: 0.2em;color: black;border-radius: 0.25em;background-color: #f0f8ff;}#sk-container-id-6 input.sk-toggleable__control:checked~div.sk-toggleable__content {max-height: 200px;max-width: 100%;overflow: auto;}#sk-container-id-6 input.sk-toggleable__control:checked~label.sk-toggleable__label-arrow:before {content: \"▾\";}#sk-container-id-6 div.sk-estimator input.sk-toggleable__control:checked~label.sk-toggleable__label {background-color: #d4ebff;}#sk-container-id-6 div.sk-label input.sk-toggleable__control:checked~label.sk-toggleable__label {background-color: #d4ebff;}#sk-container-id-6 input.sk-hidden--visually {border: 0;clip: rect(1px 1px 1px 1px);clip: rect(1px, 1px, 1px, 1px);height: 1px;margin: -1px;overflow: hidden;padding: 0;position: absolute;width: 1px;}#sk-container-id-6 div.sk-estimator {font-family: monospace;background-color: #f0f8ff;border: 1px dotted black;border-radius: 0.25em;box-sizing: border-box;margin-bottom: 0.5em;}#sk-container-id-6 div.sk-estimator:hover {background-color: #d4ebff;}#sk-container-id-6 div.sk-parallel-item::after {content: \"\";width: 100%;border-bottom: 1px solid gray;flex-grow: 1;}#sk-container-id-6 div.sk-label:hover label.sk-toggleable__label {background-color: #d4ebff;}#sk-container-id-6 div.sk-serial::before {content: \"\";position: absolute;border-left: 1px solid gray;box-sizing: border-box;top: 0;bottom: 0;left: 50%;z-index: 0;}#sk-container-id-6 div.sk-serial {display: flex;flex-direction: column;align-items: center;background-color: white;padding-right: 0.2em;padding-left: 0.2em;position: relative;}#sk-container-id-6 div.sk-item {position: relative;z-index: 1;}#sk-container-id-6 div.sk-parallel {display: flex;align-items: stretch;justify-content: center;background-color: white;position: relative;}#sk-container-id-6 div.sk-item::before, #sk-container-id-6 div.sk-parallel-item::before {content: \"\";position: absolute;border-left: 1px solid gray;box-sizing: border-box;top: 0;bottom: 0;left: 50%;z-index: -1;}#sk-container-id-6 div.sk-parallel-item {display: flex;flex-direction: column;z-index: 1;position: relative;background-color: white;}#sk-container-id-6 div.sk-parallel-item:first-child::after {align-self: flex-end;width: 50%;}#sk-container-id-6 div.sk-parallel-item:last-child::after {align-self: flex-start;width: 50%;}#sk-container-id-6 div.sk-parallel-item:only-child::after {width: 0;}#sk-container-id-6 div.sk-dashed-wrapped {border: 1px dashed gray;margin: 0 0.4em 0.5em 0.4em;box-sizing: border-box;padding-bottom: 0.4em;background-color: white;}#sk-container-id-6 div.sk-label label {font-family: monospace;font-weight: bold;display: inline-block;line-height: 1.2em;}#sk-container-id-6 div.sk-label-container {text-align: center;}#sk-container-id-6 div.sk-container {/* jupyter's `normalize.less` sets `[hidden] { display: none; }` but bootstrap.min.css set `[hidden] { display: none !important; }` so we also need the `!important` here to be able to override the default hidden behavior on the sphinx rendered scikit-learn.org. See: https://github.com/scikit-learn/scikit-learn/issues/21755 */display: inline-block !important;position: relative;}#sk-container-id-6 div.sk-text-repr-fallback {display: none;}</style><div id=\"sk-container-id-6\" class=\"sk-top-container\"><div class=\"sk-text-repr-fallback\"><pre>RandomForestClassifier(max_features=&#x27;auto&#x27;, n_estimators=10, n_jobs=1,\n",
       "                       random_state=42)</pre><b>In a Jupyter environment, please rerun this cell to show the HTML representation or trust the notebook. <br />On GitHub, the HTML representation is unable to render, please try loading this page with nbviewer.org.</b></div><div class=\"sk-container\" hidden><div class=\"sk-item\"><div class=\"sk-estimator sk-toggleable\"><input class=\"sk-toggleable__control sk-hidden--visually\" id=\"sk-estimator-id-6\" type=\"checkbox\" checked><label for=\"sk-estimator-id-6\" class=\"sk-toggleable__label sk-toggleable__label-arrow\">RandomForestClassifier</label><div class=\"sk-toggleable__content\"><pre>RandomForestClassifier(max_features=&#x27;auto&#x27;, n_estimators=10, n_jobs=1,\n",
       "                       random_state=42)</pre></div></div></div></div></div>"
      ],
      "text/plain": [
       "RandomForestClassifier(max_features='auto', n_estimators=10, n_jobs=1,\n",
       "                       random_state=42)"
      ]
     },
     "execution_count": 54,
     "metadata": {},
     "output_type": "execute_result"
    }
   ],
   "source": [
    "rf.fit(X_treino, y_treino)"
   ]
  },
  {
   "cell_type": "code",
   "execution_count": 55,
   "metadata": {},
   "outputs": [
    {
     "data": {
      "text/plain": [
       "0.78"
      ]
     },
     "execution_count": 55,
     "metadata": {},
     "output_type": "execute_result"
    }
   ],
   "source": [
    "rf.score(X_teste, y_teste) "
   ]
  },
  {
   "cell_type": "markdown",
   "metadata": {},
   "source": [
    "### Cross Validation. ou Validação Cruzada é uma técnica para avaliar a capacidade de generalização de um modelo,  a partir de um conjunto de dados."
   ]
  },
  {
   "cell_type": "code",
   "execution_count": 56,
   "metadata": {},
   "outputs": [
    {
     "name": "stdout",
     "output_type": "stream",
     "text": [
      "Scores = [0.82 0.8  0.77 0.77 0.81 0.77 0.69 0.56 0.62 0.74]\n",
      "Média dos Scores = 0.7350000000000001\n"
     ]
    }
   ],
   "source": [
    "cv_scores = cross_val_score(rf,X,y, cv=10, scoring='accuracy')\n",
    "print(f'Scores = {cv_scores}')\n",
    "print(f'Média dos Scores = {cv_scores.mean()}')"
   ]
  },
  {
   "cell_type": "code",
   "execution_count": 57,
   "metadata": {},
   "outputs": [
    {
     "data": {
      "text/plain": [
       "array([0, 0, 0, 0, 0, 0, 0, 0, 1, 1, 1, 1, 0, 0, 0, 0, 1, 0, 1, 1, 0, 1,\n",
       "       0, 0, 0, 1, 0, 0, 1, 0, 1, 1, 0, 0, 1, 1, 0, 0, 0, 0, 0, 0, 1, 0,\n",
       "       0, 0, 0, 1, 1, 0, 0, 0, 1, 0, 1, 1, 0, 1, 1, 0, 0, 1, 0, 0, 0, 0,\n",
       "       0, 1, 1, 0, 1, 1, 0, 0, 1, 1, 0, 1, 0, 1, 0, 1, 0, 1, 0, 0, 0, 0,\n",
       "       0, 0, 0, 1, 1, 0, 0, 1, 0, 1, 1, 0, 0, 1, 0, 1, 0, 0, 0, 0, 1, 0,\n",
       "       0, 0, 1, 0, 1, 1, 1, 0, 0, 0, 1, 1, 0, 1, 1, 0, 0, 1, 0, 1, 0, 0,\n",
       "       1, 0, 0, 1, 0, 1, 0, 1, 1, 1, 1, 1, 1, 0, 1, 1, 0, 0, 0, 1, 0, 1,\n",
       "       0, 1, 1, 0, 1, 0, 0, 0, 0, 0, 1, 0, 0, 1, 1, 1, 1, 0, 0, 0, 0, 1,\n",
       "       1, 1, 0, 0, 1, 0, 1, 0, 0, 1, 1, 0, 0, 0, 1, 0, 0, 1, 1, 0, 1, 1,\n",
       "       0, 1, 1, 0, 1, 0, 0, 0, 1, 0, 0, 0, 1, 1, 1, 1, 0, 0, 0, 1, 0, 0,\n",
       "       1, 0, 0, 1, 0, 1, 1, 1, 1, 1, 1, 0, 1, 1, 1, 1, 1, 0, 1, 0, 1, 1,\n",
       "       1, 0, 1, 0, 0, 1, 1, 1, 1, 0, 0, 0, 0, 1, 1, 0, 0, 1, 0, 0, 1, 1,\n",
       "       1, 1, 0, 0, 0, 1, 0, 1, 0, 1, 0, 1, 1, 0, 1, 0, 0, 0, 1, 1, 0, 0,\n",
       "       1, 0, 1, 0, 0, 0, 0, 0, 1, 0, 0, 1, 1, 1], dtype=int64)"
      ]
     },
     "execution_count": 57,
     "metadata": {},
     "output_type": "execute_result"
    }
   ],
   "source": [
    "#Obter a previsões\n",
    "rf_previsoes = rf.predict(X_teste)\n",
    "rf_previsoes"
   ]
  },
  {
   "cell_type": "code",
   "execution_count": 58,
   "metadata": {},
   "outputs": [
    {
     "data": {
      "text/plain": [
       "array([[0.55      , 0.45      ],\n",
       "       [0.8       , 0.2       ],\n",
       "       [0.8       , 0.2       ],\n",
       "       [1.        , 0.        ],\n",
       "       [0.7       , 0.3       ],\n",
       "       [0.5       , 0.5       ],\n",
       "       [0.6       , 0.4       ],\n",
       "       [0.9       , 0.1       ],\n",
       "       [0.22332112, 0.77667888],\n",
       "       [0.1       , 0.9       ],\n",
       "       [0.2       , 0.8       ],\n",
       "       [0.1       , 0.9       ],\n",
       "       [1.        , 0.        ],\n",
       "       [0.9       , 0.1       ],\n",
       "       [1.        , 0.        ],\n",
       "       [0.6       , 0.4       ],\n",
       "       [0.        , 1.        ],\n",
       "       [0.8       , 0.2       ],\n",
       "       [0.13333333, 0.86666667],\n",
       "       [0.3       , 0.7       ],\n",
       "       [0.58077312, 0.41922688],\n",
       "       [0.1       , 0.9       ],\n",
       "       [1.        , 0.        ],\n",
       "       [0.9       , 0.1       ],\n",
       "       [0.8       , 0.2       ],\n",
       "       [0.        , 1.        ],\n",
       "       [0.8       , 0.2       ],\n",
       "       [1.        , 0.        ],\n",
       "       [0.2       , 0.8       ],\n",
       "       [1.        , 0.        ],\n",
       "       [0.11349206, 0.88650794],\n",
       "       [0.        , 1.        ],\n",
       "       [1.        , 0.        ],\n",
       "       [0.8       , 0.2       ],\n",
       "       [0.22333333, 0.77666667],\n",
       "       [0.2       , 0.8       ],\n",
       "       [0.6       , 0.4       ],\n",
       "       [0.6       , 0.4       ],\n",
       "       [0.7       , 0.3       ],\n",
       "       [0.8       , 0.2       ],\n",
       "       [0.9       , 0.1       ],\n",
       "       [0.5       , 0.5       ],\n",
       "       [0.14285714, 0.85714286],\n",
       "       [0.6       , 0.4       ],\n",
       "       [0.6       , 0.4       ],\n",
       "       [0.6       , 0.4       ],\n",
       "       [0.8       , 0.2       ],\n",
       "       [0.3       , 0.7       ],\n",
       "       [0.        , 1.        ],\n",
       "       [1.        , 0.        ],\n",
       "       [0.9       , 0.1       ],\n",
       "       [0.9       , 0.1       ],\n",
       "       [0.        , 1.        ],\n",
       "       [0.9       , 0.1       ],\n",
       "       [0.        , 1.        ],\n",
       "       [0.3       , 0.7       ],\n",
       "       [0.5       , 0.5       ],\n",
       "       [0.        , 1.        ],\n",
       "       [0.2       , 0.8       ],\n",
       "       [1.        , 0.        ],\n",
       "       [0.6       , 0.4       ],\n",
       "       [0.1       , 0.9       ],\n",
       "       [0.9       , 0.1       ],\n",
       "       [0.9       , 0.1       ],\n",
       "       [1.        , 0.        ],\n",
       "       [0.7       , 0.3       ],\n",
       "       [0.7       , 0.3       ],\n",
       "       [0.44892857, 0.55107143],\n",
       "       [0.        , 1.        ],\n",
       "       [1.        , 0.        ],\n",
       "       [0.        , 1.        ],\n",
       "       [0.2       , 0.8       ],\n",
       "       [1.        , 0.        ],\n",
       "       [0.6       , 0.4       ],\n",
       "       [0.1       , 0.9       ],\n",
       "       [0.4       , 0.6       ],\n",
       "       [0.8       , 0.2       ],\n",
       "       [0.        , 1.        ],\n",
       "       [1.        , 0.        ],\n",
       "       [0.1       , 0.9       ],\n",
       "       [1.        , 0.        ],\n",
       "       [0.3       , 0.7       ],\n",
       "       [0.5       , 0.5       ],\n",
       "       [0.1       , 0.9       ],\n",
       "       [0.7       , 0.3       ],\n",
       "       [1.        , 0.        ],\n",
       "       [0.8       , 0.2       ],\n",
       "       [0.87166667, 0.12833333],\n",
       "       [0.8       , 0.2       ],\n",
       "       [0.7       , 0.3       ],\n",
       "       [0.5       , 0.5       ],\n",
       "       [0.3       , 0.7       ],\n",
       "       [0.1       , 0.9       ],\n",
       "       [0.6       , 0.4       ],\n",
       "       [0.9       , 0.1       ],\n",
       "       [0.2       , 0.8       ],\n",
       "       [1.        , 0.        ],\n",
       "       [0.        , 1.        ],\n",
       "       [0.        , 1.        ],\n",
       "       [0.9       , 0.1       ],\n",
       "       [1.        , 0.        ],\n",
       "       [0.2       , 0.8       ],\n",
       "       [0.8       , 0.2       ],\n",
       "       [0.2       , 0.8       ],\n",
       "       [0.8       , 0.2       ],\n",
       "       [1.        , 0.        ],\n",
       "       [0.9       , 0.1       ],\n",
       "       [0.9       , 0.1       ],\n",
       "       [0.        , 1.        ],\n",
       "       [0.8       , 0.2       ],\n",
       "       [0.9       , 0.1       ],\n",
       "       [0.8       , 0.2       ],\n",
       "       [0.3       , 0.7       ],\n",
       "       [0.58077312, 0.41922688],\n",
       "       [0.        , 1.        ],\n",
       "       [0.3       , 0.7       ],\n",
       "       [0.        , 1.        ],\n",
       "       [0.9       , 0.1       ],\n",
       "       [0.9       , 0.1       ],\n",
       "       [0.5       , 0.5       ],\n",
       "       [0.27      , 0.73      ],\n",
       "       [0.1       , 0.9       ],\n",
       "       [0.7       , 0.3       ],\n",
       "       [0.1       , 0.9       ],\n",
       "       [0.25      , 0.75      ],\n",
       "       [0.7       , 0.3       ],\n",
       "       [0.6       , 0.4       ],\n",
       "       [0.        , 1.        ],\n",
       "       [0.7       , 0.3       ],\n",
       "       [0.        , 1.        ],\n",
       "       [1.        , 0.        ],\n",
       "       [0.9       , 0.1       ],\n",
       "       [0.        , 1.        ],\n",
       "       [0.94615385, 0.05384615],\n",
       "       [0.7       , 0.3       ],\n",
       "       [0.4       , 0.6       ],\n",
       "       [0.7       , 0.3       ],\n",
       "       [0.4       , 0.6       ],\n",
       "       [0.85      , 0.15      ],\n",
       "       [0.        , 1.        ],\n",
       "       [0.        , 1.        ],\n",
       "       [0.        , 1.        ],\n",
       "       [0.3       , 0.7       ],\n",
       "       [0.2       , 0.8       ],\n",
       "       [0.3       , 0.7       ],\n",
       "       [0.6       , 0.4       ],\n",
       "       [0.4       , 0.6       ],\n",
       "       [0.        , 1.        ],\n",
       "       [0.80987179, 0.19012821],\n",
       "       [0.5       , 0.5       ],\n",
       "       [1.        , 0.        ],\n",
       "       [0.        , 1.        ],\n",
       "       [0.9       , 0.1       ],\n",
       "       [0.43333333, 0.56666667],\n",
       "       [1.        , 0.        ],\n",
       "       [0.48333333, 0.51666667],\n",
       "       [0.34119048, 0.65880952],\n",
       "       [0.9       , 0.1       ],\n",
       "       [0.        , 1.        ],\n",
       "       [0.6       , 0.4       ],\n",
       "       [0.8       , 0.2       ],\n",
       "       [0.80337302, 0.19662698],\n",
       "       [0.66666667, 0.33333333],\n",
       "       [1.        , 0.        ],\n",
       "       [0.4       , 0.6       ],\n",
       "       [0.8       , 0.2       ],\n",
       "       [0.8       , 0.2       ],\n",
       "       [0.3       , 0.7       ],\n",
       "       [0.        , 1.        ],\n",
       "       [0.        , 1.        ],\n",
       "       [0.1       , 0.9       ],\n",
       "       [0.5       , 0.5       ],\n",
       "       [0.7       , 0.3       ],\n",
       "       [1.        , 0.        ],\n",
       "       [0.5       , 0.5       ],\n",
       "       [0.3       , 0.7       ],\n",
       "       [0.2       , 0.8       ],\n",
       "       [0.2       , 0.8       ],\n",
       "       [1.        , 0.        ],\n",
       "       [1.        , 0.        ],\n",
       "       [0.3       , 0.7       ],\n",
       "       [0.6       , 0.4       ],\n",
       "       [0.1       , 0.9       ],\n",
       "       [0.8       , 0.2       ],\n",
       "       [0.9       , 0.1       ],\n",
       "       [0.        , 1.        ],\n",
       "       [0.48333333, 0.51666667],\n",
       "       [0.6       , 0.4       ],\n",
       "       [1.        , 0.        ],\n",
       "       [0.58077312, 0.41922688],\n",
       "       [0.        , 1.        ],\n",
       "       [0.51388889, 0.48611111],\n",
       "       [0.9       , 0.1       ],\n",
       "       [0.        , 1.        ],\n",
       "       [0.        , 1.        ],\n",
       "       [0.6       , 0.4       ],\n",
       "       [0.4       , 0.6       ],\n",
       "       [0.        , 1.        ],\n",
       "       [0.58077312, 0.41922688],\n",
       "       [0.        , 1.        ],\n",
       "       [0.        , 1.        ],\n",
       "       [0.9       , 0.1       ],\n",
       "       [0.1       , 0.9       ],\n",
       "       [0.9       , 0.1       ],\n",
       "       [0.5       , 0.5       ],\n",
       "       [0.5       , 0.5       ],\n",
       "       [0.        , 1.        ],\n",
       "       [1.        , 0.        ],\n",
       "       [0.7       , 0.3       ],\n",
       "       [0.8       , 0.2       ],\n",
       "       [0.1       , 0.9       ],\n",
       "       [0.        , 1.        ],\n",
       "       [0.4       , 0.6       ],\n",
       "       [0.4       , 0.6       ],\n",
       "       [0.58077312, 0.41922688],\n",
       "       [0.9       , 0.1       ],\n",
       "       [1.        , 0.        ],\n",
       "       [0.1       , 0.9       ],\n",
       "       [0.9       , 0.1       ],\n",
       "       [0.5       , 0.5       ],\n",
       "       [0.        , 1.        ],\n",
       "       [1.        , 0.        ],\n",
       "       [1.        , 0.        ],\n",
       "       [0.        , 1.        ],\n",
       "       [0.8       , 0.2       ],\n",
       "       [0.3       , 0.7       ],\n",
       "       [0.1       , 0.9       ],\n",
       "       [0.3       , 0.7       ],\n",
       "       [0.13333333, 0.86666667],\n",
       "       [0.4       , 0.6       ],\n",
       "       [0.16666667, 0.83333333],\n",
       "       [0.9       , 0.1       ],\n",
       "       [0.3       , 0.7       ],\n",
       "       [0.2       , 0.8       ],\n",
       "       [0.        , 1.        ],\n",
       "       [0.        , 1.        ],\n",
       "       [0.        , 1.        ],\n",
       "       [1.        , 0.        ],\n",
       "       [0.        , 1.        ],\n",
       "       [0.8       , 0.2       ],\n",
       "       [0.        , 1.        ],\n",
       "       [0.2       , 0.8       ],\n",
       "       [0.4       , 0.6       ],\n",
       "       [0.6       , 0.4       ],\n",
       "       [0.1       , 0.9       ],\n",
       "       [0.6       , 0.4       ],\n",
       "       [0.9       , 0.1       ],\n",
       "       [0.2       , 0.8       ],\n",
       "       [0.        , 1.        ],\n",
       "       [0.2       , 0.8       ],\n",
       "       [0.        , 1.        ],\n",
       "       [0.9       , 0.1       ],\n",
       "       [0.91666667, 0.08333333],\n",
       "       [0.58077312, 0.41922688],\n",
       "       [0.7       , 0.3       ],\n",
       "       [0.1       , 0.9       ],\n",
       "       [0.3       , 0.7       ],\n",
       "       [0.8       , 0.2       ],\n",
       "       [0.58077312, 0.41922688],\n",
       "       [0.        , 1.        ],\n",
       "       [0.5       , 0.5       ],\n",
       "       [0.5       , 0.5       ],\n",
       "       [0.1       , 0.9       ],\n",
       "       [0.27      , 0.73      ],\n",
       "       [0.2       , 0.8       ],\n",
       "       [0.20833333, 0.79166667],\n",
       "       [1.        , 0.        ],\n",
       "       [0.9       , 0.1       ],\n",
       "       [0.91666667, 0.08333333],\n",
       "       [0.1       , 0.9       ],\n",
       "       [0.8       , 0.2       ],\n",
       "       [0.        , 1.        ],\n",
       "       [0.58333333, 0.41666667],\n",
       "       [0.1       , 0.9       ],\n",
       "       [1.        , 0.        ],\n",
       "       [0.1       , 0.9       ],\n",
       "       [0.4       , 0.6       ],\n",
       "       [0.8       , 0.2       ],\n",
       "       [0.1       , 0.9       ],\n",
       "       [0.58077312, 0.41922688],\n",
       "       [1.        , 0.        ],\n",
       "       [1.        , 0.        ],\n",
       "       [0.        , 1.        ],\n",
       "       [0.        , 1.        ],\n",
       "       [0.9       , 0.1       ],\n",
       "       [0.6       , 0.4       ],\n",
       "       [0.4       , 0.6       ],\n",
       "       [0.6       , 0.4       ],\n",
       "       [0.4       , 0.6       ],\n",
       "       [0.5       , 0.5       ],\n",
       "       [0.9       , 0.1       ],\n",
       "       [0.8       , 0.2       ],\n",
       "       [0.9       , 0.1       ],\n",
       "       [0.85      , 0.15      ],\n",
       "       [0.4       , 0.6       ],\n",
       "       [0.9       , 0.1       ],\n",
       "       [1.        , 0.        ],\n",
       "       [0.        , 1.        ],\n",
       "       [0.1       , 0.9       ],\n",
       "       [0.        , 1.        ]])"
      ]
     },
     "execution_count": 58,
     "metadata": {},
     "output_type": "execute_result"
    }
   ],
   "source": [
    "#Obter a previsões da probabilidade\n",
    "#Note que ele retorna  probabilidade da classe 0 e 1 respectivamente\n",
    "rf_previsoes_prob = rf.predict_proba(X_teste)\n",
    "rf_previsoes_prob"
   ]
  },
  {
   "cell_type": "markdown",
   "metadata": {},
   "source": [
    "### Matriz de Confusão"
   ]
  },
  {
   "cell_type": "code",
   "execution_count": 59,
   "metadata": {},
   "outputs": [
    {
     "data": {
      "image/png": "[encoded data removed]",
      "text/plain": [
       "<Figure size 576x396 with 2 Axes>"
      ]
     },
     "metadata": {},
     "output_type": "display_data"
    }
   ],
   "source": [
    "sns.heatmap(confusion_matrix(y_teste, rf_previsoes), cmap='OrRd', annot=True, fmt='2.0f')\n",
    "plt.title('SVC')\n",
    "plt.ylabel('P R E V I S T O')\n",
    "plt.xlabel('R E A L')\n",
    "plt.show()"
   ]
  },
  {
   "cell_type": "code",
   "execution_count": 60,
   "metadata": {},
   "outputs": [
    {
     "name": "stdout",
     "output_type": "stream",
     "text": [
      "Acurácia:0.78\n",
      "Precisão:0.81\n",
      "Recall ou Sensibilidade:0.73\n",
      "F1-Score:0.77\n",
      "Kappa:0.56\n",
      "Curva ROC:0.78\n"
     ]
    }
   ],
   "source": [
    "#Acurácia, Sensibilidade positiva (VP/(VP+FN),  Precisão, Recall, F1-Score\n",
    "acuracia = accuracy_score(y_teste,rf_previsoes)\n",
    "precisao = precision_score(y_teste,rf_previsoes)\n",
    "recall = recall_score(y_teste,rf_previsoes)\n",
    "f1Score = f1_score(y_teste,rf_previsoes)\n",
    "rf_curva_roc = roc_auc_score(y_teste,rf_previsoes)\n",
    "kappa = cohen_kappa_score(y_teste,rf_previsoes)\n",
    "print(f'Acurácia:{round(acuracia,2)}')\n",
    "print(f'Precisão:{round(precisao,2)}')\n",
    "print(f'Recall ou Sensibilidade:{round(recall,2)}')\n",
    "print(f'F1-Score:{round(f1Score,2)}')\n",
    "print(f'Kappa:{round(kappa,2)}')\n",
    "print(f'Curva ROC:{round(rf_curva_roc,2)}')"
   ]
  },
  {
   "cell_type": "code",
   "execution_count": 101,
   "metadata": {},
   "outputs": [
    {
     "name": "stdout",
     "output_type": "stream",
     "text": [
      "              precision    recall  f1-score   support\n",
      "\n",
      "           0       0.76      0.83      0.79       150\n",
      "           1       0.81      0.73      0.77       150\n",
      "\n",
      "    accuracy                           0.78       300\n",
      "   macro avg       0.78      0.78      0.78       300\n",
      "weighted avg       0.78      0.78      0.78       300\n",
      "\n"
     ]
    }
   ],
   "source": [
    "print(classification_report(y_teste, rf.predict(X_teste)))"
   ]
  },
  {
   "cell_type": "markdown",
   "metadata": {},
   "source": [
    "### Curva ROC"
   ]
  },
  {
   "cell_type": "code",
   "execution_count": 62,
   "metadata": {},
   "outputs": [
    {
     "data": {
      "image/png": "[encoded data removed]",
      "text/plain": [
       "<Figure size 576x396 with 1 Axes>"
      ]
     },
     "metadata": {},
     "output_type": "display_data"
    }
   ],
   "source": [
    "knc_fp,knc_vp,lim1 = roc_curve(y_teste,knc_previsoes)\n",
    "dt_fp,dt_vp,lim2 = roc_curve(y_teste,dt_previsoes)\n",
    "rf_fp,rf_vp,lim3 = roc_curve(y_teste,rf_previsoes)\n",
    "plt.plot(knc_fp,knc_vp, marker='.', label='KNN='+str(round(knc_curva_roc,2)),color=\"orange\")\n",
    "plt.plot(dt_fp,dt_vp, marker='.', label='Decision Tree='+str(round(dt_curva_roc,2)),color=\"blue\")\n",
    "plt.plot(rf_fp,rf_vp, marker='.', label='Random Forest='+str(round(rf_curva_roc,2)),color=\"yellow\")\n",
    "plt.plot([0, 1], [0, 1], color='black', linestyle='--')\n",
    "# alterando o nome dos eixos\n",
    "plt.xlabel('1- Especificidade')\n",
    "plt.ylabel('Sensibilidade')\n",
    "# Legenda\n",
    "plt.legend()\n",
    "# Mostrando o gráfico\n",
    "plt.show()\n",
    "#fig.savefig(\"images/mlpr_0305.png\")"
   ]
  },
  {
   "cell_type": "code",
   "execution_count": 63,
   "metadata": {},
   "outputs": [
    {
     "data": {
      "image/png": "[encoded data removed]",
      "text/plain": [
       "<Figure size 576x396 with 1 Axes>"
      ]
     },
     "metadata": {},
     "output_type": "display_data"
    }
   ],
   "source": [
    "#Aqui estamos pegando apenas da classe 1\n",
    "knc_probs = knc_previsoes_prob[:,1]\n",
    "dt_probs = dt_previsoes_prob[:,1]\n",
    "rf_probs = rf_previsoes_prob[:,1]\n",
    "knc_fp,knc_vp,lim1 = roc_curve(y_teste,knc_probs)\n",
    "dt_fp,dt_vp,lim2 = roc_curve(y_teste,dt_probs)\n",
    "rf_fp,rf_vp,lim3 = roc_curve(y_teste,rf_probs)\n",
    "plt.plot(knc_fp,knc_vp, marker='.', label='KNN',color=\"orange\")\n",
    "plt.plot(dt_fp,dt_vp, marker='.', label='Decision Tree',color=\"blue\")\n",
    "plt.plot(rf_fp,rf_vp, marker='.', label='Random Forest',color=\"yellow\")\n",
    "plt.plot([0, 1], [0, 1], color='black', linestyle='--')\n",
    "# alterando o nome dos eixos\n",
    "plt.xlabel('1- Especificidade')\n",
    "plt.ylabel('Sensibilidade')\n",
    "# Legenda\n",
    "plt.legend()\n",
    "# Mostrando o gráfico\n",
    "plt.show()\n",
    "#fig.savefig(\"images/mlpr_0305.png\")"
   ]
  },
  {
   "cell_type": "code",
   "execution_count": 64,
   "metadata": {},
   "outputs": [
    {
     "data": {
      "text/plain": [
       "array([0], dtype=int64)"
      ]
     },
     "execution_count": 64,
     "metadata": {},
     "output_type": "execute_result"
    }
   ],
   "source": [
    "rf_previsoes_1 = rf.predict(X_teste[:1])\n",
    "rf_previsoes_1"
   ]
  },
  {
   "cell_type": "code",
   "execution_count": 65,
   "metadata": {},
   "outputs": [
    {
     "data": {
      "text/plain": [
       "array([[0.55, 0.45]])"
      ]
     },
     "execution_count": 65,
     "metadata": {},
     "output_type": "execute_result"
    }
   ],
   "source": [
    "rf_previsoes_1 = rf.predict_proba(X_teste[:1])\n",
    "rf_previsoes_1"
   ]
  },
  {
   "cell_type": "markdown",
   "metadata": {},
   "source": [
    "# XGBoost\n",
    "Harrison, Matt. Machine Learning – Guia de Referência Rápida (p. 132). Novatec Editora. Edição do Kindle. \n",
    "\n",
    "* O XGBoost (https://oreil.ly/WBo0g) é uma biblioteca popular, além do scikit-learn;\n",
    "* Ele cria uma árvore fraca e, então, “melhora” as árvores subsequentes (faz um boosting) a fim de reduzir os erros residuais;\n",
    "* O algoritmo tenta capturar e tratar qualquer padrão nos erros, até que pareçam ser aleatórios.\n",
    "\n",
    "\n",
    "O XGBoost tem as seguintes propriedades:\n",
    "* Eficiência na execução: \n",
    "  * O XGBoost pode executar em paralelo. Utilize a opção n_jobs para informar o número de CPUs. Use a GPU para ter um \n",
    "    desempenho melhor ainda;\n",
    "* Pré-processamento dos dados:\n",
    "  * Não é necessário escalar com modelos baseados em árvore. É preciso codificar os dados de categoria;\n",
    "* Para evitar uma superadequação: \n",
    "  * O parâmetro early_stopping_rounds=N pode ser definido para interromper o treinamento caso não haja melhoras após N \n",
    "    rodadas. As regularizações L1 e L2 são controladas por reg_alpha e reg_lambda, respectivamente. Números maiores são \n",
    "    mais conservadores;\n",
    "* Interpretação dos resultados inclui importância de atributos.\n",
    "\n",
    "\n",
    "Note: O XGBoost tem um parâmetro extra no método .fit. O parâmetro early_stopping_rounds pode ser combinado com o parâmetro eval_set para dizer ao XGBoost que pare de criar árvores caso a métrica de avaliação não tenha melhorado após esse número de rodadas de boosting (melhorias). 'eval_metric também pode ser definido com um dos seguintes valores: 'rmse', 'mae', 'logloss', 'error' (default), 'auc', 'aucpr', bem como com uma função personalizada."
   ]
  },
  {
   "cell_type": "markdown",
   "metadata": {},
   "source": [
    "Parâmetros da instância: \n",
    "* max_depth=3 Profundidade máxima;\n",
    "* learning_rate=0.1 Taxa de aprendizagem (também chamada de eta) para boosting (entre 0 e 1). Após cada passo de boosting, (melhoria) os pesos recém-adicionados são escalados de acordo com esse fator. Quanto menor o valor, mais conservador será, mas também serão necessárias mais árvores para convergir. Na chamada a .train, você pode passar um parâmetro learning_rates, que é uma lista de taxas em cada rodada (isto é, [.1]*100 + [.05]*100). \n",
    "* n_estimators=100 Número de rodadas ou árvores melhoradas;\n",
    "* silent=True.....\n",
    "\n",
    "Caso queiram ver mais parâmetros vejam no link: https://oreil.ly/WBo0g \n",
    "\n",
    "Harrison, Matt. Machine Learning – Guia de Referência Rápida (p. 134). Novatec Editora. Edição do Kindle. "
   ]
  },
  {
   "cell_type": "markdown",
   "metadata": {},
   "source": [
    "<img src=\"xgboost.png\" width=\"300px\" align=\"left\"><br>"
   ]
  },
  {
   "cell_type": "code",
   "execution_count": 154,
   "metadata": {},
   "outputs": [
    {
     "name": "stdout",
     "output_type": "stream",
     "text": [
      "Collecting xgboost\n",
      "  Downloading xgboost-1.6.2-py3-none-win_amd64.whl (125.4 MB)\n",
      "Requirement already satisfied: numpy in c:\\users\\usuario\\anaconda3\\lib\\site-packages (from xgboost) (1.23.3)\n",
      "Requirement already satisfied: scipy in c:\\users\\usuario\\anaconda3\\lib\\site-packages (from xgboost) (1.9.1)\n",
      "Installing collected packages: xgboost\n",
      "Successfully installed xgboost-1.6.2\n"
     ]
    }
   ],
   "source": [
    "#Instalando o xgboost\n",
    "#!pip install xgboost"
   ]
  },
  {
   "cell_type": "code",
   "execution_count": 66,
   "metadata": {},
   "outputs": [],
   "source": [
    "#Importando\n",
    "import xgboost as xgb"
   ]
  },
  {
   "cell_type": "code",
   "execution_count": 102,
   "metadata": {},
   "outputs": [],
   "source": [
    "xgb = xgb.XGBClassifier(random_state=42) "
   ]
  },
  {
   "cell_type": "code",
   "execution_count": 103,
   "metadata": {
    "scrolled": true
   },
   "outputs": [
    {
     "name": "stdout",
     "output_type": "stream",
     "text": [
      "[0]\tvalidation_0-logloss:0.60165\n",
      "[1]\tvalidation_0-logloss:0.54625\n",
      "[2]\tvalidation_0-logloss:0.51186\n",
      "[3]\tvalidation_0-logloss:0.48918\n",
      "[4]\tvalidation_0-logloss:0.47556\n",
      "[5]\tvalidation_0-logloss:0.45741\n",
      "[6]\tvalidation_0-logloss:0.44939\n",
      "[7]\tvalidation_0-logloss:0.44442\n",
      "[8]\tvalidation_0-logloss:0.43557\n",
      "[9]\tvalidation_0-logloss:0.43334\n",
      "[10]\tvalidation_0-logloss:0.43059\n",
      "[11]\tvalidation_0-logloss:0.43095\n",
      "[12]\tvalidation_0-logloss:0.42817\n",
      "[13]\tvalidation_0-logloss:0.42918\n",
      "[14]\tvalidation_0-logloss:0.42860\n",
      "[15]\tvalidation_0-logloss:0.42455\n",
      "[16]\tvalidation_0-logloss:0.42639\n",
      "[17]\tvalidation_0-logloss:0.42261\n",
      "[18]\tvalidation_0-logloss:0.42218\n",
      "[19]\tvalidation_0-logloss:0.42150\n",
      "[20]\tvalidation_0-logloss:0.42094\n",
      "[21]\tvalidation_0-logloss:0.42221\n",
      "[22]\tvalidation_0-logloss:0.42295\n",
      "[23]\tvalidation_0-logloss:0.42246\n",
      "[24]\tvalidation_0-logloss:0.42435\n",
      "[25]\tvalidation_0-logloss:0.42507\n",
      "[26]\tvalidation_0-logloss:0.42862\n",
      "[27]\tvalidation_0-logloss:0.42871\n",
      "[28]\tvalidation_0-logloss:0.42965\n",
      "[29]\tvalidation_0-logloss:0.42876\n"
     ]
    },
    {
     "data": {
      "text/html": [
       "<style>#sk-container-id-13 {color: black;background-color: white;}#sk-container-id-13 pre{padding: 0;}#sk-container-id-13 div.sk-toggleable {background-color: white;}#sk-container-id-13 label.sk-toggleable__label {cursor: pointer;display: block;width: 100%;margin-bottom: 0;padding: 0.3em;box-sizing: border-box;text-align: center;}#sk-container-id-13 label.sk-toggleable__label-arrow:before {content: \"▸\";float: left;margin-right: 0.25em;color: #696969;}#sk-container-id-13 label.sk-toggleable__label-arrow:hover:before {color: black;}#sk-container-id-13 div.sk-estimator:hover label.sk-toggleable__label-arrow:before {color: black;}#sk-container-id-13 div.sk-toggleable__content {max-height: 0;max-width: 0;overflow: hidden;text-align: left;background-color: #f0f8ff;}#sk-container-id-13 div.sk-toggleable__content pre {margin: 0.2em;color: black;border-radius: 0.25em;background-color: #f0f8ff;}#sk-container-id-13 input.sk-toggleable__control:checked~div.sk-toggleable__content {max-height: 200px;max-width: 100%;overflow: auto;}#sk-container-id-13 input.sk-toggleable__control:checked~label.sk-toggleable__label-arrow:before {content: \"▾\";}#sk-container-id-13 div.sk-estimator input.sk-toggleable__control:checked~label.sk-toggleable__label {background-color: #d4ebff;}#sk-container-id-13 div.sk-label input.sk-toggleable__control:checked~label.sk-toggleable__label {background-color: #d4ebff;}#sk-container-id-13 input.sk-hidden--visually {border: 0;clip: rect(1px 1px 1px 1px);clip: rect(1px, 1px, 1px, 1px);height: 1px;margin: -1px;overflow: hidden;padding: 0;position: absolute;width: 1px;}#sk-container-id-13 div.sk-estimator {font-family: monospace;background-color: #f0f8ff;border: 1px dotted black;border-radius: 0.25em;box-sizing: border-box;margin-bottom: 0.5em;}#sk-container-id-13 div.sk-estimator:hover {background-color: #d4ebff;}#sk-container-id-13 div.sk-parallel-item::after {content: \"\";width: 100%;border-bottom: 1px solid gray;flex-grow: 1;}#sk-container-id-13 div.sk-label:hover label.sk-toggleable__label {background-color: #d4ebff;}#sk-container-id-13 div.sk-serial::before {content: \"\";position: absolute;border-left: 1px solid gray;box-sizing: border-box;top: 0;bottom: 0;left: 50%;z-index: 0;}#sk-container-id-13 div.sk-serial {display: flex;flex-direction: column;align-items: center;background-color: white;padding-right: 0.2em;padding-left: 0.2em;position: relative;}#sk-container-id-13 div.sk-item {position: relative;z-index: 1;}#sk-container-id-13 div.sk-parallel {display: flex;align-items: stretch;justify-content: center;background-color: white;position: relative;}#sk-container-id-13 div.sk-item::before, #sk-container-id-13 div.sk-parallel-item::before {content: \"\";position: absolute;border-left: 1px solid gray;box-sizing: border-box;top: 0;bottom: 0;left: 50%;z-index: -1;}#sk-container-id-13 div.sk-parallel-item {display: flex;flex-direction: column;z-index: 1;position: relative;background-color: white;}#sk-container-id-13 div.sk-parallel-item:first-child::after {align-self: flex-end;width: 50%;}#sk-container-id-13 div.sk-parallel-item:last-child::after {align-self: flex-start;width: 50%;}#sk-container-id-13 div.sk-parallel-item:only-child::after {width: 0;}#sk-container-id-13 div.sk-dashed-wrapped {border: 1px dashed gray;margin: 0 0.4em 0.5em 0.4em;box-sizing: border-box;padding-bottom: 0.4em;background-color: white;}#sk-container-id-13 div.sk-label label {font-family: monospace;font-weight: bold;display: inline-block;line-height: 1.2em;}#sk-container-id-13 div.sk-label-container {text-align: center;}#sk-container-id-13 div.sk-container {/* jupyter's `normalize.less` sets `[hidden] { display: none; }` but bootstrap.min.css set `[hidden] { display: none !important; }` so we also need the `!important` here to be able to override the default hidden behavior on the sphinx rendered scikit-learn.org. See: https://github.com/scikit-learn/scikit-learn/issues/21755 */display: inline-block !important;position: relative;}#sk-container-id-13 div.sk-text-repr-fallback {display: none;}</style><div id=\"sk-container-id-13\" class=\"sk-top-container\"><div class=\"sk-text-repr-fallback\"><pre>XGBClassifier(base_score=0.5, booster=&#x27;gbtree&#x27;, callbacks=None,\n",
       "              colsample_bylevel=1, colsample_bynode=1, colsample_bytree=1,\n",
       "              early_stopping_rounds=None, enable_categorical=False,\n",
       "              eval_metric=None, gamma=0, gpu_id=-1, grow_policy=&#x27;depthwise&#x27;,\n",
       "              importance_type=None, interaction_constraints=&#x27;&#x27;,\n",
       "              learning_rate=0.300000012, max_bin=256, max_cat_to_onehot=4,\n",
       "              max_delta_step=0, max_depth=6, max_leaves=0, min_child_weight=1,\n",
       "              missing=nan, monotone_constraints=&#x27;()&#x27;, n_estimators=100,\n",
       "              n_jobs=0, num_parallel_tree=1, predictor=&#x27;auto&#x27;, random_state=42,\n",
       "              reg_alpha=0, reg_lambda=1, ...)</pre><b>In a Jupyter environment, please rerun this cell to show the HTML representation or trust the notebook. <br />On GitHub, the HTML representation is unable to render, please try loading this page with nbviewer.org.</b></div><div class=\"sk-container\" hidden><div class=\"sk-item\"><div class=\"sk-estimator sk-toggleable\"><input class=\"sk-toggleable__control sk-hidden--visually\" id=\"sk-estimator-id-13\" type=\"checkbox\" checked><label for=\"sk-estimator-id-13\" class=\"sk-toggleable__label sk-toggleable__label-arrow\">XGBClassifier</label><div class=\"sk-toggleable__content\"><pre>XGBClassifier(base_score=0.5, booster=&#x27;gbtree&#x27;, callbacks=None,\n",
       "              colsample_bylevel=1, colsample_bynode=1, colsample_bytree=1,\n",
       "              early_stopping_rounds=None, enable_categorical=False,\n",
       "              eval_metric=None, gamma=0, gpu_id=-1, grow_policy=&#x27;depthwise&#x27;,\n",
       "              importance_type=None, interaction_constraints=&#x27;&#x27;,\n",
       "              learning_rate=0.300000012, max_bin=256, max_cat_to_onehot=4,\n",
       "              max_delta_step=0, max_depth=6, max_leaves=0, min_child_weight=1,\n",
       "              missing=nan, monotone_constraints=&#x27;()&#x27;, n_estimators=100,\n",
       "              n_jobs=0, num_parallel_tree=1, predictor=&#x27;auto&#x27;, random_state=42,\n",
       "              reg_alpha=0, reg_lambda=1, ...)</pre></div></div></div></div></div>"
      ],
      "text/plain": [
       "XGBClassifier(base_score=0.5, booster='gbtree', callbacks=None,\n",
       "              colsample_bylevel=1, colsample_bynode=1, colsample_bytree=1,\n",
       "              early_stopping_rounds=None, enable_categorical=False,\n",
       "              eval_metric=None, gamma=0, gpu_id=-1, grow_policy='depthwise',\n",
       "              importance_type=None, interaction_constraints='',\n",
       "              learning_rate=0.300000012, max_bin=256, max_cat_to_onehot=4,\n",
       "              max_delta_step=0, max_depth=6, max_leaves=0, min_child_weight=1,\n",
       "              missing=nan, monotone_constraints='()', n_estimators=100,\n",
       "              n_jobs=0, num_parallel_tree=1, predictor='auto', random_state=42,\n",
       "              reg_alpha=0, reg_lambda=1, ...)"
      ]
     },
     "execution_count": 103,
     "metadata": {},
     "output_type": "execute_result"
    }
   ],
   "source": [
    "xgb.fit(X_treino,y_treino,early_stopping_rounds=10,eval_set=[(X_teste, y_teste)])"
   ]
  },
  {
   "cell_type": "code",
   "execution_count": 104,
   "metadata": {},
   "outputs": [
    {
     "data": {
      "text/plain": [
       "0.83"
      ]
     },
     "execution_count": 104,
     "metadata": {},
     "output_type": "execute_result"
    }
   ],
   "source": [
    "xgb.score(X_teste, y_teste) "
   ]
  },
  {
   "cell_type": "code",
   "execution_count": 105,
   "metadata": {},
   "outputs": [
    {
     "data": {
      "text/plain": [
       "array([0, 0, 0, 0, 0, 1, 0, 0, 1, 1, 1, 1, 0, 0, 0, 0, 1, 0, 1, 1, 0, 1,\n",
       "       0, 0, 0, 1, 0, 0, 0, 0, 1, 1, 0, 0, 1, 1, 0, 0, 0, 1, 1, 1, 1, 0,\n",
       "       1, 0, 0, 1, 1, 0, 0, 0, 1, 0, 1, 1, 1, 1, 1, 0, 0, 1, 0, 0, 0, 1,\n",
       "       0, 0, 1, 0, 1, 0, 0, 0, 1, 1, 0, 1, 0, 1, 0, 1, 1, 1, 1, 0, 0, 0,\n",
       "       0, 1, 1, 1, 0, 0, 0, 1, 0, 1, 1, 0, 0, 1, 0, 1, 0, 0, 0, 0, 1, 0,\n",
       "       0, 0, 0, 0, 1, 1, 1, 0, 0, 1, 1, 1, 1, 1, 1, 0, 0, 1, 0, 1, 0, 0,\n",
       "       1, 0, 0, 1, 0, 1, 0, 1, 1, 1, 0, 1, 1, 0, 1, 1, 0, 0, 0, 1, 0, 1,\n",
       "       0, 0, 1, 0, 1, 1, 0, 0, 0, 0, 1, 0, 1, 0, 1, 1, 1, 1, 0, 0, 1, 1,\n",
       "       1, 1, 0, 0, 1, 0, 1, 0, 0, 1, 1, 0, 0, 0, 1, 1, 0, 1, 1, 0, 1, 1,\n",
       "       0, 1, 1, 0, 1, 0, 0, 0, 1, 0, 0, 0, 1, 1, 0, 1, 0, 0, 0, 1, 0, 0,\n",
       "       1, 0, 0, 1, 0, 1, 0, 1, 1, 1, 1, 0, 1, 1, 1, 1, 1, 0, 1, 0, 1, 1,\n",
       "       0, 0, 1, 1, 0, 1, 1, 1, 1, 1, 0, 0, 1, 1, 1, 0, 0, 1, 0, 1, 1, 1,\n",
       "       1, 1, 0, 0, 0, 1, 0, 1, 0, 1, 0, 1, 1, 0, 1, 0, 0, 0, 1, 1, 0, 0,\n",
       "       1, 1, 0, 0, 0, 0, 0, 0, 1, 0, 0, 1, 1, 1])"
      ]
     },
     "execution_count": 105,
     "metadata": {},
     "output_type": "execute_result"
    }
   ],
   "source": [
    "#Obter a previsões\n",
    "xgb_previsoes = xgb.predict(X_teste)\n",
    "xgb_class_previsoes"
   ]
  },
  {
   "cell_type": "code",
   "execution_count": 106,
   "metadata": {},
   "outputs": [
    {
     "data": {
      "text/plain": [
       "array([[0.5037487 , 0.49625129],\n",
       "       [0.83611536, 0.16388461],\n",
       "       [0.76125175, 0.23874825],\n",
       "       [0.9411214 , 0.05887861],\n",
       "       [0.5239504 , 0.4760496 ],\n",
       "       [0.4583692 , 0.5416308 ],\n",
       "       [0.5447569 , 0.4552431 ],\n",
       "       [0.7300595 , 0.2699405 ],\n",
       "       [0.2312895 , 0.7687105 ],\n",
       "       [0.03658408, 0.9634159 ],\n",
       "       [0.29840553, 0.7015945 ],\n",
       "       [0.2929625 , 0.7070375 ],\n",
       "       [0.9600317 , 0.03996829],\n",
       "       [0.8396622 , 0.1603378 ],\n",
       "       [0.9164006 , 0.0835994 ],\n",
       "       [0.66202486, 0.33797517],\n",
       "       [0.22057903, 0.779421  ],\n",
       "       [0.8883144 , 0.11168555],\n",
       "       [0.2159465 , 0.7840535 ],\n",
       "       [0.23874426, 0.76125574],\n",
       "       [0.6041174 , 0.39588258],\n",
       "       [0.24503386, 0.75496614],\n",
       "       [0.9542224 , 0.04577761],\n",
       "       [0.54779613, 0.45220384],\n",
       "       [0.7311914 , 0.26880863],\n",
       "       [0.04238397, 0.95761603],\n",
       "       [0.70457107, 0.29542893],\n",
       "       [0.8604642 , 0.13953575],\n",
       "       [0.8334341 , 0.16656591],\n",
       "       [0.90481186, 0.09518813],\n",
       "       [0.24456865, 0.75543135],\n",
       "       [0.03408927, 0.96591073],\n",
       "       [0.777033  , 0.22296703],\n",
       "       [0.75708586, 0.24291413],\n",
       "       [0.14969426, 0.85030574],\n",
       "       [0.22068012, 0.7793199 ],\n",
       "       [0.80913615, 0.19086388],\n",
       "       [0.73274857, 0.26725143],\n",
       "       [0.89735353, 0.1026465 ],\n",
       "       [0.3504972 , 0.6495028 ],\n",
       "       [0.3482927 , 0.6517073 ],\n",
       "       [0.22757745, 0.77242255],\n",
       "       [0.04225391, 0.9577461 ],\n",
       "       [0.53098726, 0.46901274],\n",
       "       [0.22370112, 0.7762989 ],\n",
       "       [0.83611536, 0.16388461],\n",
       "       [0.8137841 , 0.18621586],\n",
       "       [0.4040897 , 0.5959103 ],\n",
       "       [0.1348589 , 0.8651411 ],\n",
       "       [0.91996783, 0.08003215],\n",
       "       [0.75149685, 0.24850316],\n",
       "       [0.6990446 , 0.30095538],\n",
       "       [0.04219002, 0.95781   ],\n",
       "       [0.7599416 , 0.24005842],\n",
       "       [0.01422769, 0.9857723 ],\n",
       "       [0.26986152, 0.7301385 ],\n",
       "       [0.25614864, 0.74385136],\n",
       "       [0.01495796, 0.98504204],\n",
       "       [0.0509218 , 0.9490782 ],\n",
       "       [0.9563066 , 0.04369345],\n",
       "       [0.61205   , 0.38795   ],\n",
       "       [0.02122658, 0.9787734 ],\n",
       "       [0.90943086, 0.09056912],\n",
       "       [0.8856436 , 0.11435638],\n",
       "       [0.89214945, 0.10785057],\n",
       "       [0.29631138, 0.7036886 ],\n",
       "       [0.8681381 , 0.1318619 ],\n",
       "       [0.52622294, 0.4737771 ],\n",
       "       [0.01610965, 0.98389035],\n",
       "       [0.8516487 , 0.14835131],\n",
       "       [0.03537208, 0.9646279 ],\n",
       "       [0.5423324 , 0.45766762],\n",
       "       [0.9224246 , 0.07757537],\n",
       "       [0.83611536, 0.16388461],\n",
       "       [0.45829892, 0.5417011 ],\n",
       "       [0.3810621 , 0.6189379 ],\n",
       "       [0.6961734 , 0.30382654],\n",
       "       [0.04024446, 0.95975554],\n",
       "       [0.92455864, 0.07544138],\n",
       "       [0.06365645, 0.93634355],\n",
       "       [0.92455864, 0.07544138],\n",
       "       [0.00912923, 0.9908708 ],\n",
       "       [0.3225668 , 0.6774332 ],\n",
       "       [0.18419021, 0.8158098 ],\n",
       "       [0.46671587, 0.5332841 ],\n",
       "       [0.8449996 , 0.15500039],\n",
       "       [0.87850827, 0.12149171],\n",
       "       [0.69704926, 0.3029507 ],\n",
       "       [0.8883144 , 0.11168555],\n",
       "       [0.224648  , 0.775352  ],\n",
       "       [0.33442688, 0.6655731 ],\n",
       "       [0.26586908, 0.7341309 ],\n",
       "       [0.6561545 , 0.34384552],\n",
       "       [0.5684961 , 0.4315039 ],\n",
       "       [0.8629159 , 0.13708414],\n",
       "       [0.39801753, 0.6019825 ],\n",
       "       [0.8449996 , 0.15500039],\n",
       "       [0.01477522, 0.9852248 ],\n",
       "       [0.02290386, 0.97709614],\n",
       "       [0.80822486, 0.19177513],\n",
       "       [0.89214945, 0.10785057],\n",
       "       [0.48595637, 0.5140436 ],\n",
       "       [0.926313  , 0.07368699],\n",
       "       [0.0995335 , 0.9004665 ],\n",
       "       [0.568328  , 0.431672  ],\n",
       "       [0.820882  , 0.17911799],\n",
       "       [0.8841816 , 0.1158184 ],\n",
       "       [0.9100608 , 0.08993915],\n",
       "       [0.021694  , 0.978306  ],\n",
       "       [0.56830215, 0.43169782],\n",
       "       [0.8654074 , 0.13459261],\n",
       "       [0.82880723, 0.1711928 ],\n",
       "       [0.64402413, 0.35597587],\n",
       "       [0.6041174 , 0.39588258],\n",
       "       [0.02182895, 0.97817105],\n",
       "       [0.2498005 , 0.7501995 ],\n",
       "       [0.01904535, 0.98095465],\n",
       "       [0.86504173, 0.13495825],\n",
       "       [0.9657769 , 0.03422305],\n",
       "       [0.47880483, 0.5211952 ],\n",
       "       [0.1081906 , 0.8918094 ],\n",
       "       [0.07513857, 0.92486143],\n",
       "       [0.47257024, 0.52742976],\n",
       "       [0.04219002, 0.95781   ],\n",
       "       [0.02232337, 0.97767663],\n",
       "       [0.7081273 , 0.29187268],\n",
       "       [0.5014845 , 0.4985155 ],\n",
       "       [0.16525364, 0.83474636],\n",
       "       [0.6611253 , 0.3388747 ],\n",
       "       [0.16515142, 0.8348486 ],\n",
       "       [0.9004139 , 0.09958614],\n",
       "       [0.9580272 , 0.04197284],\n",
       "       [0.1468069 , 0.8531931 ],\n",
       "       [0.7883953 , 0.21160468],\n",
       "       [0.67368734, 0.3263127 ],\n",
       "       [0.25974804, 0.74025196],\n",
       "       [0.7777217 , 0.2222783 ],\n",
       "       [0.1875574 , 0.8124426 ],\n",
       "       [0.5016983 , 0.49830168],\n",
       "       [0.23695296, 0.76304704],\n",
       "       [0.01404613, 0.98595387],\n",
       "       [0.05587727, 0.94412273],\n",
       "       [0.686547  , 0.31345302],\n",
       "       [0.23259252, 0.7674075 ],\n",
       "       [0.28094643, 0.71905357],\n",
       "       [0.80913615, 0.19086388],\n",
       "       [0.26986152, 0.7301385 ],\n",
       "       [0.03981316, 0.96018684],\n",
       "       [0.5953635 , 0.40463647],\n",
       "       [0.6031896 , 0.39681038],\n",
       "       [0.8741865 , 0.12581347],\n",
       "       [0.01584947, 0.9841505 ],\n",
       "       [0.8611516 , 0.13884841],\n",
       "       [0.20562005, 0.79437995],\n",
       "       [0.81586623, 0.18413377],\n",
       "       [0.6427902 , 0.3572098 ],\n",
       "       [0.1780901 , 0.8219099 ],\n",
       "       [0.7795936 , 0.22040641],\n",
       "       [0.01166618, 0.9883338 ],\n",
       "       [0.4261216 , 0.5738784 ],\n",
       "       [0.8883144 , 0.11168555],\n",
       "       [0.90103614, 0.09896389],\n",
       "       [0.5778173 , 0.42218268],\n",
       "       [0.8516487 , 0.14835131],\n",
       "       [0.34005117, 0.6599488 ],\n",
       "       [0.7546414 , 0.24535856],\n",
       "       [0.3810621 , 0.6189379 ],\n",
       "       [0.56190556, 0.43809444],\n",
       "       [0.03900653, 0.96099347],\n",
       "       [0.06791359, 0.9320864 ],\n",
       "       [0.35346323, 0.64653677],\n",
       "       [0.412413  , 0.587587  ],\n",
       "       [0.64251655, 0.35748345],\n",
       "       [0.91996783, 0.08003215],\n",
       "       [0.4145627 , 0.5854373 ],\n",
       "       [0.27400565, 0.72599435],\n",
       "       [0.4492255 , 0.5507745 ],\n",
       "       [0.0502429 , 0.9497571 ],\n",
       "       [0.9545937 , 0.04540629],\n",
       "       [0.92455864, 0.07544138],\n",
       "       [0.41609913, 0.58390087],\n",
       "       [0.58850443, 0.41149554],\n",
       "       [0.26157278, 0.7384272 ],\n",
       "       [0.7906383 , 0.20936167],\n",
       "       [0.9639498 , 0.0360502 ],\n",
       "       [0.18772179, 0.8122782 ],\n",
       "       [0.49452925, 0.50547075],\n",
       "       [0.78323114, 0.21676886],\n",
       "       [0.8604642 , 0.13953575],\n",
       "       [0.6041174 , 0.39588258],\n",
       "       [0.22995222, 0.7700478 ],\n",
       "       [0.2312895 , 0.7687105 ],\n",
       "       [0.7300595 , 0.2699405 ],\n",
       "       [0.02182895, 0.97817105],\n",
       "       [0.03071266, 0.96928734],\n",
       "       [0.6776259 , 0.32237414],\n",
       "       [0.4145627 , 0.5854373 ],\n",
       "       [0.05195427, 0.94804573],\n",
       "       [0.6041174 , 0.39588258],\n",
       "       [0.01435703, 0.98564297],\n",
       "       [0.02740878, 0.9725912 ],\n",
       "       [0.92033654, 0.07966343],\n",
       "       [0.2960561 , 0.7039439 ],\n",
       "       [0.85022354, 0.14977643],\n",
       "       [0.6155027 , 0.38449726],\n",
       "       [0.8006189 , 0.1993811 ],\n",
       "       [0.01896173, 0.9810383 ],\n",
       "       [0.820882  , 0.17911799],\n",
       "       [0.50904226, 0.49095774],\n",
       "       [0.9057254 , 0.09427458],\n",
       "       [0.02188277, 0.9781172 ],\n",
       "       [0.01584947, 0.9841505 ],\n",
       "       [0.8135895 , 0.18641047],\n",
       "       [0.18741179, 0.8125882 ],\n",
       "       [0.6041174 , 0.39588258],\n",
       "       [0.9338532 , 0.0661468 ],\n",
       "       [0.8449996 , 0.15500039],\n",
       "       [0.138237  , 0.861763  ],\n",
       "       [0.84749264, 0.15250735],\n",
       "       [0.50824404, 0.491756  ],\n",
       "       [0.06081885, 0.93918115],\n",
       "       [0.94704294, 0.05295705],\n",
       "       [0.8316966 , 0.1683034 ],\n",
       "       [0.01084828, 0.9891517 ],\n",
       "       [0.93928313, 0.06071689],\n",
       "       [0.25974804, 0.74025196],\n",
       "       [0.5265634 , 0.4734366 ],\n",
       "       [0.33305848, 0.6669415 ],\n",
       "       [0.21845901, 0.781541  ],\n",
       "       [0.46633756, 0.53366244],\n",
       "       [0.23473877, 0.76526123],\n",
       "       [0.7599416 , 0.24005842],\n",
       "       [0.27832788, 0.7216721 ],\n",
       "       [0.42249113, 0.57750887],\n",
       "       [0.07626873, 0.92373127],\n",
       "       [0.13998985, 0.86001015],\n",
       "       [0.09196109, 0.9080389 ],\n",
       "       [0.77433175, 0.22566825],\n",
       "       [0.03806347, 0.96193653],\n",
       "       [0.9317479 , 0.06825211],\n",
       "       [0.04024446, 0.95975554],\n",
       "       [0.14914876, 0.85085124],\n",
       "       [0.66818523, 0.3318148 ],\n",
       "       [0.6338038 , 0.36619622],\n",
       "       [0.14308941, 0.8569106 ],\n",
       "       [0.23248893, 0.76751107],\n",
       "       [0.6210728 , 0.37892717],\n",
       "       [0.19214374, 0.80785626],\n",
       "       [0.01090753, 0.98909247],\n",
       "       [0.06432366, 0.93567634],\n",
       "       [0.03793979, 0.9620602 ],\n",
       "       [0.4736203 , 0.5263797 ],\n",
       "       [0.85003114, 0.14996885],\n",
       "       [0.6041174 , 0.39588258],\n",
       "       [0.42006785, 0.57993215],\n",
       "       [0.08598936, 0.91401064],\n",
       "       [0.39041525, 0.60958475],\n",
       "       [0.88544333, 0.1145567 ],\n",
       "       [0.6041174 , 0.39588258],\n",
       "       [0.12155718, 0.8784428 ],\n",
       "       [0.5941896 , 0.40581042],\n",
       "       [0.22113329, 0.7788667 ],\n",
       "       [0.00963295, 0.99036705],\n",
       "       [0.1081906 , 0.8918094 ],\n",
       "       [0.22486544, 0.77513456],\n",
       "       [0.17372459, 0.8262754 ],\n",
       "       [0.51631516, 0.48368484],\n",
       "       [0.9221445 , 0.07785554],\n",
       "       [0.8859978 , 0.11400222],\n",
       "       [0.2960561 , 0.7039439 ],\n",
       "       [0.85350263, 0.1464974 ],\n",
       "       [0.03548652, 0.9645135 ],\n",
       "       [0.5778173 , 0.42218268],\n",
       "       [0.07063305, 0.92936695],\n",
       "       [0.8883144 , 0.11168555],\n",
       "       [0.07459313, 0.9254069 ],\n",
       "       [0.24054343, 0.7594566 ],\n",
       "       [0.94704294, 0.05295705],\n",
       "       [0.29188687, 0.70811313],\n",
       "       [0.6041174 , 0.39588258],\n",
       "       [0.92455864, 0.07544138],\n",
       "       [0.9545937 , 0.04540629],\n",
       "       [0.1875574 , 0.8124426 ],\n",
       "       [0.09906834, 0.90093166],\n",
       "       [0.8046354 , 0.1953646 ],\n",
       "       [0.51309884, 0.48690116],\n",
       "       [0.14862597, 0.85137403],\n",
       "       [0.2716093 , 0.7283907 ],\n",
       "       [0.6054087 , 0.39459127],\n",
       "       [0.5278915 , 0.47210845],\n",
       "       [0.9111358 , 0.0888642 ],\n",
       "       [0.7440642 , 0.25593576],\n",
       "       [0.93504226, 0.06495771],\n",
       "       [0.5778173 , 0.42218268],\n",
       "       [0.22968048, 0.7703195 ],\n",
       "       [0.6990446 , 0.30095538],\n",
       "       [0.94704294, 0.05295705],\n",
       "       [0.16515142, 0.8348486 ],\n",
       "       [0.02397782, 0.9760222 ],\n",
       "       [0.20326346, 0.79673654]], dtype=float32)"
      ]
     },
     "execution_count": 106,
     "metadata": {},
     "output_type": "execute_result"
    }
   ],
   "source": [
    "#Obter a previsões da probabilidade\n",
    "#Note que ele retorna  probabilidade da classe 0 e 1 respectivamente\n",
    "xgb_previsoes_prob = xgb.predict_proba(X_teste)\n",
    "xgb_previsoes_prob"
   ]
  },
  {
   "cell_type": "markdown",
   "metadata": {},
   "source": [
    "### Matriz de Confusão "
   ]
  },
  {
   "cell_type": "code",
   "execution_count": 107,
   "metadata": {},
   "outputs": [
    {
     "data": {
      "image/png": "[encoded data removed]",
      "text/plain": [
       "<Figure size 576x396 with 2 Axes>"
      ]
     },
     "metadata": {},
     "output_type": "display_data"
    }
   ],
   "source": [
    "sns.heatmap(confusion_matrix(y_teste,xgb_previsoes), cmap='OrRd', annot=True, fmt='2.0f')\n",
    "plt.title('XGBoost')\n",
    "plt.ylabel('P R E V I S T O')\n",
    "plt.xlabel('R E A L')\n",
    "plt.show()"
   ]
  },
  {
   "cell_type": "code",
   "execution_count": 108,
   "metadata": {},
   "outputs": [
    {
     "name": "stdout",
     "output_type": "stream",
     "text": [
      "Acurácia:0.83\n",
      "Precisão:0.84\n",
      "Recall ou Sensibilidade:0.82\n",
      "F1-Score:0.83\n",
      "Kappa:0.66\n",
      "Curva ROC:0.83\n"
     ]
    }
   ],
   "source": [
    "#Acurácia, Sensibilidade positiva (VP/(VP+FN),  Precisão, Recall, F1-Score\n",
    "acuracia = accuracy_score(y_teste,xgb_previsoes)\n",
    "precisao = precision_score(y_teste,xgb_previsoes)\n",
    "recall = recall_score(y_teste,xgb_previsoes)\n",
    "f1Score = f1_score(y_teste,xgb_previsoes)\n",
    "xgb_curva_roc = roc_auc_score(y_teste,xgb_previsoes)\n",
    "kappa = cohen_kappa_score(y_teste,xgb_previsoes)\n",
    "print(f'Acurácia:{round(acuracia,2)}')\n",
    "print(f'Precisão:{round(precisao,2)}')\n",
    "print(f'Recall ou Sensibilidade:{round(recall,2)}')\n",
    "print(f'F1-Score:{round(f1Score,2)}')\n",
    "print(f'Kappa:{round(kappa,2)}')\n",
    "print(f'Curva ROC:{round(xgb_curva_roc,2)}')"
   ]
  },
  {
   "cell_type": "code",
   "execution_count": 109,
   "metadata": {},
   "outputs": [
    {
     "name": "stdout",
     "output_type": "stream",
     "text": [
      "              precision    recall  f1-score   support\n",
      "\n",
      "           0       0.82      0.84      0.83       150\n",
      "           1       0.84      0.82      0.83       150\n",
      "\n",
      "    accuracy                           0.83       300\n",
      "   macro avg       0.83      0.83      0.83       300\n",
      "weighted avg       0.83      0.83      0.83       300\n",
      "\n"
     ]
    }
   ],
   "source": [
    "print(classification_report(y_teste,xgb_previsoes))\n"
   ]
  },
  {
   "cell_type": "markdown",
   "metadata": {},
   "source": [
    "### Curva ROC"
   ]
  },
  {
   "cell_type": "code",
   "execution_count": 110,
   "metadata": {},
   "outputs": [
    {
     "data": {
      "image/png": "[encoded data removed]",
      "text/plain": [
       "<Figure size 576x396 with 1 Axes>"
      ]
     },
     "metadata": {},
     "output_type": "display_data"
    }
   ],
   "source": [
    "knc_fp,knc_vp,lim1 = roc_curve(y_teste,knc_previsoes)\n",
    "dt_fp,dt_vp,lim2 = roc_curve(y_teste,dt_previsoes)\n",
    "rf_fp,rf_vp,lim3 = roc_curve(y_teste,rf_previsoes)\n",
    "xgb_fp,xgb_vp,lim4 = roc_curve(y_teste,xgb_previsoes)\n",
    "plt.plot(knc_fp,knc_vp, marker='.', label='KNN='+str(round(knc_curva_roc,2)),color=\"orange\")\n",
    "plt.plot(dt_fp,dt_vp, marker='.', label='Decision Tree='+str(round(dt_curva_roc,2)),color=\"blue\")\n",
    "plt.plot(rf_fp,rf_vp, marker='.', label='Random Forest='+str(round(rf_curva_roc,2)),color=\"yellow\")\n",
    "plt.plot(xgb_fp,xgb_vp, marker='.', label='XGBoost='+str(round(xgb_curva_roc,2)),color=\"green\")\n",
    "plt.plot([0, 1], [0, 1], color='black', linestyle='--')\n",
    "# alterando o nome dos eixos\n",
    "plt.xlabel('1- Especificidade')\n",
    "plt.ylabel('Sensibilidade')\n",
    "# Legenda\n",
    "plt.legend()\n",
    "# Mostrando o gráfico\n",
    "plt.show()\n",
    "#fig.savefig(\"images/mlpr_0305.png\")"
   ]
  },
  {
   "cell_type": "code",
   "execution_count": 111,
   "metadata": {},
   "outputs": [
    {
     "data": {
      "image/png": "[encoded data removed]",
      "text/plain": [
       "<Figure size 576x396 with 1 Axes>"
      ]
     },
     "metadata": {},
     "output_type": "display_data"
    }
   ],
   "source": [
    "#Aqui estamos pegando apenas da classe 1\n",
    "knc_probs = knc_previsoes_prob[:,1]\n",
    "dt_probs = dt_previsoes_prob[:,1]\n",
    "rf_probs = rf_previsoes_prob[:,1]\n",
    "xgb_probs = rf_previsoes_prob[:,1]\n",
    "knc_fp,knc_vp,lim1 = roc_curve(y_teste,knc_probs)\n",
    "dt_fp,dt_vp,lim2 = roc_curve(y_teste,dt_probs)\n",
    "rf_fp,rf_vp,lim3 = roc_curve(y_teste,rf_probs)\n",
    "xgb_fp,xgb_vp,lim3 = roc_curve(y_teste,xgb_probs)\n",
    "plt.plot(knc_fp,knc_vp, marker='.', label='KNN',color=\"orange\")\n",
    "plt.plot(dt_fp,dt_vp, marker='.', label='Decision Tree',color=\"blue\")\n",
    "plt.plot(rf_fp,rf_vp, marker='.', label='Random Forest',color=\"yellow\")\n",
    "plt.plot(xgb_fp,xgb_vp, marker='.', label='XGBoost',color=\"green\")\n",
    "plt.plot([0, 1], [0, 1], color='black', linestyle='--')\n",
    "# alterando o nome dos eixos\n",
    "plt.xlabel('1- Especificidade')\n",
    "plt.ylabel('Sensibilidade')\n",
    "# Legenda\n",
    "plt.legend()\n",
    "# Mostrando o gráfico\n",
    "plt.show()\n",
    "#fig.savefig(\"images/mlpr_0305.png\")"
   ]
  },
  {
   "cell_type": "code",
   "execution_count": 112,
   "metadata": {},
   "outputs": [
    {
     "data": {
      "text/plain": [
       "array([0])"
      ]
     },
     "execution_count": 112,
     "metadata": {},
     "output_type": "execute_result"
    }
   ],
   "source": [
    "xgb_previsoes_1 = xgb.predict(X_teste[:1])\n",
    "xgb_previsoes_1"
   ]
  },
  {
   "cell_type": "code",
   "execution_count": 114,
   "metadata": {},
   "outputs": [
    {
     "data": {
      "text/plain": [
       "array([[0.5037487 , 0.49625129]], dtype=float32)"
      ]
     },
     "execution_count": 114,
     "metadata": {},
     "output_type": "execute_result"
    }
   ],
   "source": [
    "xgb_previsoes_1 = xgb.predict_proba(X_teste[:1])\n",
    "xgb_previsoes_1"
   ]
  },
  {
   "cell_type": "markdown",
   "metadata": {},
   "source": [
    "### Referências"
   ]
  },
  {
   "cell_type": "markdown",
   "metadata": {},
   "source": [
    "### Harrison, Matt. Machine Learning – Guia de Referência Rápida. Novatec Editora. Edição do Kindle. \n",
    "### KNeighborsClassifier. Disponível em: https://scikit-learn.org/stable/modules/generated/sklearn.neighbors.KNeighborsClassifier.html. Acesso em 19/10/2022.\n",
    "### Decision Tree. Disponível em: https://scikit-learn.org/stable/modules/generated/sklearn.tree.DecisionTreeClassifier.html. Acesso em 19/10/2022.\n",
    "### RandomForestClassifier. Disponível em: https://scikit-learn.org/stable/modules/generated/sklearn.ensemble.RandomForestClassifier.html. Acesso em 19/10/2022."
   ]
  }
 ],
 "metadata": {
  "jupytext": {
   "formats": "ipynb,py:light"
  },
  "kernelspec": {
   "display_name": "Python 3",
   "language": "python",
   "name": "python3"
  },
  "language_info": {
   "codemirror_mode": {
    "name": "ipython",
    "version": 3
   },
   "file_extension": ".py",
   "mimetype": "text/x-python",
   "name": "python",
   "nbconvert_exporter": "python",
   "pygments_lexer": "ipython3",
   "version": "3.8.8"
  }
 },
 "nbformat": 4,
 "nbformat_minor": 2
}
