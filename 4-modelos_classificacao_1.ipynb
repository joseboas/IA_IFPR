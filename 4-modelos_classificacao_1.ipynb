{
 "cells": [
  {
   "cell_type": "markdown",
   "metadata": {},
   "source": [
    "# Antes de entrarmos nos modelos iremos estudar as principais métricas de avaliação. Vejamos no tutorial como elas são."
   ]
  },
  {
   "cell_type": "markdown",
   "metadata": {},
   "source": [
    "# Classificação\n",
    "* A classificação é um método de aprendizagem supervisionada (supervised learning) para atribuir um rótulo a uma amostra com base nos atributos;\n",
    "* A biblioteca sklearn implementa diversos modelos úteis e comuns;\n",
    "* Veremos também alguns modelos que não estão no sklearn."
   ]
  },
  {
   "cell_type": "markdown",
   "metadata": {},
   "source": [
    "## Regressão Logística\n",
    "* A regressão logística estima probabilidades usando uma função logística;\n",
    "* Esse tem sido o modelo de classificação padrão para a maioria das ciências."
   ]
  },
  {
   "cell_type": "markdown",
   "metadata": {},
   "source": [
    "<img src=\"regressao_logistica.png\" width=\"400px\" align=\"left\"><br>"
   ]
  },
  {
   "cell_type": "code",
   "execution_count": 2,
   "metadata": {},
   "outputs": [],
   "source": [
    "#Vou importar todos os modelos de classificação padrão do sklearn\n",
    "import warnings\n",
    "warnings.filterwarnings('ignore')\n",
    "import pandas as pd\n",
    "import seaborn as sns\n",
    "from sklearn.linear_model import LogisticRegression\n",
    "from sklearn.model_selection import train_test_split\n",
    "from sklearn.metrics import (cohen_kappa_score,confusion_matrix, accuracy_score, precision_score, recall_score, \n",
    "f1_score, roc_auc_score,roc_curve,auc,r2_score,classification_report)\n",
    "import matplotlib.pyplot as plt\n",
    "from yellowbrick.classifier import  ROCAUC"
   ]
  },
  {
   "cell_type": "code",
   "execution_count": 2,
   "metadata": {},
   "outputs": [],
   "source": [
    "#Carregar os dados\n",
    "df = pd.read_csv('titanic3_processado.csv', delimiter = ',')"
   ]
  },
  {
   "cell_type": "code",
   "execution_count": 3,
   "metadata": {},
   "outputs": [
    {
     "data": {
      "text/html": [
       "<div>\n",
       "<style scoped>\n",
       "    .dataframe tbody tr th:only-of-type {\n",
       "        vertical-align: middle;\n",
       "    }\n",
       "\n",
       "    .dataframe tbody tr th {\n",
       "        vertical-align: top;\n",
       "    }\n",
       "\n",
       "    .dataframe thead th {\n",
       "        text-align: right;\n",
       "    }\n",
       "</style>\n",
       "<table border=\"1\" class=\"dataframe\">\n",
       "  <thead>\n",
       "    <tr style=\"text-align: right;\">\n",
       "      <th></th>\n",
       "      <th>passenger_id</th>\n",
       "      <th>classe</th>\n",
       "      <th>sobreviveu</th>\n",
       "      <th>idade</th>\n",
       "      <th>irmaos_conjuge</th>\n",
       "      <th>pais_filhos</th>\n",
       "      <th>tarifa</th>\n",
       "      <th>sexo_female</th>\n",
       "      <th>sexo_male</th>\n",
       "      <th>embarque_24.0</th>\n",
       "      <th>embarque_C</th>\n",
       "      <th>embarque_Q</th>\n",
       "      <th>embarque_S</th>\n",
       "    </tr>\n",
       "  </thead>\n",
       "  <tbody>\n",
       "    <tr>\n",
       "      <th>0</th>\n",
       "      <td>0</td>\n",
       "      <td>1</td>\n",
       "      <td>1</td>\n",
       "      <td>29.0000</td>\n",
       "      <td>0</td>\n",
       "      <td>0</td>\n",
       "      <td>14.4542</td>\n",
       "      <td>1</td>\n",
       "      <td>0</td>\n",
       "      <td>0</td>\n",
       "      <td>0</td>\n",
       "      <td>0</td>\n",
       "      <td>1</td>\n",
       "    </tr>\n",
       "    <tr>\n",
       "      <th>1</th>\n",
       "      <td>1</td>\n",
       "      <td>1</td>\n",
       "      <td>1</td>\n",
       "      <td>0.9167</td>\n",
       "      <td>1</td>\n",
       "      <td>2</td>\n",
       "      <td>14.4542</td>\n",
       "      <td>0</td>\n",
       "      <td>1</td>\n",
       "      <td>0</td>\n",
       "      <td>0</td>\n",
       "      <td>0</td>\n",
       "      <td>1</td>\n",
       "    </tr>\n",
       "    <tr>\n",
       "      <th>2</th>\n",
       "      <td>5</td>\n",
       "      <td>1</td>\n",
       "      <td>1</td>\n",
       "      <td>48.0000</td>\n",
       "      <td>0</td>\n",
       "      <td>0</td>\n",
       "      <td>26.5500</td>\n",
       "      <td>0</td>\n",
       "      <td>1</td>\n",
       "      <td>0</td>\n",
       "      <td>0</td>\n",
       "      <td>0</td>\n",
       "      <td>1</td>\n",
       "    </tr>\n",
       "    <tr>\n",
       "      <th>3</th>\n",
       "      <td>6</td>\n",
       "      <td>1</td>\n",
       "      <td>1</td>\n",
       "      <td>63.0000</td>\n",
       "      <td>1</td>\n",
       "      <td>0</td>\n",
       "      <td>77.9583</td>\n",
       "      <td>1</td>\n",
       "      <td>0</td>\n",
       "      <td>0</td>\n",
       "      <td>0</td>\n",
       "      <td>0</td>\n",
       "      <td>1</td>\n",
       "    </tr>\n",
       "    <tr>\n",
       "      <th>4</th>\n",
       "      <td>8</td>\n",
       "      <td>1</td>\n",
       "      <td>1</td>\n",
       "      <td>53.0000</td>\n",
       "      <td>2</td>\n",
       "      <td>0</td>\n",
       "      <td>51.4792</td>\n",
       "      <td>1</td>\n",
       "      <td>0</td>\n",
       "      <td>0</td>\n",
       "      <td>0</td>\n",
       "      <td>0</td>\n",
       "      <td>1</td>\n",
       "    </tr>\n",
       "  </tbody>\n",
       "</table>\n",
       "</div>"
      ],
      "text/plain": [
       "   passenger_id  classe  sobreviveu    idade  irmaos_conjuge  pais_filhos  \\\n",
       "0             0       1           1  29.0000               0            0   \n",
       "1             1       1           1   0.9167               1            2   \n",
       "2             5       1           1  48.0000               0            0   \n",
       "3             6       1           1  63.0000               1            0   \n",
       "4             8       1           1  53.0000               2            0   \n",
       "\n",
       "    tarifa  sexo_female  sexo_male  embarque_24.0  embarque_C  embarque_Q  \\\n",
       "0  14.4542            1          0              0           0           0   \n",
       "1  14.4542            0          1              0           0           0   \n",
       "2  26.5500            0          1              0           0           0   \n",
       "3  77.9583            1          0              0           0           0   \n",
       "4  51.4792            1          0              0           0           0   \n",
       "\n",
       "   embarque_S  \n",
       "0           1  \n",
       "1           1  \n",
       "2           1  \n",
       "3           1  \n",
       "4           1  "
      ]
     },
     "execution_count": 3,
     "metadata": {},
     "output_type": "execute_result"
    }
   ],
   "source": [
    "df.head()"
   ]
  },
  {
   "cell_type": "code",
   "execution_count": 4,
   "metadata": {},
   "outputs": [
    {
     "data": {
      "text/html": [
       "<div>\n",
       "<style scoped>\n",
       "    .dataframe tbody tr th:only-of-type {\n",
       "        vertical-align: middle;\n",
       "    }\n",
       "\n",
       "    .dataframe tbody tr th {\n",
       "        vertical-align: top;\n",
       "    }\n",
       "\n",
       "    .dataframe thead th {\n",
       "        text-align: right;\n",
       "    }\n",
       "</style>\n",
       "<table border=\"1\" class=\"dataframe\">\n",
       "  <thead>\n",
       "    <tr style=\"text-align: right;\">\n",
       "      <th></th>\n",
       "      <th>classe</th>\n",
       "      <th>sobreviveu</th>\n",
       "      <th>idade</th>\n",
       "      <th>irmaos_conjuge</th>\n",
       "      <th>pais_filhos</th>\n",
       "      <th>tarifa</th>\n",
       "      <th>sexo_female</th>\n",
       "      <th>sexo_male</th>\n",
       "      <th>embarque_24.0</th>\n",
       "      <th>embarque_C</th>\n",
       "      <th>embarque_Q</th>\n",
       "      <th>embarque_S</th>\n",
       "    </tr>\n",
       "    <tr>\n",
       "      <th>passenger_id</th>\n",
       "      <th></th>\n",
       "      <th></th>\n",
       "      <th></th>\n",
       "      <th></th>\n",
       "      <th></th>\n",
       "      <th></th>\n",
       "      <th></th>\n",
       "      <th></th>\n",
       "      <th></th>\n",
       "      <th></th>\n",
       "      <th></th>\n",
       "      <th></th>\n",
       "    </tr>\n",
       "  </thead>\n",
       "  <tbody>\n",
       "    <tr>\n",
       "      <th>0</th>\n",
       "      <td>1</td>\n",
       "      <td>1</td>\n",
       "      <td>29.0000</td>\n",
       "      <td>0</td>\n",
       "      <td>0</td>\n",
       "      <td>14.4542</td>\n",
       "      <td>1</td>\n",
       "      <td>0</td>\n",
       "      <td>0</td>\n",
       "      <td>0</td>\n",
       "      <td>0</td>\n",
       "      <td>1</td>\n",
       "    </tr>\n",
       "    <tr>\n",
       "      <th>1</th>\n",
       "      <td>1</td>\n",
       "      <td>1</td>\n",
       "      <td>0.9167</td>\n",
       "      <td>1</td>\n",
       "      <td>2</td>\n",
       "      <td>14.4542</td>\n",
       "      <td>0</td>\n",
       "      <td>1</td>\n",
       "      <td>0</td>\n",
       "      <td>0</td>\n",
       "      <td>0</td>\n",
       "      <td>1</td>\n",
       "    </tr>\n",
       "    <tr>\n",
       "      <th>5</th>\n",
       "      <td>1</td>\n",
       "      <td>1</td>\n",
       "      <td>48.0000</td>\n",
       "      <td>0</td>\n",
       "      <td>0</td>\n",
       "      <td>26.5500</td>\n",
       "      <td>0</td>\n",
       "      <td>1</td>\n",
       "      <td>0</td>\n",
       "      <td>0</td>\n",
       "      <td>0</td>\n",
       "      <td>1</td>\n",
       "    </tr>\n",
       "    <tr>\n",
       "      <th>6</th>\n",
       "      <td>1</td>\n",
       "      <td>1</td>\n",
       "      <td>63.0000</td>\n",
       "      <td>1</td>\n",
       "      <td>0</td>\n",
       "      <td>77.9583</td>\n",
       "      <td>1</td>\n",
       "      <td>0</td>\n",
       "      <td>0</td>\n",
       "      <td>0</td>\n",
       "      <td>0</td>\n",
       "      <td>1</td>\n",
       "    </tr>\n",
       "    <tr>\n",
       "      <th>8</th>\n",
       "      <td>1</td>\n",
       "      <td>1</td>\n",
       "      <td>53.0000</td>\n",
       "      <td>2</td>\n",
       "      <td>0</td>\n",
       "      <td>51.4792</td>\n",
       "      <td>1</td>\n",
       "      <td>0</td>\n",
       "      <td>0</td>\n",
       "      <td>0</td>\n",
       "      <td>0</td>\n",
       "      <td>1</td>\n",
       "    </tr>\n",
       "  </tbody>\n",
       "</table>\n",
       "</div>"
      ],
      "text/plain": [
       "              classe  sobreviveu    idade  irmaos_conjuge  pais_filhos  \\\n",
       "passenger_id                                                             \n",
       "0                  1           1  29.0000               0            0   \n",
       "1                  1           1   0.9167               1            2   \n",
       "5                  1           1  48.0000               0            0   \n",
       "6                  1           1  63.0000               1            0   \n",
       "8                  1           1  53.0000               2            0   \n",
       "\n",
       "               tarifa  sexo_female  sexo_male  embarque_24.0  embarque_C  \\\n",
       "passenger_id                                                               \n",
       "0             14.4542            1          0              0           0   \n",
       "1             14.4542            0          1              0           0   \n",
       "5             26.5500            0          1              0           0   \n",
       "6             77.9583            1          0              0           0   \n",
       "8             51.4792            1          0              0           0   \n",
       "\n",
       "              embarque_Q  embarque_S  \n",
       "passenger_id                          \n",
       "0                      0           1  \n",
       "1                      0           1  \n",
       "5                      0           1  \n",
       "6                      0           1  \n",
       "8                      0           1  "
      ]
     },
     "execution_count": 4,
     "metadata": {},
     "output_type": "execute_result"
    }
   ],
   "source": [
    "#Setar o passenger_id como index\n",
    "df.set_index('passenger_id',inplace = True)\n",
    "df.head()"
   ]
  },
  {
   "cell_type": "code",
   "execution_count": 7,
   "metadata": {},
   "outputs": [
    {
     "data": {
      "text/plain": [
       "0    500\n",
       "1    500\n",
       "Name: sobreviveu, dtype: int64"
      ]
     },
     "execution_count": 7,
     "metadata": {},
     "output_type": "execute_result"
    }
   ],
   "source": [
    "#Vamos ver se continuam balanceados\n",
    "df.sobreviveu.value_counts() "
   ]
  },
  {
   "cell_type": "code",
   "execution_count": 8,
   "metadata": {},
   "outputs": [],
   "source": [
    "#Vamos separar a classe da variável\n",
    "X = df.drop(['sobreviveu'], axis=1)\n",
    "y = df['sobreviveu']"
   ]
  },
  {
   "cell_type": "code",
   "execution_count": 9,
   "metadata": {},
   "outputs": [
    {
     "name": "stdout",
     "output_type": "stream",
     "text": [
      "Não sobreviveu:  500\n",
      "Sobreviveu :  500\n"
     ]
    },
    {
     "data": {
      "image/png": "[encoded data removed]",
      "text/plain": [
       "<Figure size 576x396 with 1 Axes>"
      ]
     },
     "metadata": {},
     "output_type": "display_data"
    }
   ],
   "source": [
    "#Rever a distruição das amostras entre as classes\n",
    "sns.set(style=\"darkgrid\")\n",
    "ax = sns.countplot(x = y)      \n",
    "N, S = y.value_counts(sort=True) \n",
    "print('Não sobreviveu: ',N)\n",
    "print('Sobreviveu : ',S)"
   ]
  },
  {
   "cell_type": "markdown",
   "metadata": {},
   "source": [
    "### Normalização"
   ]
  },
  {
   "cell_type": "code",
   "execution_count": 10,
   "metadata": {},
   "outputs": [],
   "source": [
    "from sklearn.preprocessing import MinMaxScaler\n",
    "# create a scaler object\n",
    "scaler = MinMaxScaler()\n",
    "# fit and transform the data\n",
    "X = pd.DataFrame(scaler.fit_transform(X), columns=X.columns)"
   ]
  },
  {
   "cell_type": "code",
   "execution_count": 11,
   "metadata": {},
   "outputs": [
    {
     "data": {
      "text/html": [
       "<div>\n",
       "<style scoped>\n",
       "    .dataframe tbody tr th:only-of-type {\n",
       "        vertical-align: middle;\n",
       "    }\n",
       "\n",
       "    .dataframe tbody tr th {\n",
       "        vertical-align: top;\n",
       "    }\n",
       "\n",
       "    .dataframe thead th {\n",
       "        text-align: right;\n",
       "    }\n",
       "</style>\n",
       "<table border=\"1\" class=\"dataframe\">\n",
       "  <thead>\n",
       "    <tr style=\"text-align: right;\">\n",
       "      <th></th>\n",
       "      <th>classe</th>\n",
       "      <th>idade</th>\n",
       "      <th>irmaos_conjuge</th>\n",
       "      <th>pais_filhos</th>\n",
       "      <th>tarifa</th>\n",
       "      <th>sexo_female</th>\n",
       "      <th>sexo_male</th>\n",
       "      <th>embarque_24.0</th>\n",
       "      <th>embarque_C</th>\n",
       "      <th>embarque_Q</th>\n",
       "      <th>embarque_S</th>\n",
       "    </tr>\n",
       "  </thead>\n",
       "  <tbody>\n",
       "    <tr>\n",
       "      <th>0</th>\n",
       "      <td>0.0</td>\n",
       "      <td>0.361169</td>\n",
       "      <td>0.000</td>\n",
       "      <td>0.000000</td>\n",
       "      <td>0.154590</td>\n",
       "      <td>1.0</td>\n",
       "      <td>0.0</td>\n",
       "      <td>0.0</td>\n",
       "      <td>0.0</td>\n",
       "      <td>0.0</td>\n",
       "      <td>1.0</td>\n",
       "    </tr>\n",
       "    <tr>\n",
       "      <th>1</th>\n",
       "      <td>0.0</td>\n",
       "      <td>0.009395</td>\n",
       "      <td>0.125</td>\n",
       "      <td>0.222222</td>\n",
       "      <td>0.154590</td>\n",
       "      <td>0.0</td>\n",
       "      <td>1.0</td>\n",
       "      <td>0.0</td>\n",
       "      <td>0.0</td>\n",
       "      <td>0.0</td>\n",
       "      <td>1.0</td>\n",
       "    </tr>\n",
       "    <tr>\n",
       "      <th>2</th>\n",
       "      <td>0.0</td>\n",
       "      <td>0.599165</td>\n",
       "      <td>0.000</td>\n",
       "      <td>0.000000</td>\n",
       "      <td>0.283957</td>\n",
       "      <td>0.0</td>\n",
       "      <td>1.0</td>\n",
       "      <td>0.0</td>\n",
       "      <td>0.0</td>\n",
       "      <td>0.0</td>\n",
       "      <td>1.0</td>\n",
       "    </tr>\n",
       "    <tr>\n",
       "      <th>3</th>\n",
       "      <td>0.0</td>\n",
       "      <td>0.787056</td>\n",
       "      <td>0.125</td>\n",
       "      <td>0.000000</td>\n",
       "      <td>0.833779</td>\n",
       "      <td>1.0</td>\n",
       "      <td>0.0</td>\n",
       "      <td>0.0</td>\n",
       "      <td>0.0</td>\n",
       "      <td>0.0</td>\n",
       "      <td>1.0</td>\n",
       "    </tr>\n",
       "    <tr>\n",
       "      <th>4</th>\n",
       "      <td>0.0</td>\n",
       "      <td>0.661795</td>\n",
       "      <td>0.250</td>\n",
       "      <td>0.000000</td>\n",
       "      <td>0.550580</td>\n",
       "      <td>1.0</td>\n",
       "      <td>0.0</td>\n",
       "      <td>0.0</td>\n",
       "      <td>0.0</td>\n",
       "      <td>0.0</td>\n",
       "      <td>1.0</td>\n",
       "    </tr>\n",
       "    <tr>\n",
       "      <th>...</th>\n",
       "      <td>...</td>\n",
       "      <td>...</td>\n",
       "      <td>...</td>\n",
       "      <td>...</td>\n",
       "      <td>...</td>\n",
       "      <td>...</td>\n",
       "      <td>...</td>\n",
       "      <td>...</td>\n",
       "      <td>...</td>\n",
       "      <td>...</td>\n",
       "      <td>...</td>\n",
       "    </tr>\n",
       "    <tr>\n",
       "      <th>995</th>\n",
       "      <td>1.0</td>\n",
       "      <td>0.035490</td>\n",
       "      <td>0.000</td>\n",
       "      <td>0.000000</td>\n",
       "      <td>0.082620</td>\n",
       "      <td>0.0</td>\n",
       "      <td>1.0</td>\n",
       "      <td>0.0</td>\n",
       "      <td>0.0</td>\n",
       "      <td>1.0</td>\n",
       "      <td>0.0</td>\n",
       "    </tr>\n",
       "    <tr>\n",
       "      <th>996</th>\n",
       "      <td>1.0</td>\n",
       "      <td>0.035490</td>\n",
       "      <td>0.125</td>\n",
       "      <td>0.222222</td>\n",
       "      <td>0.250802</td>\n",
       "      <td>1.0</td>\n",
       "      <td>0.0</td>\n",
       "      <td>0.0</td>\n",
       "      <td>0.0</td>\n",
       "      <td>0.0</td>\n",
       "      <td>1.0</td>\n",
       "    </tr>\n",
       "    <tr>\n",
       "      <th>997</th>\n",
       "      <td>0.0</td>\n",
       "      <td>0.686847</td>\n",
       "      <td>0.125</td>\n",
       "      <td>0.000000</td>\n",
       "      <td>0.635294</td>\n",
       "      <td>0.0</td>\n",
       "      <td>1.0</td>\n",
       "      <td>0.0</td>\n",
       "      <td>1.0</td>\n",
       "      <td>0.0</td>\n",
       "      <td>0.0</td>\n",
       "    </tr>\n",
       "    <tr>\n",
       "      <th>998</th>\n",
       "      <td>0.5</td>\n",
       "      <td>0.260960</td>\n",
       "      <td>0.125</td>\n",
       "      <td>0.000000</td>\n",
       "      <td>0.122995</td>\n",
       "      <td>0.0</td>\n",
       "      <td>1.0</td>\n",
       "      <td>0.0</td>\n",
       "      <td>0.0</td>\n",
       "      <td>0.0</td>\n",
       "      <td>1.0</td>\n",
       "    </tr>\n",
       "    <tr>\n",
       "      <th>999</th>\n",
       "      <td>1.0</td>\n",
       "      <td>0.323591</td>\n",
       "      <td>0.000</td>\n",
       "      <td>0.000000</td>\n",
       "      <td>0.083155</td>\n",
       "      <td>0.0</td>\n",
       "      <td>1.0</td>\n",
       "      <td>0.0</td>\n",
       "      <td>0.0</td>\n",
       "      <td>0.0</td>\n",
       "      <td>1.0</td>\n",
       "    </tr>\n",
       "  </tbody>\n",
       "</table>\n",
       "<p>1000 rows × 11 columns</p>\n",
       "</div>"
      ],
      "text/plain": [
       "     classe     idade  irmaos_conjuge  pais_filhos    tarifa  sexo_female  \\\n",
       "0       0.0  0.361169           0.000     0.000000  0.154590          1.0   \n",
       "1       0.0  0.009395           0.125     0.222222  0.154590          0.0   \n",
       "2       0.0  0.599165           0.000     0.000000  0.283957          0.0   \n",
       "3       0.0  0.787056           0.125     0.000000  0.833779          1.0   \n",
       "4       0.0  0.661795           0.250     0.000000  0.550580          1.0   \n",
       "..      ...       ...             ...          ...       ...          ...   \n",
       "995     1.0  0.035490           0.000     0.000000  0.082620          0.0   \n",
       "996     1.0  0.035490           0.125     0.222222  0.250802          1.0   \n",
       "997     0.0  0.686847           0.125     0.000000  0.635294          0.0   \n",
       "998     0.5  0.260960           0.125     0.000000  0.122995          0.0   \n",
       "999     1.0  0.323591           0.000     0.000000  0.083155          0.0   \n",
       "\n",
       "     sexo_male  embarque_24.0  embarque_C  embarque_Q  embarque_S  \n",
       "0          0.0            0.0         0.0         0.0         1.0  \n",
       "1          1.0            0.0         0.0         0.0         1.0  \n",
       "2          1.0            0.0         0.0         0.0         1.0  \n",
       "3          0.0            0.0         0.0         0.0         1.0  \n",
       "4          0.0            0.0         0.0         0.0         1.0  \n",
       "..         ...            ...         ...         ...         ...  \n",
       "995        1.0            0.0         0.0         1.0         0.0  \n",
       "996        0.0            0.0         0.0         0.0         1.0  \n",
       "997        1.0            0.0         1.0         0.0         0.0  \n",
       "998        1.0            0.0         0.0         0.0         1.0  \n",
       "999        1.0            0.0         0.0         0.0         1.0  \n",
       "\n",
       "[1000 rows x 11 columns]"
      ]
     },
     "execution_count": 11,
     "metadata": {},
     "output_type": "execute_result"
    }
   ],
   "source": [
    "X"
   ]
  },
  {
   "cell_type": "code",
   "execution_count": 49,
   "metadata": {},
   "outputs": [],
   "source": [
    "#Vamos separar em treino e teste\n",
    "#Obs: random_state deixa os valores aleatírios dentro de um range\n",
    "#Eu posso usar 3,5,6, qualquer número inteiro que dentro de um range eu pego um sequencia de valores\n",
    "X_treino, X_teste, y_treino, y_teste = train_test_split(X,y,test_size = 0.3,random_state = 42)"
   ]
  },
  {
   "cell_type": "code",
   "execution_count": 50,
   "metadata": {},
   "outputs": [
    {
     "name": "stdout",
     "output_type": "stream",
     "text": [
      "700\n",
      "300\n"
     ]
    }
   ],
   "source": [
    "print(len(X_treino))\n",
    "print(len(X_teste))"
   ]
  },
  {
   "cell_type": "code",
   "execution_count": 51,
   "metadata": {},
   "outputs": [],
   "source": [
    "#Vamos instanciar\n",
    "lr = LogisticRegression(random_state=42)"
   ]
  },
  {
   "cell_type": "code",
   "execution_count": 52,
   "metadata": {},
   "outputs": [
    {
     "data": {
      "text/html": [
       "<style>#sk-container-id-4 {color: black;background-color: white;}#sk-container-id-4 pre{padding: 0;}#sk-container-id-4 div.sk-toggleable {background-color: white;}#sk-container-id-4 label.sk-toggleable__label {cursor: pointer;display: block;width: 100%;margin-bottom: 0;padding: 0.3em;box-sizing: border-box;text-align: center;}#sk-container-id-4 label.sk-toggleable__label-arrow:before {content: \"▸\";float: left;margin-right: 0.25em;color: #696969;}#sk-container-id-4 label.sk-toggleable__label-arrow:hover:before {color: black;}#sk-container-id-4 div.sk-estimator:hover label.sk-toggleable__label-arrow:before {color: black;}#sk-container-id-4 div.sk-toggleable__content {max-height: 0;max-width: 0;overflow: hidden;text-align: left;background-color: #f0f8ff;}#sk-container-id-4 div.sk-toggleable__content pre {margin: 0.2em;color: black;border-radius: 0.25em;background-color: #f0f8ff;}#sk-container-id-4 input.sk-toggleable__control:checked~div.sk-toggleable__content {max-height: 200px;max-width: 100%;overflow: auto;}#sk-container-id-4 input.sk-toggleable__control:checked~label.sk-toggleable__label-arrow:before {content: \"▾\";}#sk-container-id-4 div.sk-estimator input.sk-toggleable__control:checked~label.sk-toggleable__label {background-color: #d4ebff;}#sk-container-id-4 div.sk-label input.sk-toggleable__control:checked~label.sk-toggleable__label {background-color: #d4ebff;}#sk-container-id-4 input.sk-hidden--visually {border: 0;clip: rect(1px 1px 1px 1px);clip: rect(1px, 1px, 1px, 1px);height: 1px;margin: -1px;overflow: hidden;padding: 0;position: absolute;width: 1px;}#sk-container-id-4 div.sk-estimator {font-family: monospace;background-color: #f0f8ff;border: 1px dotted black;border-radius: 0.25em;box-sizing: border-box;margin-bottom: 0.5em;}#sk-container-id-4 div.sk-estimator:hover {background-color: #d4ebff;}#sk-container-id-4 div.sk-parallel-item::after {content: \"\";width: 100%;border-bottom: 1px solid gray;flex-grow: 1;}#sk-container-id-4 div.sk-label:hover label.sk-toggleable__label {background-color: #d4ebff;}#sk-container-id-4 div.sk-serial::before {content: \"\";position: absolute;border-left: 1px solid gray;box-sizing: border-box;top: 0;bottom: 0;left: 50%;z-index: 0;}#sk-container-id-4 div.sk-serial {display: flex;flex-direction: column;align-items: center;background-color: white;padding-right: 0.2em;padding-left: 0.2em;position: relative;}#sk-container-id-4 div.sk-item {position: relative;z-index: 1;}#sk-container-id-4 div.sk-parallel {display: flex;align-items: stretch;justify-content: center;background-color: white;position: relative;}#sk-container-id-4 div.sk-item::before, #sk-container-id-4 div.sk-parallel-item::before {content: \"\";position: absolute;border-left: 1px solid gray;box-sizing: border-box;top: 0;bottom: 0;left: 50%;z-index: -1;}#sk-container-id-4 div.sk-parallel-item {display: flex;flex-direction: column;z-index: 1;position: relative;background-color: white;}#sk-container-id-4 div.sk-parallel-item:first-child::after {align-self: flex-end;width: 50%;}#sk-container-id-4 div.sk-parallel-item:last-child::after {align-self: flex-start;width: 50%;}#sk-container-id-4 div.sk-parallel-item:only-child::after {width: 0;}#sk-container-id-4 div.sk-dashed-wrapped {border: 1px dashed gray;margin: 0 0.4em 0.5em 0.4em;box-sizing: border-box;padding-bottom: 0.4em;background-color: white;}#sk-container-id-4 div.sk-label label {font-family: monospace;font-weight: bold;display: inline-block;line-height: 1.2em;}#sk-container-id-4 div.sk-label-container {text-align: center;}#sk-container-id-4 div.sk-container {/* jupyter's `normalize.less` sets `[hidden] { display: none; }` but bootstrap.min.css set `[hidden] { display: none !important; }` so we also need the `!important` here to be able to override the default hidden behavior on the sphinx rendered scikit-learn.org. See: https://github.com/scikit-learn/scikit-learn/issues/21755 */display: inline-block !important;position: relative;}#sk-container-id-4 div.sk-text-repr-fallback {display: none;}</style><div id=\"sk-container-id-4\" class=\"sk-top-container\"><div class=\"sk-text-repr-fallback\"><pre>LogisticRegression(random_state=42)</pre><b>In a Jupyter environment, please rerun this cell to show the HTML representation or trust the notebook. <br />On GitHub, the HTML representation is unable to render, please try loading this page with nbviewer.org.</b></div><div class=\"sk-container\" hidden><div class=\"sk-item\"><div class=\"sk-estimator sk-toggleable\"><input class=\"sk-toggleable__control sk-hidden--visually\" id=\"sk-estimator-id-4\" type=\"checkbox\" checked><label for=\"sk-estimator-id-4\" class=\"sk-toggleable__label sk-toggleable__label-arrow\">LogisticRegression</label><div class=\"sk-toggleable__content\"><pre>LogisticRegression(random_state=42)</pre></div></div></div></div></div>"
      ],
      "text/plain": [
       "LogisticRegression(random_state=42)"
      ]
     },
     "execution_count": 52,
     "metadata": {},
     "output_type": "execute_result"
    }
   ],
   "source": [
    "#Treinar\n",
    "lr.fit(X_treino, y_treino)"
   ]
  },
  {
   "cell_type": "code",
   "execution_count": 53,
   "metadata": {},
   "outputs": [
    {
     "data": {
      "text/plain": [
       "0.7833333333333333"
      ]
     },
     "execution_count": 53,
     "metadata": {},
     "output_type": "execute_result"
    }
   ],
   "source": [
    "lr.score(X_teste, y_teste)"
   ]
  },
  {
   "cell_type": "code",
   "execution_count": 54,
   "metadata": {},
   "outputs": [],
   "source": [
    "#A seguir, apresentamos algumas das características que incluiremos em cada modelo:\n",
    "lr = LogisticRegression(C=1.0, class_weight=None, dual=False, fit_intercept=True, \n",
    "                        intercept_scaling=1, max_iter=100, multi_class='ovr', \n",
    "                        n_jobs=1, penalty='l2', random_state=42, solver='liblinear', \n",
    "                        tol=0.0001, verbose=0, warm_start=False)"
   ]
  },
  {
   "cell_type": "code",
   "execution_count": 55,
   "metadata": {},
   "outputs": [
    {
     "data": {
      "text/html": [
       "<style>#sk-container-id-5 {color: black;background-color: white;}#sk-container-id-5 pre{padding: 0;}#sk-container-id-5 div.sk-toggleable {background-color: white;}#sk-container-id-5 label.sk-toggleable__label {cursor: pointer;display: block;width: 100%;margin-bottom: 0;padding: 0.3em;box-sizing: border-box;text-align: center;}#sk-container-id-5 label.sk-toggleable__label-arrow:before {content: \"▸\";float: left;margin-right: 0.25em;color: #696969;}#sk-container-id-5 label.sk-toggleable__label-arrow:hover:before {color: black;}#sk-container-id-5 div.sk-estimator:hover label.sk-toggleable__label-arrow:before {color: black;}#sk-container-id-5 div.sk-toggleable__content {max-height: 0;max-width: 0;overflow: hidden;text-align: left;background-color: #f0f8ff;}#sk-container-id-5 div.sk-toggleable__content pre {margin: 0.2em;color: black;border-radius: 0.25em;background-color: #f0f8ff;}#sk-container-id-5 input.sk-toggleable__control:checked~div.sk-toggleable__content {max-height: 200px;max-width: 100%;overflow: auto;}#sk-container-id-5 input.sk-toggleable__control:checked~label.sk-toggleable__label-arrow:before {content: \"▾\";}#sk-container-id-5 div.sk-estimator input.sk-toggleable__control:checked~label.sk-toggleable__label {background-color: #d4ebff;}#sk-container-id-5 div.sk-label input.sk-toggleable__control:checked~label.sk-toggleable__label {background-color: #d4ebff;}#sk-container-id-5 input.sk-hidden--visually {border: 0;clip: rect(1px 1px 1px 1px);clip: rect(1px, 1px, 1px, 1px);height: 1px;margin: -1px;overflow: hidden;padding: 0;position: absolute;width: 1px;}#sk-container-id-5 div.sk-estimator {font-family: monospace;background-color: #f0f8ff;border: 1px dotted black;border-radius: 0.25em;box-sizing: border-box;margin-bottom: 0.5em;}#sk-container-id-5 div.sk-estimator:hover {background-color: #d4ebff;}#sk-container-id-5 div.sk-parallel-item::after {content: \"\";width: 100%;border-bottom: 1px solid gray;flex-grow: 1;}#sk-container-id-5 div.sk-label:hover label.sk-toggleable__label {background-color: #d4ebff;}#sk-container-id-5 div.sk-serial::before {content: \"\";position: absolute;border-left: 1px solid gray;box-sizing: border-box;top: 0;bottom: 0;left: 50%;z-index: 0;}#sk-container-id-5 div.sk-serial {display: flex;flex-direction: column;align-items: center;background-color: white;padding-right: 0.2em;padding-left: 0.2em;position: relative;}#sk-container-id-5 div.sk-item {position: relative;z-index: 1;}#sk-container-id-5 div.sk-parallel {display: flex;align-items: stretch;justify-content: center;background-color: white;position: relative;}#sk-container-id-5 div.sk-item::before, #sk-container-id-5 div.sk-parallel-item::before {content: \"\";position: absolute;border-left: 1px solid gray;box-sizing: border-box;top: 0;bottom: 0;left: 50%;z-index: -1;}#sk-container-id-5 div.sk-parallel-item {display: flex;flex-direction: column;z-index: 1;position: relative;background-color: white;}#sk-container-id-5 div.sk-parallel-item:first-child::after {align-self: flex-end;width: 50%;}#sk-container-id-5 div.sk-parallel-item:last-child::after {align-self: flex-start;width: 50%;}#sk-container-id-5 div.sk-parallel-item:only-child::after {width: 0;}#sk-container-id-5 div.sk-dashed-wrapped {border: 1px dashed gray;margin: 0 0.4em 0.5em 0.4em;box-sizing: border-box;padding-bottom: 0.4em;background-color: white;}#sk-container-id-5 div.sk-label label {font-family: monospace;font-weight: bold;display: inline-block;line-height: 1.2em;}#sk-container-id-5 div.sk-label-container {text-align: center;}#sk-container-id-5 div.sk-container {/* jupyter's `normalize.less` sets `[hidden] { display: none; }` but bootstrap.min.css set `[hidden] { display: none !important; }` so we also need the `!important` here to be able to override the default hidden behavior on the sphinx rendered scikit-learn.org. See: https://github.com/scikit-learn/scikit-learn/issues/21755 */display: inline-block !important;position: relative;}#sk-container-id-5 div.sk-text-repr-fallback {display: none;}</style><div id=\"sk-container-id-5\" class=\"sk-top-container\"><div class=\"sk-text-repr-fallback\"><pre>LogisticRegression(multi_class=&#x27;ovr&#x27;, n_jobs=1, random_state=42,\n",
       "                   solver=&#x27;liblinear&#x27;)</pre><b>In a Jupyter environment, please rerun this cell to show the HTML representation or trust the notebook. <br />On GitHub, the HTML representation is unable to render, please try loading this page with nbviewer.org.</b></div><div class=\"sk-container\" hidden><div class=\"sk-item\"><div class=\"sk-estimator sk-toggleable\"><input class=\"sk-toggleable__control sk-hidden--visually\" id=\"sk-estimator-id-5\" type=\"checkbox\" checked><label for=\"sk-estimator-id-5\" class=\"sk-toggleable__label sk-toggleable__label-arrow\">LogisticRegression</label><div class=\"sk-toggleable__content\"><pre>LogisticRegression(multi_class=&#x27;ovr&#x27;, n_jobs=1, random_state=42,\n",
       "                   solver=&#x27;liblinear&#x27;)</pre></div></div></div></div></div>"
      ],
      "text/plain": [
       "LogisticRegression(multi_class='ovr', n_jobs=1, random_state=42,\n",
       "                   solver='liblinear')"
      ]
     },
     "execution_count": 55,
     "metadata": {},
     "output_type": "execute_result"
    }
   ],
   "source": [
    "lr.fit(X_treino, y_treino)"
   ]
  },
  {
   "cell_type": "code",
   "execution_count": 56,
   "metadata": {},
   "outputs": [
    {
     "data": {
      "text/plain": [
       "0.79"
      ]
     },
     "execution_count": 56,
     "metadata": {},
     "output_type": "execute_result"
    }
   ],
   "source": [
    "lr.score(X_teste, y_teste)"
   ]
  },
  {
   "cell_type": "markdown",
   "metadata": {},
   "source": [
    "### Cross Validation. ou Validação Cruzada é uma técnica para avaliar a capacidade de generalização de um modelo,  a partir de um conjunto de dados."
   ]
  },
  {
   "cell_type": "code",
   "execution_count": 57,
   "metadata": {},
   "outputs": [],
   "source": [
    "from sklearn.model_selection import cross_val_score"
   ]
  },
  {
   "cell_type": "code",
   "execution_count": 58,
   "metadata": {},
   "outputs": [
    {
     "name": "stdout",
     "output_type": "stream",
     "text": [
      "Scores = [0.79 0.82 0.8  0.81 0.79 0.76 0.69 0.65 0.63 0.71]\n",
      "Média dos Scores = 0.7449999999999999\n"
     ]
    }
   ],
   "source": [
    "cv_scores = cross_val_score(lr,X,y, cv=10, scoring='accuracy')\n",
    "print(f'Scores = {cv_scores}')\n",
    "print(f'Média dos Scores = {cv_scores.mean()}')"
   ]
  },
  {
   "cell_type": "code",
   "execution_count": 59,
   "metadata": {},
   "outputs": [
    {
     "data": {
      "text/plain": [
       "array([0, 0, 0, 0, 0, 0, 0, 1, 1, 1, 1, 1, 0, 0, 0, 0, 1, 0, 1, 1, 0, 1,\n",
       "       0, 0, 1, 1, 1, 0, 0, 0, 1, 1, 0, 1, 1, 1, 0, 1, 0, 0, 1, 1, 1, 1,\n",
       "       1, 0, 0, 0, 1, 0, 0, 0, 1, 0, 1, 0, 0, 1, 1, 1, 1, 1, 0, 0, 0, 0,\n",
       "       0, 0, 1, 0, 1, 1, 0, 0, 1, 1, 0, 1, 0, 1, 0, 1, 0, 1, 1, 0, 0, 0,\n",
       "       0, 1, 1, 1, 1, 0, 0, 0, 0, 1, 1, 0, 0, 0, 0, 1, 0, 0, 0, 0, 1, 0,\n",
       "       0, 0, 1, 0, 1, 0, 1, 0, 1, 1, 1, 1, 1, 1, 1, 0, 0, 1, 0, 1, 0, 1,\n",
       "       1, 0, 0, 0, 1, 1, 1, 1, 1, 1, 0, 1, 1, 0, 0, 1, 0, 0, 0, 1, 0, 1,\n",
       "       0, 0, 1, 0, 1, 1, 0, 0, 0, 0, 0, 1, 1, 1, 1, 0, 0, 1, 0, 0, 0, 1,\n",
       "       1, 1, 0, 0, 1, 0, 1, 0, 0, 1, 1, 0, 0, 0, 0, 1, 1, 1, 1, 0, 0, 1,\n",
       "       0, 1, 1, 0, 0, 0, 0, 0, 1, 0, 1, 0, 1, 1, 0, 0, 0, 1, 0, 1, 0, 1,\n",
       "       1, 0, 0, 1, 0, 0, 0, 0, 1, 1, 1, 0, 1, 0, 1, 1, 1, 0, 1, 1, 1, 1,\n",
       "       0, 0, 1, 1, 0, 1, 1, 1, 1, 1, 1, 0, 0, 1, 0, 0, 0, 1, 1, 0, 1, 1,\n",
       "       1, 1, 1, 0, 1, 0, 0, 1, 0, 1, 0, 1, 1, 0, 1, 0, 0, 0, 1, 0, 1, 0,\n",
       "       1, 0, 1, 0, 0, 0, 1, 0, 1, 0, 0, 1, 1, 1], dtype=int64)"
      ]
     },
     "execution_count": 59,
     "metadata": {},
     "output_type": "execute_result"
    }
   ],
   "source": [
    "#Obter a previsões\n",
    "lr_previsoes = lr.predict(X_teste)\n",
    "lr_previsoes"
   ]
  },
  {
   "cell_type": "code",
   "execution_count": 60,
   "metadata": {},
   "outputs": [
    {
     "data": {
      "text/plain": [
       "array([[0.5514989 , 0.4485011 ],\n",
       "       [0.7088414 , 0.2911586 ],\n",
       "       [0.80178196, 0.19821804],\n",
       "       [0.69650111, 0.30349889],\n",
       "       [0.79790865, 0.20209135],\n",
       "       [0.57469045, 0.42530955],\n",
       "       [0.50134785, 0.49865215],\n",
       "       [0.1942999 , 0.8057001 ],\n",
       "       [0.25450418, 0.74549582],\n",
       "       [0.07939527, 0.92060473],\n",
       "       [0.29491106, 0.70508894],\n",
       "       [0.1661705 , 0.8338295 ],\n",
       "       [0.87657173, 0.12342827],\n",
       "       [0.82983983, 0.17016017],\n",
       "       [0.66533885, 0.33466115],\n",
       "       [0.83454351, 0.16545649],\n",
       "       [0.25157279, 0.74842721],\n",
       "       [0.8195691 , 0.1804309 ],\n",
       "       [0.28881385, 0.71118615],\n",
       "       [0.39278437, 0.60721563],\n",
       "       [0.75830936, 0.24169064],\n",
       "       [0.05916167, 0.94083833],\n",
       "       [0.79061523, 0.20938477],\n",
       "       [0.7248683 , 0.2751317 ],\n",
       "       [0.19671418, 0.80328582],\n",
       "       [0.23645214, 0.76354786],\n",
       "       [0.3373929 , 0.6626071 ],\n",
       "       [0.73377672, 0.26622328],\n",
       "       [0.83095452, 0.16904548],\n",
       "       [0.86811254, 0.13188746],\n",
       "       [0.28331809, 0.71668191],\n",
       "       [0.076767  , 0.923233  ],\n",
       "       [0.82396608, 0.17603392],\n",
       "       [0.21637448, 0.78362552],\n",
       "       [0.29099924, 0.70900076],\n",
       "       [0.4652623 , 0.5347377 ],\n",
       "       [0.78520576, 0.21479424],\n",
       "       [0.49808256, 0.50191744],\n",
       "       [0.86348944, 0.13651056],\n",
       "       [0.55232769, 0.44767231],\n",
       "       [0.45478018, 0.54521982],\n",
       "       [0.38267152, 0.61732848],\n",
       "       [0.21573754, 0.78426246],\n",
       "       [0.46896839, 0.53103161],\n",
       "       [0.18813232, 0.81186768],\n",
       "       [0.70180682, 0.29819318],\n",
       "       [0.8430732 , 0.1569268 ],\n",
       "       [0.58805056, 0.41194944],\n",
       "       [0.1798023 , 0.8201977 ],\n",
       "       [0.84360869, 0.15639131],\n",
       "       [0.75557632, 0.24442368],\n",
       "       [0.83909104, 0.16090896],\n",
       "       [0.10290436, 0.89709564],\n",
       "       [0.82244601, 0.17755399],\n",
       "       [0.08170431, 0.91829569],\n",
       "       [0.58440124, 0.41559876],\n",
       "       [0.58289847, 0.41710153],\n",
       "       [0.05547307, 0.94452693],\n",
       "       [0.22047374, 0.77952626],\n",
       "       [0.36221134, 0.63778866],\n",
       "       [0.20240443, 0.79759557],\n",
       "       [0.06795371, 0.93204629],\n",
       "       [0.74180097, 0.25819903],\n",
       "       [0.72719581, 0.27280419],\n",
       "       [0.70892788, 0.29107212],\n",
       "       [0.75765294, 0.24234706],\n",
       "       [0.83576577, 0.16423423],\n",
       "       [0.70585852, 0.29414148],\n",
       "       [0.07810457, 0.92189543],\n",
       "       [0.71125049, 0.28874951],\n",
       "       [0.13313626, 0.86686374],\n",
       "       [0.22929895, 0.77070105],\n",
       "       [0.85601006, 0.14398994],\n",
       "       [0.70650742, 0.29349258],\n",
       "       [0.25891329, 0.74108671],\n",
       "       [0.21325464, 0.78674536],\n",
       "       [0.73206029, 0.26793971],\n",
       "       [0.16863605, 0.83136395],\n",
       "       [0.79000616, 0.20999384],\n",
       "       [0.23469651, 0.76530349],\n",
       "       [0.79000616, 0.20999384],\n",
       "       [0.08564105, 0.91435895],\n",
       "       [0.54769438, 0.45230562],\n",
       "       [0.44672506, 0.55327494],\n",
       "       [0.20913372, 0.79086628],\n",
       "       [0.82326941, 0.17673059],\n",
       "       [0.72453363, 0.27546637],\n",
       "       [0.66765124, 0.33234876],\n",
       "       [0.82123147, 0.17876853],\n",
       "       [0.35761502, 0.64238498],\n",
       "       [0.34664134, 0.65335866],\n",
       "       [0.32663537, 0.67336463],\n",
       "       [0.35619653, 0.64380347],\n",
       "       [0.72529587, 0.27470413],\n",
       "       [0.86741114, 0.13258886],\n",
       "       [0.69335901, 0.30664099],\n",
       "       [0.82162188, 0.17837812],\n",
       "       [0.06970287, 0.93029713],\n",
       "       [0.13786289, 0.86213711],\n",
       "       [0.85531088, 0.14468912],\n",
       "       [0.70892788, 0.29107212],\n",
       "       [0.808518  , 0.191482  ],\n",
       "       [0.84767914, 0.15232086],\n",
       "       [0.11997667, 0.88002333],\n",
       "       [0.85122516, 0.14877484],\n",
       "       [0.78989498, 0.21010502],\n",
       "       [0.866128  , 0.133872  ],\n",
       "       [0.74506305, 0.25493695],\n",
       "       [0.10268033, 0.89731967],\n",
       "       [0.84244697, 0.15755303],\n",
       "       [0.7409143 , 0.2590857 ],\n",
       "       [0.8934555 , 0.1065445 ],\n",
       "       [0.20482706, 0.79517294],\n",
       "       [0.75830936, 0.24169064],\n",
       "       [0.07362898, 0.92637102],\n",
       "       [0.79614384, 0.20385616],\n",
       "       [0.09093561, 0.90906439],\n",
       "       [0.85396476, 0.14603524],\n",
       "       [0.47501756, 0.52498244],\n",
       "       [0.20204999, 0.79795001],\n",
       "       [0.25833975, 0.74166025],\n",
       "       [0.29141175, 0.70858825],\n",
       "       [0.37982665, 0.62017335],\n",
       "       [0.10083989, 0.89916011],\n",
       "       [0.14341752, 0.85658248],\n",
       "       [0.77495949, 0.22504051],\n",
       "       [0.64547801, 0.35452199],\n",
       "       [0.20064289, 0.79935711],\n",
       "       [0.7004192 , 0.2995808 ],\n",
       "       [0.25439767, 0.74560233],\n",
       "       [0.74280453, 0.25719547],\n",
       "       [0.3443021 , 0.6556979 ],\n",
       "       [0.2267314 , 0.7732686 ],\n",
       "       [0.75832927, 0.24167073],\n",
       "       [0.64344048, 0.35655952],\n",
       "       [0.60856112, 0.39143888],\n",
       "       [0.42212136, 0.57787864],\n",
       "       [0.2287895 , 0.7712105 ],\n",
       "       [0.47494987, 0.52505013],\n",
       "       [0.0524872 , 0.9475128 ],\n",
       "       [0.09327155, 0.90672845],\n",
       "       [0.19736862, 0.80263138],\n",
       "       [0.81243239, 0.18756761],\n",
       "       [0.19849887, 0.80150113],\n",
       "       [0.34942644, 0.65057356],\n",
       "       [0.78520576, 0.21479424],\n",
       "       [0.58412418, 0.41587582],\n",
       "       [0.17465124, 0.82534876],\n",
       "       [0.75820645, 0.24179355],\n",
       "       [0.82838752, 0.17161248],\n",
       "       [0.76197707, 0.23802293],\n",
       "       [0.05241797, 0.94758203],\n",
       "       [0.68908361, 0.31091639],\n",
       "       [0.28078777, 0.71921223],\n",
       "       [0.80472415, 0.19527585],\n",
       "       [0.83925231, 0.16074769],\n",
       "       [0.22725949, 0.77274051],\n",
       "       [0.84143003, 0.15856997],\n",
       "       [0.10284202, 0.89715798],\n",
       "       [0.47646268, 0.52353732],\n",
       "       [0.82614666, 0.17385334],\n",
       "       [0.66829366, 0.33170634],\n",
       "       [0.82990884, 0.17009116],\n",
       "       [0.71125049, 0.28874951],\n",
       "       [0.52289363, 0.47710637],\n",
       "       [0.46041849, 0.53958151],\n",
       "       [0.21706496, 0.78293504],\n",
       "       [0.46983047, 0.53016953],\n",
       "       [0.18918355, 0.81081645],\n",
       "       [0.67396659, 0.32603341],\n",
       "       [0.80549259, 0.19450741],\n",
       "       [0.32690226, 0.67309774],\n",
       "       [0.53635102, 0.46364898],\n",
       "       [0.84060853, 0.15939147],\n",
       "       [0.82829744, 0.17170256],\n",
       "       [0.39265957, 0.60734043],\n",
       "       [0.19487171, 0.80512829],\n",
       "       [0.24679293, 0.75320707],\n",
       "       [0.79047132, 0.20952868],\n",
       "       [0.79000616, 0.20999384],\n",
       "       [0.32466324, 0.67533676],\n",
       "       [0.84285048, 0.15714952],\n",
       "       [0.36260782, 0.63739218],\n",
       "       [0.85015185, 0.14984815],\n",
       "       [0.84919381, 0.15080619],\n",
       "       [0.07304356, 0.92695644],\n",
       "       [0.31720795, 0.68279205],\n",
       "       [0.81829078, 0.18170922],\n",
       "       [0.73156693, 0.26843307],\n",
       "       [0.75830936, 0.24169064],\n",
       "       [0.78810166, 0.21189834],\n",
       "       [0.263506  , 0.736494  ],\n",
       "       [0.1942999 , 0.8057001 ],\n",
       "       [0.07440223, 0.92559777],\n",
       "       [0.24364834, 0.75635166],\n",
       "       [0.72085148, 0.27914852],\n",
       "       [0.82506446, 0.17493554],\n",
       "       [0.22135696, 0.77864304],\n",
       "       [0.75830936, 0.24169064],\n",
       "       [0.05878887, 0.94121113],\n",
       "       [0.0783816 , 0.9216184 ],\n",
       "       [0.50377082, 0.49622918],\n",
       "       [0.75283322, 0.24716678],\n",
       "       [0.57090645, 0.42909355],\n",
       "       [0.81143147, 0.18856853],\n",
       "       [0.85808201, 0.14191799],\n",
       "       [0.12863897, 0.87136103],\n",
       "       [0.78989498, 0.21010502],\n",
       "       [0.44432853, 0.55567147],\n",
       "       [0.55479518, 0.44520482],\n",
       "       [0.09459377, 0.90540623],\n",
       "       [0.05406617, 0.94593383],\n",
       "       [0.72993924, 0.27006076],\n",
       "       [0.59232228, 0.40767772],\n",
       "       [0.75830936, 0.24169064],\n",
       "       [0.39682431, 0.60317569],\n",
       "       [0.82326941, 0.17673059],\n",
       "       [0.2662309 , 0.7337691 ],\n",
       "       [0.69951219, 0.30048781],\n",
       "       [0.41196589, 0.58803411],\n",
       "       [0.21310108, 0.78689892],\n",
       "       [0.82983473, 0.17016527],\n",
       "       [0.83719607, 0.16280393],\n",
       "       [0.06689333, 0.93310667],\n",
       "       [0.82172006, 0.17827994],\n",
       "       [0.60046931, 0.39953069],\n",
       "       [0.7935593 , 0.2064407 ],\n",
       "       [0.81877992, 0.18122008],\n",
       "       [0.28780705, 0.71219295],\n",
       "       [0.33326561, 0.66673439],\n",
       "       [0.29728521, 0.70271479],\n",
       "       [0.82573279, 0.17426721],\n",
       "       [0.33938118, 0.66061882],\n",
       "       [0.55769352, 0.44230648],\n",
       "       [0.09541084, 0.90458916],\n",
       "       [0.08427687, 0.91572313],\n",
       "       [0.12840657, 0.87159343],\n",
       "       [0.81678605, 0.18321395],\n",
       "       [0.12976065, 0.87023935],\n",
       "       [0.41184161, 0.58815839],\n",
       "       [0.14955181, 0.85044819],\n",
       "       [0.20805751, 0.79194249],\n",
       "       [0.84622781, 0.15377219],\n",
       "       [0.63246563, 0.36753437],\n",
       "       [0.18274121, 0.81725879],\n",
       "       [0.40935533, 0.59064467],\n",
       "       [0.82179694, 0.17820306],\n",
       "       [0.197466  , 0.802534  ],\n",
       "       [0.07469715, 0.92530285],\n",
       "       [0.19195972, 0.80804028],\n",
       "       [0.05817936, 0.94182064],\n",
       "       [0.37417993, 0.62582007],\n",
       "       [0.32878238, 0.67121762],\n",
       "       [0.75830936, 0.24169064],\n",
       "       [0.83916436, 0.16083564],\n",
       "       [0.2061235 , 0.7938765 ],\n",
       "       [0.83816067, 0.16183933],\n",
       "       [0.83387542, 0.16612458],\n",
       "       [0.75830936, 0.24169064],\n",
       "       [0.06931482, 0.93068518],\n",
       "       [0.47562717, 0.52437283],\n",
       "       [0.68674904, 0.31325096],\n",
       "       [0.06318674, 0.93681326],\n",
       "       [0.25403998, 0.74596002],\n",
       "       [0.30958103, 0.69041897],\n",
       "       [0.22711234, 0.77288766],\n",
       "       [0.32459079, 0.67540921],\n",
       "       [0.83198204, 0.16801796],\n",
       "       [0.33378116, 0.66621884],\n",
       "       [0.75283322, 0.24716678],\n",
       "       [0.83306176, 0.16693824],\n",
       "       [0.1422454 , 0.8577546 ],\n",
       "       [0.82669986, 0.17330014],\n",
       "       [0.23828071, 0.76171929],\n",
       "       [0.81450971, 0.18549029],\n",
       "       [0.0879002 , 0.9120998 ],\n",
       "       [0.34243226, 0.65756774],\n",
       "       [0.82823563, 0.17176437],\n",
       "       [0.10535268, 0.89464732],\n",
       "       [0.75830936, 0.24169064],\n",
       "       [0.79000616, 0.20999384],\n",
       "       [0.79047132, 0.20952868],\n",
       "       [0.22483246, 0.77516754],\n",
       "       [0.67513109, 0.32486891],\n",
       "       [0.20578094, 0.79421906],\n",
       "       [0.59163819, 0.40836181],\n",
       "       [0.39283513, 0.60716487],\n",
       "       [0.71327772, 0.28672228],\n",
       "       [0.20387511, 0.79612489],\n",
       "       [0.5771978 , 0.4228022 ],\n",
       "       [0.81839038, 0.18160962],\n",
       "       [0.83202543, 0.16797457],\n",
       "       [0.38886799, 0.61113201],\n",
       "       [0.84559645, 0.15440355],\n",
       "       [0.30861912, 0.69138088],\n",
       "       [0.83909104, 0.16090896],\n",
       "       [0.82983473, 0.17016527],\n",
       "       [0.25439767, 0.74560233],\n",
       "       [0.09227103, 0.90772897],\n",
       "       [0.08395886, 0.91604114]])"
      ]
     },
     "execution_count": 60,
     "metadata": {},
     "output_type": "execute_result"
    }
   ],
   "source": [
    "# Obter a previsões da probabilidade\n",
    "#Note que ele retorna  probabilidade da classe 0 e 1 respectivamente\n",
    "lr_previsoes_prob = lr.predict_proba(X_teste)\n",
    "lr_previsoes_prob"
   ]
  },
  {
   "cell_type": "markdown",
   "metadata": {},
   "source": [
    "### Matriz de Confusão "
   ]
  },
  {
   "cell_type": "code",
   "execution_count": 61,
   "metadata": {},
   "outputs": [
    {
     "data": {
      "image/png": "[encoded data removed]",
      "text/plain": [
       "<Figure size 576x396 with 2 Axes>"
      ]
     },
     "metadata": {},
     "output_type": "display_data"
    }
   ],
   "source": [
    "sns.heatmap(confusion_matrix(y_teste, lr_previsoes), cmap='OrRd', annot=True, fmt='2.0f')\n",
    "plt.title('Regressão Logística')\n",
    "plt.ylabel('P R E V I S T O')\n",
    "plt.xlabel('R E A L')\n",
    "plt.show()"
   ]
  },
  {
   "cell_type": "code",
   "execution_count": 62,
   "metadata": {},
   "outputs": [
    {
     "name": "stdout",
     "output_type": "stream",
     "text": [
      "Acurácia:0.79\n",
      "Precisão:0.8\n",
      "Recall ou Sensibilidade:0.78\n",
      "F1-Score:0.79\n",
      "Kappa:0.58\n",
      "Curva ROC:0.79\n"
     ]
    }
   ],
   "source": [
    "#Acurácia, Sensibilidade positiva (VP/(VP+FN),  Precisão, Recall, F1-Score\n",
    "acuracia = accuracy_score(y_teste,lr_previsoes)\n",
    "precisao = precision_score(y_teste,lr_previsoes)\n",
    "recall = recall_score(y_teste,lr_previsoes)\n",
    "f1Score = f1_score(y_teste,lr_previsoes)\n",
    "lr_curva_roc = roc_auc_score(y_teste,lr_previsoes)\n",
    "kappa = cohen_kappa_score(y_teste,lr_previsoes)\n",
    "print(f'Acurácia:{round(acuracia,2)}')\n",
    "print(f'Precisão:{round(precisao,2)}')\n",
    "print(f'Recall ou Sensibilidade:{round(recall,2)}')\n",
    "print(f'F1-Score:{round(f1Score,2)}')\n",
    "print(f'Kappa:{round(kappa,2)}')\n",
    "print(f'Curva ROC:{round(lr_curva_roc,2)}')"
   ]
  },
  {
   "cell_type": "code",
   "execution_count": 63,
   "metadata": {},
   "outputs": [
    {
     "name": "stdout",
     "output_type": "stream",
     "text": [
      "              precision    recall  f1-score   support\n",
      "\n",
      "           0       0.78      0.80      0.79       150\n",
      "           1       0.80      0.78      0.79       150\n",
      "\n",
      "    accuracy                           0.79       300\n",
      "   macro avg       0.79      0.79      0.79       300\n",
      "weighted avg       0.79      0.79      0.79       300\n",
      "\n"
     ]
    }
   ],
   "source": [
    "print(classification_report(y_teste, lr.predict(X_teste)))"
   ]
  },
  {
   "cell_type": "markdown",
   "metadata": {},
   "source": [
    "### Curva ROC "
   ]
  },
  {
   "cell_type": "code",
   "execution_count": 64,
   "metadata": {},
   "outputs": [
    {
     "data": {
      "image/png": "[encoded data removed]",
      "text/plain": [
       "<Figure size 576x396 with 1 Axes>"
      ]
     },
     "metadata": {},
     "output_type": "display_data"
    }
   ],
   "source": [
    "rl_fp,rl_vp,lim1 = roc_curve(y_teste,lr_previsoes)\n",
    "plt.plot(rl_fp,rl_vp, marker='.', label='Regressão Logística='+str(round(lr_curva_roc,2)),color=\"orange\")\n",
    "plt.plot([0, 1], [0, 1], color='black', linestyle='--')\n",
    "# alterando o nome dos eixos\n",
    "plt.xlabel('1- Especificidade')\n",
    "plt.ylabel('Sensibilidade')\n",
    "# Legenda\n",
    "plt.legend()\n",
    "# Mostrando o gráfico\n",
    "plt.show()\n",
    "#fig.savefig(\"images/mlpr_0305.png\")"
   ]
  },
  {
   "cell_type": "code",
   "execution_count": 98,
   "metadata": {},
   "outputs": [
    {
     "data": {
      "image/png": "[encoded data removed]",
      "text/plain": [
       "<Figure size 576x396 with 1 Axes>"
      ]
     },
     "metadata": {},
     "output_type": "display_data"
    }
   ],
   "source": [
    "#Aqui estamos pegando apenas da classe 1\n",
    "lr_probs = lr_previsoes_prob[:,1]\n",
    "rl_fp,rl_vp,lim1 = roc_curve(y_teste,lr_probs)\n",
    "plt.plot(rl_fp,rl_vp, marker='.', label='Regressão Logística',color=\"orange\")\n",
    "plt.plot([0, 1], [0, 1], color='black', linestyle='--')\n",
    "# alterando o nome dos eixos\n",
    "plt.xlabel('1- Especificidade')\n",
    "plt.ylabel('Sensibilidade')\n",
    "# Legenda\n",
    "plt.legend()\n",
    "# Mostrando o gráfico\n",
    "plt.show()\n",
    "#fig.savefig(\"images/mlpr_0305.png\")"
   ]
  },
  {
   "cell_type": "code",
   "execution_count": 67,
   "metadata": {},
   "outputs": [
    {
     "data": {
      "text/html": [
       "<div>\n",
       "<style scoped>\n",
       "    .dataframe tbody tr th:only-of-type {\n",
       "        vertical-align: middle;\n",
       "    }\n",
       "\n",
       "    .dataframe tbody tr th {\n",
       "        vertical-align: top;\n",
       "    }\n",
       "\n",
       "    .dataframe thead th {\n",
       "        text-align: right;\n",
       "    }\n",
       "</style>\n",
       "<table border=\"1\" class=\"dataframe\">\n",
       "  <thead>\n",
       "    <tr style=\"text-align: right;\">\n",
       "      <th></th>\n",
       "      <th>classe</th>\n",
       "      <th>idade</th>\n",
       "      <th>irmaos_conjuge</th>\n",
       "      <th>pais_filhos</th>\n",
       "      <th>tarifa</th>\n",
       "      <th>sexo_female</th>\n",
       "      <th>sexo_male</th>\n",
       "      <th>embarque_24.0</th>\n",
       "      <th>embarque_C</th>\n",
       "      <th>embarque_Q</th>\n",
       "      <th>embarque_S</th>\n",
       "    </tr>\n",
       "  </thead>\n",
       "  <tbody>\n",
       "    <tr>\n",
       "      <th>521</th>\n",
       "      <td>0.0</td>\n",
       "      <td>0.373695</td>\n",
       "      <td>0.000</td>\n",
       "      <td>0.000000</td>\n",
       "      <td>0.278075</td>\n",
       "      <td>0.0</td>\n",
       "      <td>1.0</td>\n",
       "      <td>0.0</td>\n",
       "      <td>0.0</td>\n",
       "      <td>0.0</td>\n",
       "      <td>1.0</td>\n",
       "    </tr>\n",
       "    <tr>\n",
       "      <th>737</th>\n",
       "      <td>0.5</td>\n",
       "      <td>0.311064</td>\n",
       "      <td>0.000</td>\n",
       "      <td>0.000000</td>\n",
       "      <td>0.112299</td>\n",
       "      <td>0.0</td>\n",
       "      <td>1.0</td>\n",
       "      <td>0.0</td>\n",
       "      <td>0.0</td>\n",
       "      <td>0.0</td>\n",
       "      <td>1.0</td>\n",
       "    </tr>\n",
       "    <tr>\n",
       "      <th>740</th>\n",
       "      <td>0.5</td>\n",
       "      <td>0.874739</td>\n",
       "      <td>0.000</td>\n",
       "      <td>0.000000</td>\n",
       "      <td>0.112299</td>\n",
       "      <td>0.0</td>\n",
       "      <td>1.0</td>\n",
       "      <td>0.0</td>\n",
       "      <td>0.0</td>\n",
       "      <td>0.0</td>\n",
       "      <td>1.0</td>\n",
       "    </tr>\n",
       "    <tr>\n",
       "      <th>660</th>\n",
       "      <td>1.0</td>\n",
       "      <td>0.035490</td>\n",
       "      <td>0.125</td>\n",
       "      <td>0.000000</td>\n",
       "      <td>0.068850</td>\n",
       "      <td>0.0</td>\n",
       "      <td>1.0</td>\n",
       "      <td>0.0</td>\n",
       "      <td>1.0</td>\n",
       "      <td>0.0</td>\n",
       "      <td>0.0</td>\n",
       "    </tr>\n",
       "    <tr>\n",
       "      <th>411</th>\n",
       "      <td>1.0</td>\n",
       "      <td>0.323591</td>\n",
       "      <td>0.000</td>\n",
       "      <td>0.000000</td>\n",
       "      <td>0.604233</td>\n",
       "      <td>0.0</td>\n",
       "      <td>1.0</td>\n",
       "      <td>0.0</td>\n",
       "      <td>0.0</td>\n",
       "      <td>0.0</td>\n",
       "      <td>1.0</td>\n",
       "    </tr>\n",
       "    <tr>\n",
       "      <th>...</th>\n",
       "      <td>...</td>\n",
       "      <td>...</td>\n",
       "      <td>...</td>\n",
       "      <td>...</td>\n",
       "      <td>...</td>\n",
       "      <td>...</td>\n",
       "      <td>...</td>\n",
       "      <td>...</td>\n",
       "      <td>...</td>\n",
       "      <td>...</td>\n",
       "      <td>...</td>\n",
       "    </tr>\n",
       "    <tr>\n",
       "      <th>468</th>\n",
       "      <td>1.0</td>\n",
       "      <td>0.398747</td>\n",
       "      <td>0.000</td>\n",
       "      <td>0.000000</td>\n",
       "      <td>0.086096</td>\n",
       "      <td>0.0</td>\n",
       "      <td>1.0</td>\n",
       "      <td>0.0</td>\n",
       "      <td>0.0</td>\n",
       "      <td>0.0</td>\n",
       "      <td>1.0</td>\n",
       "    </tr>\n",
       "    <tr>\n",
       "      <th>935</th>\n",
       "      <td>1.0</td>\n",
       "      <td>0.323591</td>\n",
       "      <td>0.000</td>\n",
       "      <td>0.000000</td>\n",
       "      <td>0.084447</td>\n",
       "      <td>0.0</td>\n",
       "      <td>1.0</td>\n",
       "      <td>0.0</td>\n",
       "      <td>0.0</td>\n",
       "      <td>0.0</td>\n",
       "      <td>1.0</td>\n",
       "    </tr>\n",
       "    <tr>\n",
       "      <th>428</th>\n",
       "      <td>1.0</td>\n",
       "      <td>0.035490</td>\n",
       "      <td>0.000</td>\n",
       "      <td>0.000000</td>\n",
       "      <td>0.084270</td>\n",
       "      <td>1.0</td>\n",
       "      <td>0.0</td>\n",
       "      <td>0.0</td>\n",
       "      <td>0.0</td>\n",
       "      <td>1.0</td>\n",
       "      <td>0.0</td>\n",
       "    </tr>\n",
       "    <tr>\n",
       "      <th>7</th>\n",
       "      <td>0.0</td>\n",
       "      <td>0.323591</td>\n",
       "      <td>0.000</td>\n",
       "      <td>0.000000</td>\n",
       "      <td>0.843316</td>\n",
       "      <td>1.0</td>\n",
       "      <td>0.0</td>\n",
       "      <td>0.0</td>\n",
       "      <td>0.0</td>\n",
       "      <td>0.0</td>\n",
       "      <td>1.0</td>\n",
       "    </tr>\n",
       "    <tr>\n",
       "      <th>155</th>\n",
       "      <td>0.0</td>\n",
       "      <td>0.260960</td>\n",
       "      <td>0.250</td>\n",
       "      <td>0.222222</td>\n",
       "      <td>0.154590</td>\n",
       "      <td>1.0</td>\n",
       "      <td>0.0</td>\n",
       "      <td>0.0</td>\n",
       "      <td>1.0</td>\n",
       "      <td>0.0</td>\n",
       "      <td>0.0</td>\n",
       "    </tr>\n",
       "  </tbody>\n",
       "</table>\n",
       "<p>300 rows × 11 columns</p>\n",
       "</div>"
      ],
      "text/plain": [
       "     classe     idade  irmaos_conjuge  pais_filhos    tarifa  sexo_female  \\\n",
       "521     0.0  0.373695           0.000     0.000000  0.278075          0.0   \n",
       "737     0.5  0.311064           0.000     0.000000  0.112299          0.0   \n",
       "740     0.5  0.874739           0.000     0.000000  0.112299          0.0   \n",
       "660     1.0  0.035490           0.125     0.000000  0.068850          0.0   \n",
       "411     1.0  0.323591           0.000     0.000000  0.604233          0.0   \n",
       "..      ...       ...             ...          ...       ...          ...   \n",
       "468     1.0  0.398747           0.000     0.000000  0.086096          0.0   \n",
       "935     1.0  0.323591           0.000     0.000000  0.084447          0.0   \n",
       "428     1.0  0.035490           0.000     0.000000  0.084270          1.0   \n",
       "7       0.0  0.323591           0.000     0.000000  0.843316          1.0   \n",
       "155     0.0  0.260960           0.250     0.222222  0.154590          1.0   \n",
       "\n",
       "     sexo_male  embarque_24.0  embarque_C  embarque_Q  embarque_S  \n",
       "521        1.0            0.0         0.0         0.0         1.0  \n",
       "737        1.0            0.0         0.0         0.0         1.0  \n",
       "740        1.0            0.0         0.0         0.0         1.0  \n",
       "660        1.0            0.0         1.0         0.0         0.0  \n",
       "411        1.0            0.0         0.0         0.0         1.0  \n",
       "..         ...            ...         ...         ...         ...  \n",
       "468        1.0            0.0         0.0         0.0         1.0  \n",
       "935        1.0            0.0         0.0         0.0         1.0  \n",
       "428        0.0            0.0         0.0         1.0         0.0  \n",
       "7          0.0            0.0         0.0         0.0         1.0  \n",
       "155        0.0            0.0         1.0         0.0         0.0  \n",
       "\n",
       "[300 rows x 11 columns]"
      ]
     },
     "execution_count": 67,
     "metadata": {},
     "output_type": "execute_result"
    }
   ],
   "source": [
    "X_teste"
   ]
  },
  {
   "cell_type": "code",
   "execution_count": 129,
   "metadata": {},
   "outputs": [
    {
     "data": {
      "text/plain": [
       "array([0], dtype=int64)"
      ]
     },
     "execution_count": 129,
     "metadata": {},
     "output_type": "execute_result"
    }
   ],
   "source": [
    "lr_previsoes_1 = lr.predict(X_teste[:1])\n",
    "lr_previsoes_1"
   ]
  },
  {
   "cell_type": "code",
   "execution_count": 132,
   "metadata": {},
   "outputs": [
    {
     "data": {
      "text/plain": [
       "array([[0.5514989, 0.4485011]])"
      ]
     },
     "execution_count": 132,
     "metadata": {},
     "output_type": "execute_result"
    }
   ],
   "source": [
    "lr_previsoes_1 = lr.predict_proba(X_teste[:1])\n",
    "lr_previsoes_1"
   ]
  },
  {
   "cell_type": "markdown",
   "metadata": {},
   "source": [
    "##### OBS: Note that in binary classification, recall of the positive class is also known as “sensitivity”; recall of the negative class is “specificity”"
   ]
  },
  {
   "cell_type": "markdown",
   "metadata": {},
   "source": [
    "## Naive Bayes\n",
    "\n",
    "* O Naive Bayes é um classificador probabilístico que pressupõe uma independência entre os atributos dos dados; \n",
    "* É popular para aplicações de classificação de textos, por exemplo, para identificação de spams; \n",
    "* A vantagem desse modelo é que, por supor uma independência entre os atributos, ele é capaz de fazer o treinamento de um modelo com um número pequeno de amostras;\n",
    "* A desvantagem é que o modelo não conseguirá capturar as interações entre os atributos;\n",
    "* Há três classes no sklearn: GaussianNB, MultinomialNB e BernoulliNB. \n",
    "    - A primeira supõe uma distribuição gaussiana (atributos contínuos com uma distribuição normal);\n",
    "    - A segunda é para contadores de ocorrência discretos; \n",
    "    - A terceira, para atributos booleanos discretos."
   ]
  },
  {
   "cell_type": "code",
   "execution_count": 70,
   "metadata": {},
   "outputs": [],
   "source": [
    "#Importar\n",
    "from sklearn.naive_bayes import GaussianNB"
   ]
  },
  {
   "cell_type": "code",
   "execution_count": 71,
   "metadata": {},
   "outputs": [],
   "source": [
    "#Vamos instanciar\n",
    "nb = GaussianNB()"
   ]
  },
  {
   "cell_type": "code",
   "execution_count": 72,
   "metadata": {},
   "outputs": [
    {
     "data": {
      "text/html": [
       "<style>#sk-container-id-6 {color: black;background-color: white;}#sk-container-id-6 pre{padding: 0;}#sk-container-id-6 div.sk-toggleable {background-color: white;}#sk-container-id-6 label.sk-toggleable__label {cursor: pointer;display: block;width: 100%;margin-bottom: 0;padding: 0.3em;box-sizing: border-box;text-align: center;}#sk-container-id-6 label.sk-toggleable__label-arrow:before {content: \"▸\";float: left;margin-right: 0.25em;color: #696969;}#sk-container-id-6 label.sk-toggleable__label-arrow:hover:before {color: black;}#sk-container-id-6 div.sk-estimator:hover label.sk-toggleable__label-arrow:before {color: black;}#sk-container-id-6 div.sk-toggleable__content {max-height: 0;max-width: 0;overflow: hidden;text-align: left;background-color: #f0f8ff;}#sk-container-id-6 div.sk-toggleable__content pre {margin: 0.2em;color: black;border-radius: 0.25em;background-color: #f0f8ff;}#sk-container-id-6 input.sk-toggleable__control:checked~div.sk-toggleable__content {max-height: 200px;max-width: 100%;overflow: auto;}#sk-container-id-6 input.sk-toggleable__control:checked~label.sk-toggleable__label-arrow:before {content: \"▾\";}#sk-container-id-6 div.sk-estimator input.sk-toggleable__control:checked~label.sk-toggleable__label {background-color: #d4ebff;}#sk-container-id-6 div.sk-label input.sk-toggleable__control:checked~label.sk-toggleable__label {background-color: #d4ebff;}#sk-container-id-6 input.sk-hidden--visually {border: 0;clip: rect(1px 1px 1px 1px);clip: rect(1px, 1px, 1px, 1px);height: 1px;margin: -1px;overflow: hidden;padding: 0;position: absolute;width: 1px;}#sk-container-id-6 div.sk-estimator {font-family: monospace;background-color: #f0f8ff;border: 1px dotted black;border-radius: 0.25em;box-sizing: border-box;margin-bottom: 0.5em;}#sk-container-id-6 div.sk-estimator:hover {background-color: #d4ebff;}#sk-container-id-6 div.sk-parallel-item::after {content: \"\";width: 100%;border-bottom: 1px solid gray;flex-grow: 1;}#sk-container-id-6 div.sk-label:hover label.sk-toggleable__label {background-color: #d4ebff;}#sk-container-id-6 div.sk-serial::before {content: \"\";position: absolute;border-left: 1px solid gray;box-sizing: border-box;top: 0;bottom: 0;left: 50%;z-index: 0;}#sk-container-id-6 div.sk-serial {display: flex;flex-direction: column;align-items: center;background-color: white;padding-right: 0.2em;padding-left: 0.2em;position: relative;}#sk-container-id-6 div.sk-item {position: relative;z-index: 1;}#sk-container-id-6 div.sk-parallel {display: flex;align-items: stretch;justify-content: center;background-color: white;position: relative;}#sk-container-id-6 div.sk-item::before, #sk-container-id-6 div.sk-parallel-item::before {content: \"\";position: absolute;border-left: 1px solid gray;box-sizing: border-box;top: 0;bottom: 0;left: 50%;z-index: -1;}#sk-container-id-6 div.sk-parallel-item {display: flex;flex-direction: column;z-index: 1;position: relative;background-color: white;}#sk-container-id-6 div.sk-parallel-item:first-child::after {align-self: flex-end;width: 50%;}#sk-container-id-6 div.sk-parallel-item:last-child::after {align-self: flex-start;width: 50%;}#sk-container-id-6 div.sk-parallel-item:only-child::after {width: 0;}#sk-container-id-6 div.sk-dashed-wrapped {border: 1px dashed gray;margin: 0 0.4em 0.5em 0.4em;box-sizing: border-box;padding-bottom: 0.4em;background-color: white;}#sk-container-id-6 div.sk-label label {font-family: monospace;font-weight: bold;display: inline-block;line-height: 1.2em;}#sk-container-id-6 div.sk-label-container {text-align: center;}#sk-container-id-6 div.sk-container {/* jupyter's `normalize.less` sets `[hidden] { display: none; }` but bootstrap.min.css set `[hidden] { display: none !important; }` so we also need the `!important` here to be able to override the default hidden behavior on the sphinx rendered scikit-learn.org. See: https://github.com/scikit-learn/scikit-learn/issues/21755 */display: inline-block !important;position: relative;}#sk-container-id-6 div.sk-text-repr-fallback {display: none;}</style><div id=\"sk-container-id-6\" class=\"sk-top-container\"><div class=\"sk-text-repr-fallback\"><pre>GaussianNB()</pre><b>In a Jupyter environment, please rerun this cell to show the HTML representation or trust the notebook. <br />On GitHub, the HTML representation is unable to render, please try loading this page with nbviewer.org.</b></div><div class=\"sk-container\" hidden><div class=\"sk-item\"><div class=\"sk-estimator sk-toggleable\"><input class=\"sk-toggleable__control sk-hidden--visually\" id=\"sk-estimator-id-6\" type=\"checkbox\" checked><label for=\"sk-estimator-id-6\" class=\"sk-toggleable__label sk-toggleable__label-arrow\">GaussianNB</label><div class=\"sk-toggleable__content\"><pre>GaussianNB()</pre></div></div></div></div></div>"
      ],
      "text/plain": [
       "GaussianNB()"
      ]
     },
     "execution_count": 72,
     "metadata": {},
     "output_type": "execute_result"
    }
   ],
   "source": [
    "#Treinar\n",
    "nb.fit(X_treino, y_treino)"
   ]
  },
  {
   "cell_type": "code",
   "execution_count": 73,
   "metadata": {},
   "outputs": [
    {
     "data": {
      "text/plain": [
       "0.5266666666666666"
      ]
     },
     "execution_count": 73,
     "metadata": {},
     "output_type": "execute_result"
    }
   ],
   "source": [
    "nb.score(X_teste, y_teste)"
   ]
  },
  {
   "cell_type": "markdown",
   "metadata": {},
   "source": [
    "### Cross Validation. ou Validação Cruzada é uma técnica para avaliar a capacidade de generalização de um modelo,  a partir de um conjunto de dados."
   ]
  },
  {
   "cell_type": "code",
   "execution_count": 75,
   "metadata": {},
   "outputs": [
    {
     "name": "stdout",
     "output_type": "stream",
     "text": [
      "Scores = [0.56 0.62 0.64 0.59 0.5  0.5  0.5  0.5  0.5  0.5 ]\n",
      "Média dos Scores = 0.541\n"
     ]
    }
   ],
   "source": [
    "cv_scores = cross_val_score(nb,X,y, cv=10, scoring='accuracy')\n",
    "print(f'Scores = {cv_scores}')\n",
    "print(f'Média dos Scores = {cv_scores.mean()}')"
   ]
  },
  {
   "cell_type": "code",
   "execution_count": 76,
   "metadata": {},
   "outputs": [
    {
     "data": {
      "text/plain": [
       "array([0, 0, 0, 0, 0, 0, 0, 0, 0, 0, 0, 0, 0, 0, 0, 0, 0, 0, 0, 0, 0, 0,\n",
       "       0, 0, 0, 0, 0, 0, 0, 0, 0, 0, 0, 0, 0, 0, 0, 0, 0, 0, 0, 0, 0, 0,\n",
       "       0, 0, 0, 0, 0, 0, 0, 0, 0, 0, 0, 0, 0, 1, 0, 0, 0, 1, 0, 0, 0, 0,\n",
       "       0, 0, 1, 0, 0, 0, 0, 0, 0, 0, 0, 0, 0, 0, 0, 0, 0, 0, 0, 0, 0, 0,\n",
       "       0, 0, 0, 0, 0, 0, 0, 0, 0, 1, 0, 0, 0, 0, 0, 0, 0, 0, 0, 0, 0, 0,\n",
       "       0, 0, 0, 0, 0, 0, 0, 0, 0, 0, 0, 0, 0, 0, 0, 0, 0, 0, 0, 0, 0, 0,\n",
       "       0, 0, 0, 0, 0, 0, 0, 0, 0, 0, 0, 0, 0, 0, 0, 0, 0, 0, 0, 1, 0, 0,\n",
       "       0, 0, 0, 0, 0, 0, 0, 0, 0, 0, 0, 0, 0, 0, 0, 0, 0, 0, 0, 0, 0, 0,\n",
       "       0, 0, 0, 0, 0, 0, 0, 0, 0, 0, 0, 0, 0, 0, 0, 0, 0, 0, 0, 0, 0, 0,\n",
       "       0, 0, 0, 0, 0, 0, 0, 0, 0, 0, 0, 0, 0, 1, 0, 0, 0, 0, 0, 0, 0, 0,\n",
       "       0, 0, 0, 1, 0, 0, 0, 0, 0, 0, 0, 0, 0, 0, 0, 0, 0, 0, 0, 0, 0, 0,\n",
       "       0, 0, 0, 0, 0, 0, 1, 0, 0, 0, 0, 0, 0, 0, 0, 0, 0, 0, 0, 0, 0, 0,\n",
       "       0, 0, 0, 0, 0, 0, 0, 0, 0, 0, 0, 0, 0, 0, 0, 0, 0, 0, 0, 0, 0, 0,\n",
       "       0, 0, 0, 0, 0, 0, 0, 0, 0, 0, 0, 0, 0, 0], dtype=int64)"
      ]
     },
     "execution_count": 76,
     "metadata": {},
     "output_type": "execute_result"
    }
   ],
   "source": [
    "#Obter a previsões\n",
    "nb_previsoes = nb.predict(X_teste)\n",
    "nb_previsoes"
   ]
  },
  {
   "cell_type": "code",
   "execution_count": 88,
   "metadata": {},
   "outputs": [
    {
     "data": {
      "text/plain": [
       "array([[9.99948763e-01, 5.12365946e-05],\n",
       "       [9.99985659e-01, 1.43414913e-05],\n",
       "       [9.99984488e-01, 1.55118444e-05],\n",
       "       [9.99906324e-01, 9.36757188e-05],\n",
       "       [9.99967276e-01, 3.27243208e-05],\n",
       "       [9.99820539e-01, 1.79460801e-04],\n",
       "       [9.99425554e-01, 5.74445876e-04],\n",
       "       [9.61148621e-01, 3.88513790e-02],\n",
       "       [9.82240394e-01, 1.77596059e-02],\n",
       "       [8.27961205e-01, 1.72038795e-01],\n",
       "       [9.82671841e-01, 1.73281589e-02],\n",
       "       [9.99932758e-01, 6.72420389e-05],\n",
       "       [1.00000000e+00, 1.63520955e-12],\n",
       "       [9.99992319e-01, 7.68063720e-06],\n",
       "       [9.99985264e-01, 1.47362722e-05],\n",
       "       [9.99992319e-01, 7.68095814e-06],\n",
       "       [9.91649800e-01, 8.35019984e-03],\n",
       "       [9.99992280e-01, 7.71977930e-06],\n",
       "       [9.82671647e-01, 1.73283526e-02],\n",
       "       [9.96507334e-01, 3.49266634e-03],\n",
       "       [9.99956132e-01, 4.38683387e-05],\n",
       "       [8.24141971e-01, 1.75858029e-01],\n",
       "       [9.99992126e-01, 7.87417475e-06],\n",
       "       [9.99985652e-01, 1.43481123e-05],\n",
       "       [9.94000268e-01, 5.99973245e-03],\n",
       "       [9.91464325e-01, 8.53567507e-03],\n",
       "       [9.90813767e-01, 9.18623318e-03],\n",
       "       [9.99985620e-01, 1.43797980e-05],\n",
       "       [9.99992300e-01, 7.69951620e-06],\n",
       "       [9.99999998e-01, 2.45718796e-09],\n",
       "       [9.82602155e-01, 1.73978450e-02],\n",
       "       [8.07800087e-01, 1.92199913e-01],\n",
       "       [9.99990980e-01, 9.02028249e-06],\n",
       "       [9.61883724e-01, 3.81162762e-02],\n",
       "       [9.96691150e-01, 3.30884951e-03],\n",
       "       [9.99931189e-01, 6.88106317e-05],\n",
       "       [9.99991761e-01, 8.23912707e-06],\n",
       "       [9.99692746e-01, 3.07254435e-04],\n",
       "       [1.00000000e+00, 4.24550264e-10],\n",
       "       [9.99843907e-01, 1.56093087e-04],\n",
       "       [9.99999881e-01, 1.19173300e-07],\n",
       "       [9.98064259e-01, 1.93574101e-03],\n",
       "       [9.96451328e-01, 3.54867164e-03],\n",
       "       [9.92378379e-01, 7.62162079e-03],\n",
       "       [9.67782620e-01, 3.22173802e-02],\n",
       "       [9.99985642e-01, 1.43576546e-05],\n",
       "       [9.99998554e-01, 1.44602712e-06],\n",
       "       [9.99880148e-01, 1.19852313e-04],\n",
       "       [9.57811693e-01, 4.21883069e-02],\n",
       "       [9.99992299e-01, 7.70113564e-06],\n",
       "       [9.99916387e-01, 8.36129204e-05],\n",
       "       [9.99992311e-01, 7.68942319e-06],\n",
       "       [9.29386194e-01, 7.06138062e-02],\n",
       "       [9.99992268e-01, 7.73245636e-06],\n",
       "       [8.06625707e-01, 1.93374293e-01],\n",
       "       [9.99947969e-01, 5.20307851e-05],\n",
       "       [9.99932140e-01, 6.78597674e-05],\n",
       "       [2.13026417e-01, 7.86973583e-01],\n",
       "       [9.92063024e-01, 7.93697617e-03],\n",
       "       [9.99966059e-01, 3.39412785e-05],\n",
       "       [9.96903526e-01, 3.09647429e-03],\n",
       "       [3.10021352e-01, 6.89978648e-01],\n",
       "       [9.99904535e-01, 9.54645626e-05],\n",
       "       [9.99985379e-01, 1.46208653e-05],\n",
       "       [9.99985402e-01, 1.45976824e-05],\n",
       "       [9.99997232e-01, 2.76822006e-06],\n",
       "       [9.99993250e-01, 6.74958415e-06],\n",
       "       [9.99895596e-01, 1.04403920e-04],\n",
       "       [2.03650811e-01, 7.96349189e-01],\n",
       "       [9.99985404e-01, 1.45960677e-05],\n",
       "       [7.81681105e-01, 2.18318895e-01],\n",
       "       [9.77286223e-01, 2.27137767e-02],\n",
       "       [9.99992264e-01, 7.73559099e-06],\n",
       "       [9.99985654e-01, 1.43456106e-05],\n",
       "       [9.99891821e-01, 1.08178518e-04],\n",
       "       [9.94020387e-01, 5.97961314e-03],\n",
       "       [9.99895967e-01, 1.04033306e-04],\n",
       "       [7.54791463e-01, 2.45208537e-01],\n",
       "       [9.99992110e-01, 7.89031809e-06],\n",
       "       [9.93812930e-01, 6.18706996e-03],\n",
       "       [9.99992110e-01, 7.89031809e-06],\n",
       "       [7.20660142e-01, 2.79339858e-01],\n",
       "       [9.99799933e-01, 2.00067258e-04],\n",
       "       [9.97853615e-01, 2.14638476e-03],\n",
       "       [9.93993310e-01, 6.00669030e-03],\n",
       "       [9.99992305e-01, 7.69453715e-06],\n",
       "       [9.99987310e-01, 1.26900488e-05],\n",
       "       [9.99892959e-01, 1.07040948e-04],\n",
       "       [9.99992285e-01, 7.71483781e-06],\n",
       "       [9.97220317e-01, 2.77968343e-03],\n",
       "       [9.96844121e-01, 3.15587934e-03],\n",
       "       [9.96832657e-01, 3.16734250e-03],\n",
       "       [9.96836107e-01, 3.16389268e-03],\n",
       "       [9.99981106e-01, 1.88938921e-05],\n",
       "       [9.99992073e-01, 7.92677605e-06],\n",
       "       [9.99889641e-01, 1.10359057e-04],\n",
       "       [9.99992301e-01, 7.69878595e-06],\n",
       "       [4.35953938e-01, 5.64046062e-01],\n",
       "       [6.97766072e-01, 3.02233928e-01],\n",
       "       [9.99990845e-01, 9.15530257e-06],\n",
       "       [9.99985402e-01, 1.45976824e-05],\n",
       "       [9.99991804e-01, 8.19582250e-06],\n",
       "       [9.99992265e-01, 7.73509047e-06],\n",
       "       [9.23974716e-01, 7.60252844e-02],\n",
       "       [9.99999960e-01, 3.96758101e-08],\n",
       "       [9.99992106e-01, 7.89393933e-06],\n",
       "       [9.99992138e-01, 7.86195728e-06],\n",
       "       [9.99985762e-01, 1.42384782e-05],\n",
       "       [9.28433403e-01, 7.15665975e-02],\n",
       "       [9.99999960e-01, 4.01143618e-08],\n",
       "       [9.99984249e-01, 1.57505145e-05],\n",
       "       [9.99991563e-01, 8.43725142e-06],\n",
       "       [9.52174234e-01, 4.78257662e-02],\n",
       "       [9.99956132e-01, 4.38683387e-05],\n",
       "       [8.08306550e-01, 1.91693450e-01],\n",
       "       [9.99991029e-01, 8.97131070e-06],\n",
       "       [9.52105709e-01, 4.78942915e-02],\n",
       "       [9.99992256e-01, 7.74365103e-06],\n",
       "       [1.00000000e+00, 3.24060391e-21],\n",
       "       [9.94114125e-01, 5.88587482e-03],\n",
       "       [9.93486403e-01, 6.51359732e-03],\n",
       "       [9.96312569e-01, 3.68743104e-03],\n",
       "       [9.99969207e-01, 3.07927714e-05],\n",
       "       [9.29087198e-01, 7.09128019e-02],\n",
       "       [9.32649085e-01, 6.73509152e-02],\n",
       "       [9.99959339e-01, 4.06613746e-05],\n",
       "       [9.99944839e-01, 5.51611518e-05],\n",
       "       [9.58607573e-01, 4.13924275e-02],\n",
       "       [9.99975880e-01, 2.41200188e-05],\n",
       "       [9.82234082e-01, 1.77659180e-02],\n",
       "       [9.99916144e-01, 8.38555312e-05],\n",
       "       [9.99993979e-01, 6.02142194e-06],\n",
       "       [9.94115825e-01, 5.88417545e-03],\n",
       "       [9.99956135e-01, 4.38653617e-05],\n",
       "       [9.99945716e-01, 5.42836008e-05],\n",
       "       [9.99946863e-01, 5.31372083e-05],\n",
       "       [9.99424910e-01, 5.75090312e-04],\n",
       "       [9.94002532e-01, 5.99746757e-03],\n",
       "       [9.99946693e-01, 5.33070455e-05],\n",
       "       [8.04445832e-01, 1.95554168e-01],\n",
       "       [6.08342211e-01, 3.91657789e-01],\n",
       "       [9.81391278e-01, 1.86087216e-02],\n",
       "       [9.99992236e-01, 7.76380636e-06],\n",
       "       [9.92592627e-01, 7.40737296e-03],\n",
       "       [9.97045604e-01, 2.95439584e-03],\n",
       "       [9.99991761e-01, 8.23912707e-06],\n",
       "       [9.99947648e-01, 5.23516304e-05],\n",
       "       [9.96123852e-01, 3.87614776e-03],\n",
       "       [9.99956116e-01, 4.38842119e-05],\n",
       "       [9.99992323e-01, 7.67715047e-06],\n",
       "       [9.99984092e-01, 1.59076775e-05],\n",
       "       [3.13573699e-01, 6.86426301e-01],\n",
       "       [9.99901928e-01, 9.80722407e-05],\n",
       "       [9.82569871e-01, 1.74301286e-02],\n",
       "       [9.99992638e-01, 7.36177062e-06],\n",
       "       [9.99992317e-01, 7.68327497e-06],\n",
       "       [9.93560931e-01, 6.43906926e-03],\n",
       "       [9.99993260e-01, 6.74005301e-06],\n",
       "       [9.39283335e-01, 6.07166645e-02],\n",
       "       [9.99201859e-01, 7.98140855e-04],\n",
       "       [9.99992296e-01, 7.70411201e-06],\n",
       "       [9.99893139e-01, 1.06861252e-04],\n",
       "       [9.99992322e-01, 7.67820208e-06],\n",
       "       [9.99985404e-01, 1.45960677e-05],\n",
       "       [9.99873746e-01, 1.26254267e-04],\n",
       "       [9.96155583e-01, 3.84441721e-03],\n",
       "       [9.94019078e-01, 5.98092187e-03],\n",
       "       [9.99206803e-01, 7.93196684e-04],\n",
       "       [9.96457740e-01, 3.54226034e-03],\n",
       "       [9.99983050e-01, 1.69495789e-05],\n",
       "       [9.99995943e-01, 4.05678318e-06],\n",
       "       [9.96834950e-01, 3.16504998e-03],\n",
       "       [9.98103449e-01, 1.89655104e-03],\n",
       "       [9.99992307e-01, 7.69264621e-06],\n",
       "       [9.99992320e-01, 7.68017162e-06],\n",
       "       [9.98380682e-01, 1.61931800e-03],\n",
       "       [9.94096012e-01, 5.90398839e-03],\n",
       "       [9.93915226e-01, 6.08477440e-03],\n",
       "       [9.99992123e-01, 7.87742520e-06],\n",
       "       [9.99992110e-01, 7.89031809e-06],\n",
       "       [9.96807096e-01, 3.19290376e-03],\n",
       "       [9.99998916e-01, 1.08442339e-06],\n",
       "       [9.97062410e-01, 2.93759035e-03],\n",
       "       [9.99998674e-01, 1.32644606e-06],\n",
       "       [9.99992294e-01, 7.70641818e-06],\n",
       "       [8.27885431e-01, 1.72114569e-01],\n",
       "       [9.82733347e-01, 1.72666531e-02],\n",
       "       [9.99992291e-01, 7.70933208e-06],\n",
       "       [9.99985630e-01, 1.43699670e-05],\n",
       "       [9.99956132e-01, 4.38683387e-05],\n",
       "       [9.99995742e-01, 4.25817252e-06],\n",
       "       [9.90788913e-01, 9.21108667e-03],\n",
       "       [9.61148621e-01, 3.88513790e-02],\n",
       "       [8.08200558e-01, 1.91799442e-01],\n",
       "       [9.89340349e-01, 1.06596512e-02],\n",
       "       [9.99895955e-01, 1.04044928e-04],\n",
       "       [9.99992315e-01, 7.68526261e-06],\n",
       "       [9.98929108e-01, 1.07089205e-03],\n",
       "       [9.99956132e-01, 4.38683387e-05],\n",
       "       [5.02452862e-01, 4.97547138e-01],\n",
       "       [8.07464137e-01, 1.92535863e-01],\n",
       "       [9.99957858e-01, 4.21422645e-05],\n",
       "       [9.99966383e-01, 3.36168645e-05],\n",
       "       [9.99862450e-01, 1.37549572e-04],\n",
       "       [9.99957282e-01, 4.27177058e-05],\n",
       "       [1.00000000e+00, 4.27673005e-10],\n",
       "       [9.42718816e-01, 5.72811842e-02],\n",
       "       [9.99992106e-01, 7.89393933e-06],\n",
       "       [9.96645974e-01, 3.35402603e-03],\n",
       "       [9.99797849e-01, 2.02151380e-04],\n",
       "       [8.25435473e-01, 1.74564527e-01],\n",
       "       [4.00278285e-01, 5.99721715e-01],\n",
       "       [9.99984276e-01, 1.57244864e-05],\n",
       "       [9.99947430e-01, 5.25704072e-05],\n",
       "       [9.99956132e-01, 4.38683387e-05],\n",
       "       [9.99999824e-01, 1.76261335e-07],\n",
       "       [9.99992305e-01, 7.69453715e-06],\n",
       "       [9.93631513e-01, 6.36848737e-03],\n",
       "       [9.99982087e-01, 1.79129324e-05],\n",
       "       [9.97194406e-01, 2.80559380e-03],\n",
       "       [9.93367320e-01, 6.63267972e-03],\n",
       "       [9.99992319e-01, 7.68082115e-06],\n",
       "       [9.99999995e-01, 4.82228900e-09],\n",
       "       [1.35002815e-01, 8.64997185e-01],\n",
       "       [9.99992305e-01, 7.69525423e-06],\n",
       "       [9.99947168e-01, 5.28320564e-05],\n",
       "       [9.99957216e-01, 4.27838670e-05],\n",
       "       [9.99991898e-01, 8.10192947e-06],\n",
       "       [9.82628408e-01, 1.73715922e-02],\n",
       "       [9.96830456e-01, 3.16954369e-03],\n",
       "       [9.82682394e-01, 1.73176064e-02],\n",
       "       [9.99992275e-01, 7.72510305e-06],\n",
       "       [9.96844613e-01, 3.15538716e-03],\n",
       "       [9.99881161e-01, 1.18838705e-04],\n",
       "       [7.84363624e-01, 2.15636376e-01],\n",
       "       [7.66330437e-01, 2.33669563e-01],\n",
       "       [9.16026194e-01, 8.39738065e-02],\n",
       "       [9.99992291e-01, 7.70946303e-06],\n",
       "       [9.91108736e-01, 8.89126399e-03],\n",
       "       [9.99998989e-01, 1.01069662e-06],\n",
       "       [7.76347442e-01, 2.23652558e-01],\n",
       "       [9.93539699e-01, 6.46030119e-03],\n",
       "       [9.99999925e-01, 7.49908347e-08],\n",
       "       [9.99945678e-01, 5.43216121e-05],\n",
       "       [9.93786227e-01, 6.21377266e-03],\n",
       "       [9.99294884e-01, 7.05116426e-04],\n",
       "       [9.99992307e-01, 7.69263024e-06],\n",
       "       [9.99876875e-01, 1.23125197e-04],\n",
       "       [1.76973130e-01, 8.23026870e-01],\n",
       "       [9.92696400e-01, 7.30360046e-03],\n",
       "       [7.44291657e-01, 2.55708343e-01],\n",
       "       [9.99405517e-01, 5.94483145e-04],\n",
       "       [9.82666644e-01, 1.73333558e-02],\n",
       "       [9.99956132e-01, 4.38683387e-05],\n",
       "       [9.99992313e-01, 7.68654806e-06],\n",
       "       [9.58725311e-01, 4.12746892e-02],\n",
       "       [9.99992446e-01, 7.55357036e-06],\n",
       "       [9.99993238e-01, 6.76191584e-06],\n",
       "       [9.99956132e-01, 4.38683387e-05],\n",
       "       [8.27428754e-01, 1.72571246e-01],\n",
       "       [9.99947461e-01, 5.25390721e-05],\n",
       "       [9.99877236e-01, 1.22763502e-04],\n",
       "       [5.55757916e-01, 4.44242084e-01],\n",
       "       [9.93503800e-01, 6.49619973e-03],\n",
       "       [9.96975072e-01, 3.02492820e-03],\n",
       "       [9.94175737e-01, 5.82426319e-03],\n",
       "       [9.99256475e-01, 7.43525215e-04],\n",
       "       [9.99992337e-01, 7.66316004e-06],\n",
       "       [9.82641825e-01, 1.73581750e-02],\n",
       "       [9.99966383e-01, 3.36168645e-05],\n",
       "       [9.99992227e-01, 7.77298716e-06],\n",
       "       [9.78949583e-01, 2.10504169e-02],\n",
       "       [9.99992318e-01, 7.68193532e-06],\n",
       "       [9.98670757e-01, 1.32924319e-03],\n",
       "       [9.99992261e-01, 7.73872078e-06],\n",
       "       [7.87482395e-01, 2.12517605e-01],\n",
       "       [9.96508783e-01, 3.49121702e-03],\n",
       "       [9.99992318e-01, 7.68234907e-06],\n",
       "       [9.84515955e-01, 1.54840452e-02],\n",
       "       [9.99956132e-01, 4.38683387e-05],\n",
       "       [9.99992110e-01, 7.89031809e-06],\n",
       "       [9.99992123e-01, 7.87742520e-06],\n",
       "       [9.94010156e-01, 5.98984441e-03],\n",
       "       [9.99984208e-01, 1.57924882e-05],\n",
       "       [9.94016706e-01, 5.98329391e-03],\n",
       "       [9.99944799e-01, 5.52011428e-05],\n",
       "       [9.96997692e-01, 3.00230789e-03],\n",
       "       [9.99906060e-01, 9.39401184e-05],\n",
       "       [9.94117354e-01, 5.88264562e-03],\n",
       "       [9.99942113e-01, 5.78871537e-05],\n",
       "       [9.99992294e-01, 7.70579552e-06],\n",
       "       [9.99992273e-01, 7.72650064e-06],\n",
       "       [9.99999823e-01, 1.76822030e-07],\n",
       "       [9.99993259e-01, 6.74118475e-06],\n",
       "       [9.98327485e-01, 1.67251463e-03],\n",
       "       [9.99992311e-01, 7.68942319e-06],\n",
       "       [9.99992319e-01, 7.68082115e-06],\n",
       "       [9.82234082e-01, 1.77659180e-02],\n",
       "       [7.49621931e-01, 2.50378069e-01],\n",
       "       [9.79491416e-01, 2.05085839e-02]])"
      ]
     },
     "execution_count": 88,
     "metadata": {},
     "output_type": "execute_result"
    }
   ],
   "source": [
    "#Obter a previsões da probabilidade\n",
    "#Note que ele retorna  probabilidade da classe 0 e 1 respectivamente\n",
    "nb_previsoes_prob = nb.predict_proba(X_teste)\n",
    "nb_previsoes_prob"
   ]
  },
  {
   "cell_type": "markdown",
   "metadata": {},
   "source": [
    "### Matriz de Confusão "
   ]
  },
  {
   "cell_type": "code",
   "execution_count": 78,
   "metadata": {},
   "outputs": [
    {
     "data": {
      "image/png": "[encoded data removed]",
      "text/plain": [
       "<Figure size 576x396 with 2 Axes>"
      ]
     },
     "metadata": {},
     "output_type": "display_data"
    }
   ],
   "source": [
    "sns.heatmap(confusion_matrix(y_teste, nb_previsoes), cmap='OrRd', annot=True, fmt='2.0f')\n",
    "plt.title('Naive Bayes')\n",
    "plt.ylabel('P R E V I S T O')\n",
    "plt.xlabel('R E A L')\n",
    "plt.show()"
   ]
  },
  {
   "cell_type": "code",
   "execution_count": 79,
   "metadata": {},
   "outputs": [
    {
     "name": "stdout",
     "output_type": "stream",
     "text": [
      "Acurácia:0.53\n",
      "Precisão:1.0\n",
      "Recall ou Sensibilidade:0.05\n",
      "F1-Score:0.1\n",
      "Kappa:0.05\n",
      "Curva ROC:0.53\n"
     ]
    }
   ],
   "source": [
    "#Acurácia, Sensibilidade positiva (VP/(VP+FN),  Precisão, Recall, F1-Score\n",
    "acuracia = accuracy_score(y_teste,nb_previsoes)\n",
    "precisao = precision_score(y_teste,nb_previsoes)\n",
    "recall = recall_score(y_teste,nb_previsoes)\n",
    "f1Score = f1_score(y_teste,nb_previsoes)\n",
    "nb_curva_roc = roc_auc_score(y_teste,nb_previsoes)\n",
    "kappa = cohen_kappa_score(y_teste,nb_previsoes)\n",
    "print(f'Acurácia:{round(acuracia,2)}')\n",
    "print(f'Precisão:{round(precisao,2)}')\n",
    "print(f'Recall ou Sensibilidade:{round(recall,2)}')\n",
    "print(f'F1-Score:{round(f1Score,2)}')\n",
    "print(f'Kappa:{round(kappa,2)}')\n",
    "print(f'Curva ROC:{round(nb_curva_roc,2)}')"
   ]
  },
  {
   "cell_type": "code",
   "execution_count": 80,
   "metadata": {},
   "outputs": [
    {
     "name": "stdout",
     "output_type": "stream",
     "text": [
      "              precision    recall  f1-score   support\n",
      "\n",
      "           0       0.51      1.00      0.68       150\n",
      "           1       1.00      0.05      0.10       150\n",
      "\n",
      "    accuracy                           0.53       300\n",
      "   macro avg       0.76      0.53      0.39       300\n",
      "weighted avg       0.76      0.53      0.39       300\n",
      "\n"
     ]
    }
   ],
   "source": [
    "print(classification_report(y_teste, nb.predict(X_teste)))"
   ]
  },
  {
   "cell_type": "markdown",
   "metadata": {},
   "source": [
    "### Curva ROC"
   ]
  },
  {
   "cell_type": "code",
   "execution_count": 91,
   "metadata": {},
   "outputs": [
    {
     "data": {
      "image/png": "[encoded data removed]",
      "text/plain": [
       "<Figure size 576x396 with 1 Axes>"
      ]
     },
     "metadata": {},
     "output_type": "display_data"
    }
   ],
   "source": [
    "rl_fp,rl_vp,lim1 = roc_curve(y_teste,lr_previsoes)\n",
    "nb_fp,nb_vp,lim2 = roc_curve(y_teste,nb_previsoes)\n",
    "plt.plot(rl_fp,rl_vp, marker='.', label='Regressão Logística='+str(round(lr_curva_roc,2)),color=\"orange\")\n",
    "plt.plot(nb_fp,nb_vp, marker='.', label='Naive Bayes='+str(round(nb_curva_roc,2)),color=\"blue\")\n",
    "plt.plot([0, 1], [0, 1], color='black', linestyle='--')\n",
    "# alterando o nome dos eixos\n",
    "plt.xlabel('1- Especificidade')\n",
    "plt.ylabel('Sensibilidade')\n",
    "# Legenda\n",
    "plt.legend()\n",
    "# Mostrando o gráfico\n",
    "plt.show()\n",
    "#fig.savefig(\"images/mlpr_0305.png\")"
   ]
  },
  {
   "cell_type": "code",
   "execution_count": 124,
   "metadata": {},
   "outputs": [
    {
     "data": {
      "image/png": "[encoded data removed]",
      "text/plain": [
       "<Figure size 576x396 with 1 Axes>"
      ]
     },
     "metadata": {},
     "output_type": "display_data"
    }
   ],
   "source": [
    "#Aqui estamos pegando apenas da classe 1\n",
    "lr_probs = lr_previsoes_prob[:,1]\n",
    "nb_probs = nb_previsoes_prob[:,1]\n",
    "rl_fp,rl_vp,lim1 = roc_curve(y_teste,lr_probs)\n",
    "nb_fp,nb_vp,lim2 = roc_curve(y_teste,nb_probs)\n",
    "plt.plot(rl_fp,rl_vp, marker='.', label='Regressão Logística',color=\"orange\")\n",
    "plt.plot(nb_fp,nb_vp, marker='.', label='Naive Bayes',color=\"blue\")\n",
    "plt.plot([0, 1], [0, 1], color='black', linestyle='--')\n",
    "# alterando o nome dos eixos\n",
    "plt.xlabel('1- Especificidade')\n",
    "plt.ylabel('Sensibilidade')\n",
    "# Legenda\n",
    "plt.legend()\n",
    "# Mostrando o gráfico\n",
    "plt.show()\n",
    "#fig.savefig(\"images/mlpr_0305.png\")"
   ]
  },
  {
   "cell_type": "code",
   "execution_count": 133,
   "metadata": {},
   "outputs": [
    {
     "data": {
      "text/plain": [
       "array([0], dtype=int64)"
      ]
     },
     "execution_count": 133,
     "metadata": {},
     "output_type": "execute_result"
    }
   ],
   "source": [
    "nb_previsoes_1 = nb.predict(X_teste[:1])\n",
    "nb_previsoes_1"
   ]
  },
  {
   "cell_type": "code",
   "execution_count": 134,
   "metadata": {},
   "outputs": [
    {
     "data": {
      "text/plain": [
       "array([[9.99948763e-01, 5.12365946e-05]])"
      ]
     },
     "execution_count": 134,
     "metadata": {},
     "output_type": "execute_result"
    }
   ],
   "source": [
    "nb_previsoes_1 = nb.predict_proba(X_teste[:1])\n",
    "nb_previsoes_1"
   ]
  },
  {
   "cell_type": "markdown",
   "metadata": {},
   "source": [
    "## Máquina de vetores suporte\n",
    "* Uma SVM (Support Vector Machine, ou Máquina de Vetores Suporte) é um algoritmo que tenta fazer a adequação de uma linha (ou plano ou hiperplano) entre as diferentes classes de modo a maximizar a distância da linha até os pontos das classes;\n",
    "* Dessa maneira, ela tenta encontrar uma separação robusta entre as classes;\n",
    "* Os vetores suporte (support vectors) são os pontos da fronteira do hiperplano divisor.\n",
    "\n",
    "Acessar o endereço: https://scikit-learn.org/stable/modules/svm.html"
   ]
  },
  {
   "cell_type": "markdown",
   "metadata": {},
   "source": [
    "<img src=\"SVM.png\" width=\"400px\" align=\"left\"><br>"
   ]
  },
  {
   "cell_type": "code",
   "execution_count": 99,
   "metadata": {},
   "outputs": [],
   "source": [
    "from sklearn.svm import SVC"
   ]
  },
  {
   "cell_type": "code",
   "execution_count": 100,
   "metadata": {},
   "outputs": [],
   "source": [
    "svc = SVC(random_state=42, probability=True)"
   ]
  },
  {
   "cell_type": "code",
   "execution_count": 102,
   "metadata": {},
   "outputs": [
    {
     "data": {
      "text/html": [
       "<style>#sk-container-id-7 {color: black;background-color: white;}#sk-container-id-7 pre{padding: 0;}#sk-container-id-7 div.sk-toggleable {background-color: white;}#sk-container-id-7 label.sk-toggleable__label {cursor: pointer;display: block;width: 100%;margin-bottom: 0;padding: 0.3em;box-sizing: border-box;text-align: center;}#sk-container-id-7 label.sk-toggleable__label-arrow:before {content: \"▸\";float: left;margin-right: 0.25em;color: #696969;}#sk-container-id-7 label.sk-toggleable__label-arrow:hover:before {color: black;}#sk-container-id-7 div.sk-estimator:hover label.sk-toggleable__label-arrow:before {color: black;}#sk-container-id-7 div.sk-toggleable__content {max-height: 0;max-width: 0;overflow: hidden;text-align: left;background-color: #f0f8ff;}#sk-container-id-7 div.sk-toggleable__content pre {margin: 0.2em;color: black;border-radius: 0.25em;background-color: #f0f8ff;}#sk-container-id-7 input.sk-toggleable__control:checked~div.sk-toggleable__content {max-height: 200px;max-width: 100%;overflow: auto;}#sk-container-id-7 input.sk-toggleable__control:checked~label.sk-toggleable__label-arrow:before {content: \"▾\";}#sk-container-id-7 div.sk-estimator input.sk-toggleable__control:checked~label.sk-toggleable__label {background-color: #d4ebff;}#sk-container-id-7 div.sk-label input.sk-toggleable__control:checked~label.sk-toggleable__label {background-color: #d4ebff;}#sk-container-id-7 input.sk-hidden--visually {border: 0;clip: rect(1px 1px 1px 1px);clip: rect(1px, 1px, 1px, 1px);height: 1px;margin: -1px;overflow: hidden;padding: 0;position: absolute;width: 1px;}#sk-container-id-7 div.sk-estimator {font-family: monospace;background-color: #f0f8ff;border: 1px dotted black;border-radius: 0.25em;box-sizing: border-box;margin-bottom: 0.5em;}#sk-container-id-7 div.sk-estimator:hover {background-color: #d4ebff;}#sk-container-id-7 div.sk-parallel-item::after {content: \"\";width: 100%;border-bottom: 1px solid gray;flex-grow: 1;}#sk-container-id-7 div.sk-label:hover label.sk-toggleable__label {background-color: #d4ebff;}#sk-container-id-7 div.sk-serial::before {content: \"\";position: absolute;border-left: 1px solid gray;box-sizing: border-box;top: 0;bottom: 0;left: 50%;z-index: 0;}#sk-container-id-7 div.sk-serial {display: flex;flex-direction: column;align-items: center;background-color: white;padding-right: 0.2em;padding-left: 0.2em;position: relative;}#sk-container-id-7 div.sk-item {position: relative;z-index: 1;}#sk-container-id-7 div.sk-parallel {display: flex;align-items: stretch;justify-content: center;background-color: white;position: relative;}#sk-container-id-7 div.sk-item::before, #sk-container-id-7 div.sk-parallel-item::before {content: \"\";position: absolute;border-left: 1px solid gray;box-sizing: border-box;top: 0;bottom: 0;left: 50%;z-index: -1;}#sk-container-id-7 div.sk-parallel-item {display: flex;flex-direction: column;z-index: 1;position: relative;background-color: white;}#sk-container-id-7 div.sk-parallel-item:first-child::after {align-self: flex-end;width: 50%;}#sk-container-id-7 div.sk-parallel-item:last-child::after {align-self: flex-start;width: 50%;}#sk-container-id-7 div.sk-parallel-item:only-child::after {width: 0;}#sk-container-id-7 div.sk-dashed-wrapped {border: 1px dashed gray;margin: 0 0.4em 0.5em 0.4em;box-sizing: border-box;padding-bottom: 0.4em;background-color: white;}#sk-container-id-7 div.sk-label label {font-family: monospace;font-weight: bold;display: inline-block;line-height: 1.2em;}#sk-container-id-7 div.sk-label-container {text-align: center;}#sk-container-id-7 div.sk-container {/* jupyter's `normalize.less` sets `[hidden] { display: none; }` but bootstrap.min.css set `[hidden] { display: none !important; }` so we also need the `!important` here to be able to override the default hidden behavior on the sphinx rendered scikit-learn.org. See: https://github.com/scikit-learn/scikit-learn/issues/21755 */display: inline-block !important;position: relative;}#sk-container-id-7 div.sk-text-repr-fallback {display: none;}</style><div id=\"sk-container-id-7\" class=\"sk-top-container\"><div class=\"sk-text-repr-fallback\"><pre>SVC(probability=True, random_state=42)</pre><b>In a Jupyter environment, please rerun this cell to show the HTML representation or trust the notebook. <br />On GitHub, the HTML representation is unable to render, please try loading this page with nbviewer.org.</b></div><div class=\"sk-container\" hidden><div class=\"sk-item\"><div class=\"sk-estimator sk-toggleable\"><input class=\"sk-toggleable__control sk-hidden--visually\" id=\"sk-estimator-id-7\" type=\"checkbox\" checked><label for=\"sk-estimator-id-7\" class=\"sk-toggleable__label sk-toggleable__label-arrow\">SVC</label><div class=\"sk-toggleable__content\"><pre>SVC(probability=True, random_state=42)</pre></div></div></div></div></div>"
      ],
      "text/plain": [
       "SVC(probability=True, random_state=42)"
      ]
     },
     "execution_count": 102,
     "metadata": {},
     "output_type": "execute_result"
    }
   ],
   "source": [
    "svc.fit(X_treino, y_treino)"
   ]
  },
  {
   "cell_type": "code",
   "execution_count": 103,
   "metadata": {},
   "outputs": [
    {
     "data": {
      "text/plain": [
       "0.7866666666666666"
      ]
     },
     "execution_count": 103,
     "metadata": {},
     "output_type": "execute_result"
    }
   ],
   "source": [
    "svc.score(X_teste, y_teste)"
   ]
  },
  {
   "cell_type": "code",
   "execution_count": 107,
   "metadata": {},
   "outputs": [],
   "source": [
    "svc = SVC(C=1.0, cache_size=200, class_weight=None, coef0=0.0, decision_function_shape='ovr', \n",
    "          degree=3, gamma='auto', kernel='rbf', max_iter=-1, probability=True, random_state=42, \n",
    "          shrinking=True, tol=0.001, verbose=False)"
   ]
  },
  {
   "cell_type": "code",
   "execution_count": 108,
   "metadata": {},
   "outputs": [
    {
     "data": {
      "text/html": [
       "<style>#sk-container-id-9 {color: black;background-color: white;}#sk-container-id-9 pre{padding: 0;}#sk-container-id-9 div.sk-toggleable {background-color: white;}#sk-container-id-9 label.sk-toggleable__label {cursor: pointer;display: block;width: 100%;margin-bottom: 0;padding: 0.3em;box-sizing: border-box;text-align: center;}#sk-container-id-9 label.sk-toggleable__label-arrow:before {content: \"▸\";float: left;margin-right: 0.25em;color: #696969;}#sk-container-id-9 label.sk-toggleable__label-arrow:hover:before {color: black;}#sk-container-id-9 div.sk-estimator:hover label.sk-toggleable__label-arrow:before {color: black;}#sk-container-id-9 div.sk-toggleable__content {max-height: 0;max-width: 0;overflow: hidden;text-align: left;background-color: #f0f8ff;}#sk-container-id-9 div.sk-toggleable__content pre {margin: 0.2em;color: black;border-radius: 0.25em;background-color: #f0f8ff;}#sk-container-id-9 input.sk-toggleable__control:checked~div.sk-toggleable__content {max-height: 200px;max-width: 100%;overflow: auto;}#sk-container-id-9 input.sk-toggleable__control:checked~label.sk-toggleable__label-arrow:before {content: \"▾\";}#sk-container-id-9 div.sk-estimator input.sk-toggleable__control:checked~label.sk-toggleable__label {background-color: #d4ebff;}#sk-container-id-9 div.sk-label input.sk-toggleable__control:checked~label.sk-toggleable__label {background-color: #d4ebff;}#sk-container-id-9 input.sk-hidden--visually {border: 0;clip: rect(1px 1px 1px 1px);clip: rect(1px, 1px, 1px, 1px);height: 1px;margin: -1px;overflow: hidden;padding: 0;position: absolute;width: 1px;}#sk-container-id-9 div.sk-estimator {font-family: monospace;background-color: #f0f8ff;border: 1px dotted black;border-radius: 0.25em;box-sizing: border-box;margin-bottom: 0.5em;}#sk-container-id-9 div.sk-estimator:hover {background-color: #d4ebff;}#sk-container-id-9 div.sk-parallel-item::after {content: \"\";width: 100%;border-bottom: 1px solid gray;flex-grow: 1;}#sk-container-id-9 div.sk-label:hover label.sk-toggleable__label {background-color: #d4ebff;}#sk-container-id-9 div.sk-serial::before {content: \"\";position: absolute;border-left: 1px solid gray;box-sizing: border-box;top: 0;bottom: 0;left: 50%;z-index: 0;}#sk-container-id-9 div.sk-serial {display: flex;flex-direction: column;align-items: center;background-color: white;padding-right: 0.2em;padding-left: 0.2em;position: relative;}#sk-container-id-9 div.sk-item {position: relative;z-index: 1;}#sk-container-id-9 div.sk-parallel {display: flex;align-items: stretch;justify-content: center;background-color: white;position: relative;}#sk-container-id-9 div.sk-item::before, #sk-container-id-9 div.sk-parallel-item::before {content: \"\";position: absolute;border-left: 1px solid gray;box-sizing: border-box;top: 0;bottom: 0;left: 50%;z-index: -1;}#sk-container-id-9 div.sk-parallel-item {display: flex;flex-direction: column;z-index: 1;position: relative;background-color: white;}#sk-container-id-9 div.sk-parallel-item:first-child::after {align-self: flex-end;width: 50%;}#sk-container-id-9 div.sk-parallel-item:last-child::after {align-self: flex-start;width: 50%;}#sk-container-id-9 div.sk-parallel-item:only-child::after {width: 0;}#sk-container-id-9 div.sk-dashed-wrapped {border: 1px dashed gray;margin: 0 0.4em 0.5em 0.4em;box-sizing: border-box;padding-bottom: 0.4em;background-color: white;}#sk-container-id-9 div.sk-label label {font-family: monospace;font-weight: bold;display: inline-block;line-height: 1.2em;}#sk-container-id-9 div.sk-label-container {text-align: center;}#sk-container-id-9 div.sk-container {/* jupyter's `normalize.less` sets `[hidden] { display: none; }` but bootstrap.min.css set `[hidden] { display: none !important; }` so we also need the `!important` here to be able to override the default hidden behavior on the sphinx rendered scikit-learn.org. See: https://github.com/scikit-learn/scikit-learn/issues/21755 */display: inline-block !important;position: relative;}#sk-container-id-9 div.sk-text-repr-fallback {display: none;}</style><div id=\"sk-container-id-9\" class=\"sk-top-container\"><div class=\"sk-text-repr-fallback\"><pre>SVC(gamma=&#x27;auto&#x27;, probability=True, random_state=42)</pre><b>In a Jupyter environment, please rerun this cell to show the HTML representation or trust the notebook. <br />On GitHub, the HTML representation is unable to render, please try loading this page with nbviewer.org.</b></div><div class=\"sk-container\" hidden><div class=\"sk-item\"><div class=\"sk-estimator sk-toggleable\"><input class=\"sk-toggleable__control sk-hidden--visually\" id=\"sk-estimator-id-9\" type=\"checkbox\" checked><label for=\"sk-estimator-id-9\" class=\"sk-toggleable__label sk-toggleable__label-arrow\">SVC</label><div class=\"sk-toggleable__content\"><pre>SVC(gamma=&#x27;auto&#x27;, probability=True, random_state=42)</pre></div></div></div></div></div>"
      ],
      "text/plain": [
       "SVC(gamma='auto', probability=True, random_state=42)"
      ]
     },
     "execution_count": 108,
     "metadata": {},
     "output_type": "execute_result"
    }
   ],
   "source": [
    "svc.fit(X_treino, y_treino)"
   ]
  },
  {
   "cell_type": "code",
   "execution_count": 109,
   "metadata": {},
   "outputs": [
    {
     "data": {
      "text/plain": [
       "0.7866666666666666"
      ]
     },
     "execution_count": 109,
     "metadata": {},
     "output_type": "execute_result"
    }
   ],
   "source": [
    "svc.score(X_teste, y_teste) "
   ]
  },
  {
   "cell_type": "markdown",
   "metadata": {},
   "source": [
    "### Cross Validation. ou Validação Cruzada é uma técnica para avaliar a capacidade de generalização de um modelo,  a partir de um conjunto de dados."
   ]
  },
  {
   "cell_type": "code",
   "execution_count": 111,
   "metadata": {},
   "outputs": [
    {
     "name": "stdout",
     "output_type": "stream",
     "text": [
      "Scores = [0.77 0.79 0.76 0.77 0.82 0.78 0.74 0.69 0.7  0.74]\n",
      "Média dos Scores = 0.756\n"
     ]
    }
   ],
   "source": [
    "cv_scores = cross_val_score(svc,X,y, cv=10, scoring='accuracy')\n",
    "print(f'Scores = {cv_scores}')\n",
    "print(f'Média dos Scores = {cv_scores.mean()}')"
   ]
  },
  {
   "cell_type": "code",
   "execution_count": 116,
   "metadata": {},
   "outputs": [
    {
     "data": {
      "text/plain": [
       "array([0, 0, 0, 0, 0, 0, 0, 1, 1, 1, 1, 1, 0, 0, 0, 0, 1, 0, 1, 1, 0, 1,\n",
       "       0, 0, 1, 1, 0, 0, 0, 0, 1, 1, 0, 1, 1, 0, 0, 0, 0, 0, 1, 0, 1, 0,\n",
       "       1, 0, 0, 0, 1, 0, 0, 0, 1, 0, 1, 0, 0, 1, 1, 1, 1, 1, 0, 0, 0, 0,\n",
       "       0, 0, 1, 0, 1, 1, 0, 0, 1, 1, 0, 1, 0, 1, 0, 1, 0, 0, 1, 0, 0, 0,\n",
       "       0, 1, 1, 1, 1, 0, 0, 0, 0, 1, 1, 0, 0, 0, 0, 1, 0, 0, 0, 0, 1, 0,\n",
       "       0, 0, 1, 0, 1, 0, 1, 0, 1, 1, 1, 1, 1, 1, 1, 0, 0, 1, 0, 1, 0, 1,\n",
       "       1, 0, 0, 0, 0, 1, 0, 1, 1, 1, 0, 1, 1, 0, 0, 1, 0, 0, 0, 1, 0, 1,\n",
       "       0, 0, 1, 0, 1, 0, 0, 0, 0, 0, 0, 0, 1, 0, 1, 0, 0, 1, 0, 0, 0, 1,\n",
       "       1, 1, 0, 0, 1, 0, 1, 0, 0, 1, 1, 0, 0, 0, 0, 1, 1, 1, 1, 0, 0, 1,\n",
       "       0, 1, 1, 0, 0, 0, 0, 0, 1, 0, 1, 0, 1, 1, 0, 0, 0, 1, 0, 1, 0, 1,\n",
       "       1, 0, 0, 1, 0, 0, 0, 0, 1, 1, 1, 0, 1, 0, 1, 1, 1, 0, 1, 1, 1, 1,\n",
       "       0, 0, 1, 0, 0, 1, 1, 1, 1, 1, 1, 0, 0, 1, 0, 0, 0, 1, 0, 0, 1, 1,\n",
       "       1, 1, 0, 0, 1, 0, 0, 1, 0, 1, 0, 1, 0, 0, 1, 0, 0, 0, 1, 0, 1, 0,\n",
       "       1, 0, 1, 0, 0, 0, 1, 0, 1, 0, 0, 1, 1, 1], dtype=int64)"
      ]
     },
     "execution_count": 116,
     "metadata": {},
     "output_type": "execute_result"
    }
   ],
   "source": [
    "#Obter a previsões\n",
    "svc_previsoes = svc.predict(X_teste)\n",
    "svc_previsoes"
   ]
  },
  {
   "cell_type": "code",
   "execution_count": 117,
   "metadata": {},
   "outputs": [
    {
     "data": {
      "text/plain": [
       "array([[0.70926572, 0.29073428],\n",
       "       [0.71304685, 0.28695315],\n",
       "       [0.71423477, 0.28576523],\n",
       "       [0.71265626, 0.28734374],\n",
       "       [0.71263076, 0.28736924],\n",
       "       [0.70275879, 0.29724121],\n",
       "       [0.70345552, 0.29654448],\n",
       "       [0.20652076, 0.79347924],\n",
       "       [0.20682563, 0.79317437],\n",
       "       [0.2007264 , 0.7992736 ],\n",
       "       [0.20661296, 0.79338704],\n",
       "       [0.21004282, 0.78995718],\n",
       "       [0.71493672, 0.28506328],\n",
       "       [0.71282536, 0.28717464],\n",
       "       [0.71053712, 0.28946288],\n",
       "       [0.71283014, 0.28716986],\n",
       "       [0.20259929, 0.79740071],\n",
       "       [0.71279724, 0.28720276],\n",
       "       [0.20665582, 0.79334418],\n",
       "       [0.21363832, 0.78636168],\n",
       "       [0.71262972, 0.28737028],\n",
       "       [0.20082835, 0.79917165],\n",
       "       [0.71219859, 0.28780141],\n",
       "       [0.71351401, 0.28648599],\n",
       "       [0.20078405, 0.79921595],\n",
       "       [0.20212154, 0.79787846],\n",
       "       [0.69585608, 0.30414392],\n",
       "       [0.71373558, 0.28626442],\n",
       "       [0.71286314, 0.28713686],\n",
       "       [0.71273935, 0.28726065],\n",
       "       [0.20640524, 0.79359476],\n",
       "       [0.20188277, 0.79811723],\n",
       "       [0.71329582, 0.28670418],\n",
       "       [0.20517149, 0.79482851],\n",
       "       [0.21264488, 0.78735512],\n",
       "       [0.7047034 , 0.2952966 ],\n",
       "       [0.71234826, 0.28765174],\n",
       "       [0.70292327, 0.29707673],\n",
       "       [0.71447064, 0.28552936],\n",
       "       [0.70875268, 0.29124732],\n",
       "       [0.23150814, 0.76849186],\n",
       "       [0.69816387, 0.30183613],\n",
       "       [0.20313304, 0.79686696],\n",
       "       [0.70003651, 0.29996349],\n",
       "       [0.19968115, 0.80031885],\n",
       "       [0.71281605, 0.28718395],\n",
       "       [0.71421262, 0.28578738],\n",
       "       [0.71040639, 0.28959361],\n",
       "       [0.20670839, 0.79329161],\n",
       "       [0.71279031, 0.28720969],\n",
       "       [0.71942901, 0.28057099],\n",
       "       [0.71282193, 0.28717807],\n",
       "       [0.19523712, 0.80476288],\n",
       "       [0.71285287, 0.28714713],\n",
       "       [0.20310395, 0.79689605],\n",
       "       [0.71080111, 0.28919889],\n",
       "       [0.71144123, 0.28855877],\n",
       "       [0.19673725, 0.80326275],\n",
       "       [0.20213441, 0.79786559],\n",
       "       [0.22463423, 0.77536577],\n",
       "       [0.20461132, 0.79538868],\n",
       "       [0.19738139, 0.80261861],\n",
       "       [0.71267088, 0.28732912],\n",
       "       [0.71376122, 0.28623878],\n",
       "       [0.71323464, 0.28676536],\n",
       "       [0.71150122, 0.28849878],\n",
       "       [0.71334425, 0.28665575],\n",
       "       [0.71332876, 0.28667124],\n",
       "       [0.20190268, 0.79809732],\n",
       "       [0.71330766, 0.28669234],\n",
       "       [0.20693661, 0.79306339],\n",
       "       [0.20557288, 0.79442712],\n",
       "       [0.71252446, 0.28747554],\n",
       "       [0.71297194, 0.28702806],\n",
       "       [0.21105938, 0.78894062],\n",
       "       [0.2003955 , 0.7996045 ],\n",
       "       [0.7134814 , 0.2865186 ],\n",
       "       [0.21501412, 0.78498588],\n",
       "       [0.71222118, 0.28777882],\n",
       "       [0.200559  , 0.799441  ],\n",
       "       [0.71222118, 0.28777882],\n",
       "       [0.1997036 , 0.8002964 ],\n",
       "       [0.71109123, 0.28890877],\n",
       "       [0.70143986, 0.29856014],\n",
       "       [0.20035135, 0.79964865],\n",
       "       [0.71280087, 0.28719913],\n",
       "       [0.71264844, 0.28735156],\n",
       "       [0.71259644, 0.28740356],\n",
       "       [0.71281249, 0.28718751],\n",
       "       [0.21339713, 0.78660287],\n",
       "       [0.21045863, 0.78954137],\n",
       "       [0.21112087, 0.78887913],\n",
       "       [0.21023353, 0.78976647],\n",
       "       [0.71285188, 0.28714812],\n",
       "       [0.71183956, 0.28816044],\n",
       "       [0.70989645, 0.29010355],\n",
       "       [0.71278807, 0.28721193],\n",
       "       [0.19801315, 0.80198685],\n",
       "       [0.20983323, 0.79016677],\n",
       "       [0.71397958, 0.28602042],\n",
       "       [0.71323464, 0.28676536],\n",
       "       [0.71284797, 0.28715203],\n",
       "       [0.71277403, 0.28722597],\n",
       "       [0.19634455, 0.80365545],\n",
       "       [0.71423458, 0.28576542],\n",
       "       [0.71222515, 0.28777485],\n",
       "       [0.71230571, 0.28769429],\n",
       "       [0.71397093, 0.28602907],\n",
       "       [0.20176226, 0.79823774],\n",
       "       [0.71391891, 0.28608109],\n",
       "       [0.71415267, 0.28584733],\n",
       "       [0.71075354, 0.28924646],\n",
       "       [0.20425636, 0.79574364],\n",
       "       [0.71262972, 0.28737028],\n",
       "       [0.20123119, 0.79876881],\n",
       "       [0.71207067, 0.28792933],\n",
       "       [0.20304549, 0.79695451],\n",
       "       [0.71262517, 0.28737483],\n",
       "       [0.26780634, 0.73219366],\n",
       "       [0.20102344, 0.79897656],\n",
       "       [0.2015648 , 0.7984352 ],\n",
       "       [0.20893678, 0.79106322],\n",
       "       [0.22368022, 0.77631978],\n",
       "       [0.19551038, 0.80448962],\n",
       "       [0.19737151, 0.80262849],\n",
       "       [0.71287831, 0.28712169],\n",
       "       [0.71280132, 0.28719868],\n",
       "       [0.20539736, 0.79460264],\n",
       "       [0.71308174, 0.28691826],\n",
       "       [0.20680094, 0.79319906],\n",
       "       [0.71917305, 0.28082695],\n",
       "       [0.2212537 , 0.7787463 ],\n",
       "       [0.20088834, 0.79911166],\n",
       "       [0.71263028, 0.28736972],\n",
       "       [0.71271006, 0.28728994],\n",
       "       [0.71174208, 0.28825792],\n",
       "       [0.7062541 , 0.2937459 ],\n",
       "       [0.20061769, 0.79938231],\n",
       "       [0.70472524, 0.29527476],\n",
       "       [0.20069889, 0.79930111],\n",
       "       [0.2049767 , 0.7950233 ],\n",
       "       [0.20669591, 0.79330409],\n",
       "       [0.71273595, 0.28726405],\n",
       "       [0.2012034 , 0.7987966 ],\n",
       "       [0.2123805 , 0.7876195 ],\n",
       "       [0.71234826, 0.28765174],\n",
       "       [0.71081163, 0.28918837],\n",
       "       [0.20469292, 0.79530708],\n",
       "       [0.71262685, 0.28737315],\n",
       "       [0.71280994, 0.28719006],\n",
       "       [0.71468094, 0.28531906],\n",
       "       [0.1953692 , 0.8046308 ],\n",
       "       [0.71185133, 0.28814867],\n",
       "       [0.20633556, 0.79366444],\n",
       "       [0.71317875, 0.28682125],\n",
       "       [0.71280825, 0.28719175],\n",
       "       [0.20062409, 0.79937591],\n",
       "       [0.71342   , 0.28658   ],\n",
       "       [0.20157122, 0.79842878],\n",
       "       [0.70539594, 0.29460406],\n",
       "       [0.71284657, 0.28715343],\n",
       "       [0.71266263, 0.28733737],\n",
       "       [0.7128203 , 0.2871797 ],\n",
       "       [0.71330766, 0.28669234],\n",
       "       [0.70680218, 0.29319782],\n",
       "       [0.70144895, 0.29855105],\n",
       "       [0.20040097, 0.79959903],\n",
       "       [0.70723326, 0.29276674],\n",
       "       [0.20686741, 0.79313259],\n",
       "       [0.71008025, 0.28991975],\n",
       "       [0.71238112, 0.28761888],\n",
       "       [0.21116341, 0.78883659],\n",
       "       [0.70813325, 0.29186675],\n",
       "       [0.71281334, 0.28718666],\n",
       "       [0.71281642, 0.28718358],\n",
       "       [0.21660494, 0.78339506],\n",
       "       [0.20134889, 0.79865111],\n",
       "       [0.20143612, 0.79856388],\n",
       "       [0.71220406, 0.28779594],\n",
       "       [0.71222118, 0.28777882],\n",
       "       [0.21081936, 0.78918064],\n",
       "       [0.71429214, 0.28570786],\n",
       "       [0.21196296, 0.78803704],\n",
       "       [0.71381555, 0.28618445],\n",
       "       [0.71268686, 0.28731314],\n",
       "       [0.20010596, 0.79989404],\n",
       "       [0.20765641, 0.79234359],\n",
       "       [0.71275664, 0.28724336],\n",
       "       [0.71368331, 0.28631669],\n",
       "       [0.71262972, 0.28737028],\n",
       "       [0.71123483, 0.28876517],\n",
       "       [0.21024936, 0.78975064],\n",
       "       [0.20652076, 0.79347924],\n",
       "       [0.20138189, 0.79861811],\n",
       "       [0.20250396, 0.79749604],\n",
       "       [0.71345086, 0.28654914],\n",
       "       [0.71280095, 0.28719905],\n",
       "       [0.20605135, 0.79394865],\n",
       "       [0.71262972, 0.28737028],\n",
       "       [0.19551596, 0.80448404],\n",
       "       [0.20225732, 0.79774268],\n",
       "       [0.70390919, 0.29609081],\n",
       "       [0.71111391, 0.28888609],\n",
       "       [0.71181752, 0.28818248],\n",
       "       [0.71572308, 0.28427692],\n",
       "       [0.71427013, 0.28572987],\n",
       "       [0.20194986, 0.79805014],\n",
       "       [0.71222515, 0.28777485],\n",
       "       [0.21428502, 0.78571498],\n",
       "       [0.71124318, 0.28875682],\n",
       "       [0.2037711 , 0.7962289 ],\n",
       "       [0.19477275, 0.80522725],\n",
       "       [0.71380911, 0.28619089],\n",
       "       [0.71114287, 0.28885713],\n",
       "       [0.71262972, 0.28737028],\n",
       "       [0.23255443, 0.76744557],\n",
       "       [0.71280087, 0.28719913],\n",
       "       [0.20289352, 0.79710648],\n",
       "       [0.7137162 , 0.2862838 ],\n",
       "       [0.21269311, 0.78730689],\n",
       "       [0.19943902, 0.80056098],\n",
       "       [0.71282573, 0.28717427],\n",
       "       [0.71242461, 0.28757539],\n",
       "       [0.19891888, 0.80108112],\n",
       "       [0.7127818 , 0.2872182 ],\n",
       "       [0.71145311, 0.28854689],\n",
       "       [0.71482626, 0.28517374],\n",
       "       [0.71314707, 0.28685293],\n",
       "       [0.20643927, 0.79356073],\n",
       "       [0.21068595, 0.78931405],\n",
       "       [0.20668387, 0.79331613],\n",
       "       [0.71287376, 0.28712624],\n",
       "       [0.21069173, 0.78930827],\n",
       "       [0.70884113, 0.29115887],\n",
       "       [0.2064847 , 0.7935153 ],\n",
       "       [0.20261641, 0.79738359],\n",
       "       [0.19454283, 0.80545717],\n",
       "       [0.71272748, 0.28727252],\n",
       "       [0.20475514, 0.79524486],\n",
       "       [0.23027097, 0.76972903],\n",
       "       [0.21009166, 0.78990834],\n",
       "       [0.20103925, 0.79896075],\n",
       "       [0.71410039, 0.28589961],\n",
       "       [0.71247861, 0.28752139],\n",
       "       [0.20116498, 0.79883502],\n",
       "       [0.70512633, 0.29487367],\n",
       "       [0.71277686, 0.28722314],\n",
       "       [0.21604063, 0.78395937],\n",
       "       [0.20036811, 0.79963189],\n",
       "       [0.20407467, 0.79592533],\n",
       "       [0.19530946, 0.80469054],\n",
       "       [0.21562711, 0.78437289],\n",
       "       [0.2082873 , 0.7917127 ],\n",
       "       [0.71262972, 0.28737028],\n",
       "       [0.71281573, 0.28718427],\n",
       "       [0.2052539 , 0.7947461 ],\n",
       "       [0.71309505, 0.28690495],\n",
       "       [0.71335634, 0.28664366],\n",
       "       [0.71262972, 0.28737028],\n",
       "       [0.19998216, 0.80001784],\n",
       "       [0.70472115, 0.29527885],\n",
       "       [0.70909171, 0.29090829],\n",
       "       [0.19524466, 0.80475534],\n",
       "       [0.20133102, 0.79866898],\n",
       "       [0.2152116 , 0.7847884 ],\n",
       "       [0.20105413, 0.79894587],\n",
       "       [0.69962789, 0.30037211],\n",
       "       [0.71278575, 0.28721425],\n",
       "       [0.20865796, 0.79134204],\n",
       "       [0.71111391, 0.28888609],\n",
       "       [0.71241068, 0.28758932],\n",
       "       [0.20281569, 0.79718431],\n",
       "       [0.71280875, 0.28719125],\n",
       "       [0.20540818, 0.79459182],\n",
       "       [0.71273982, 0.28726018],\n",
       "       [0.20405089, 0.79594911],\n",
       "       [0.69508319, 0.30491681],\n",
       "       [0.71282084, 0.28717916],\n",
       "       [0.20521661, 0.79478339],\n",
       "       [0.71262972, 0.28737028],\n",
       "       [0.71222118, 0.28777882],\n",
       "       [0.71220406, 0.28779594],\n",
       "       [0.20051207, 0.79948793],\n",
       "       [0.70983846, 0.29016154],\n",
       "       [0.20048471, 0.79951529],\n",
       "       [0.71127547, 0.28872453],\n",
       "       [0.21161439, 0.78838561],\n",
       "       [0.71263022, 0.28736978],\n",
       "       [0.20096295, 0.79903705],\n",
       "       [0.7108351 , 0.2891649 ],\n",
       "       [0.71275063, 0.28724937],\n",
       "       [0.71290176, 0.28709824],\n",
       "       [0.23330779, 0.76669221],\n",
       "       [0.71345659, 0.28654341],\n",
       "       [0.22070478, 0.77929522],\n",
       "       [0.71282193, 0.28717807],\n",
       "       [0.71282573, 0.28717427],\n",
       "       [0.20680094, 0.79319906],\n",
       "       [0.20319452, 0.79680548],\n",
       "       [0.20095006, 0.79904994]])"
      ]
     },
     "execution_count": 117,
     "metadata": {},
     "output_type": "execute_result"
    }
   ],
   "source": [
    "#Obter a previsões da probabilidade\n",
    "#Note que ele retorna  probabilidade da classe 0 e 1 respectivamente\n",
    "svc_previsoes_prob = svc.predict_proba(X_teste)\n",
    "svc_previsoes_prob"
   ]
  },
  {
   "cell_type": "markdown",
   "metadata": {},
   "source": [
    "### Matriz de Confusão"
   ]
  },
  {
   "cell_type": "code",
   "execution_count": 118,
   "metadata": {},
   "outputs": [
    {
     "data": {
      "image/png": "[encoded data removed]",
      "text/plain": [
       "<Figure size 576x396 with 2 Axes>"
      ]
     },
     "metadata": {},
     "output_type": "display_data"
    }
   ],
   "source": [
    "sns.heatmap(confusion_matrix(y_teste, svc_previsoes), cmap='OrRd', annot=True, fmt='2.0f')\n",
    "plt.title('SVC')\n",
    "plt.ylabel('P R E V I S T O')\n",
    "plt.xlabel('R E A L')\n",
    "plt.show()"
   ]
  },
  {
   "cell_type": "code",
   "execution_count": 119,
   "metadata": {},
   "outputs": [
    {
     "name": "stdout",
     "output_type": "stream",
     "text": [
      "Acurácia:0.79\n",
      "Precisão:0.83\n",
      "Recall ou Sensibilidade:0.73\n",
      "F1-Score:0.77\n",
      "Kappa:0.57\n",
      "Curva ROC:0.79\n"
     ]
    }
   ],
   "source": [
    "#Acurácia, Sensibilidade positiva (VP/(VP+FN),  Precisão, Recall, F1-Score\n",
    "acuracia = accuracy_score(y_teste,svc_previsoes)\n",
    "precisao = precision_score(y_teste,svc_previsoes)\n",
    "recall = recall_score(y_teste,svc_previsoes)\n",
    "f1Score = f1_score(y_teste,svc_previsoes)\n",
    "svc_curva_roc = roc_auc_score(y_teste,svc_previsoes)\n",
    "kappa = cohen_kappa_score(y_teste,svc_previsoes)\n",
    "print(f'Acurácia:{round(acuracia,2)}')\n",
    "print(f'Precisão:{round(precisao,2)}')\n",
    "print(f'Recall ou Sensibilidade:{round(recall,2)}')\n",
    "print(f'F1-Score:{round(f1Score,2)}')\n",
    "print(f'Kappa:{round(kappa,2)}')\n",
    "print(f'Curva ROC:{round(svc_curva_roc,2)}')"
   ]
  },
  {
   "cell_type": "code",
   "execution_count": 120,
   "metadata": {},
   "outputs": [
    {
     "name": "stdout",
     "output_type": "stream",
     "text": [
      "              precision    recall  f1-score   support\n",
      "\n",
      "           0       0.76      0.85      0.80       150\n",
      "           1       0.83      0.73      0.77       150\n",
      "\n",
      "    accuracy                           0.79       300\n",
      "   macro avg       0.79      0.79      0.79       300\n",
      "weighted avg       0.79      0.79      0.79       300\n",
      "\n"
     ]
    }
   ],
   "source": [
    "print(classification_report(y_teste, svc.predict(X_teste)))"
   ]
  },
  {
   "cell_type": "markdown",
   "metadata": {},
   "source": [
    "### Curva ROC"
   ]
  },
  {
   "cell_type": "code",
   "execution_count": 121,
   "metadata": {},
   "outputs": [
    {
     "data": {
      "image/png": "[encoded data removed]",
      "text/plain": [
       "<Figure size 576x396 with 1 Axes>"
      ]
     },
     "metadata": {},
     "output_type": "display_data"
    }
   ],
   "source": [
    "rl_fp,rl_vp,lim1 = roc_curve(y_teste,lr_previsoes)\n",
    "nb_fp,nb_vp,lim2 = roc_curve(y_teste,nb_previsoes)\n",
    "svc_fp,svc_vp,lim3 = roc_curve(y_teste,svc_previsoes)\n",
    "plt.plot(rl_fp,rl_vp, marker='.', label='Regressão Logística='+str(round(lr_curva_roc,2)),color=\"orange\")\n",
    "plt.plot(nb_fp,nb_vp, marker='.', label='Naive Bayes='+str(round(nb_curva_roc,2)),color=\"blue\")\n",
    "plt.plot(svc_fp,svc_vp, marker='.', label='SVC='+str(round(svc_curva_roc,2)),color=\"yellow\")\n",
    "plt.plot([0, 1], [0, 1], color='black', linestyle='--')\n",
    "# alterando o nome dos eixos\n",
    "plt.xlabel('1- Especificidade')\n",
    "plt.ylabel('Sensibilidade')\n",
    "# Legenda\n",
    "plt.legend()\n",
    "# Mostrando o gráfico\n",
    "plt.show()\n",
    "#fig.savefig(\"images/mlpr_0305.png\")"
   ]
  },
  {
   "cell_type": "code",
   "execution_count": 125,
   "metadata": {},
   "outputs": [
    {
     "data": {
      "image/png": "[encoded data removed]",
      "text/plain": [
       "<Figure size 576x396 with 1 Axes>"
      ]
     },
     "metadata": {},
     "output_type": "display_data"
    }
   ],
   "source": [
    "#Aqui estamos pegando apenas da classe 1\n",
    "lr_probs = lr_previsoes_prob[:,1]\n",
    "nb_probs = nb_previsoes_prob[:,1]\n",
    "svc_probs = svc_previsoes_prob[:,1]\n",
    "rl_fp,rl_vp,lim1 = roc_curve(y_teste,lr_probs)\n",
    "nb_fp,nb_vp,lim2 = roc_curve(y_teste,nb_probs)\n",
    "svc_fp,svc_vp,lim3 = roc_curve(y_teste,svc_probs)\n",
    "plt.plot(rl_fp,rl_vp, marker='.', label='Regressão Logística',color=\"orange\")\n",
    "plt.plot(nb_fp,nb_vp, marker='.', label='Naive Bayes',color=\"blue\")\n",
    "plt.plot(svc_fp,svc_vp, marker='.', label='SVC',color=\"yellow\")\n",
    "plt.plot([0, 1], [0, 1], color='black', linestyle='--')\n",
    "# alterando o nome dos eixos\n",
    "plt.xlabel('1- Especificidade')\n",
    "plt.ylabel('Sensibilidade')\n",
    "# Legenda\n",
    "plt.legend()\n",
    "# Mostrando o gráfico\n",
    "plt.show()\n",
    "#fig.savefig(\"images/mlpr_0305.png\")"
   ]
  },
  {
   "cell_type": "code",
   "execution_count": 135,
   "metadata": {},
   "outputs": [
    {
     "data": {
      "text/plain": [
       "array([0], dtype=int64)"
      ]
     },
     "execution_count": 135,
     "metadata": {},
     "output_type": "execute_result"
    }
   ],
   "source": [
    "svc_previsoes_1 = svc.predict(X_teste[:1])\n",
    "svc_previsoes_1"
   ]
  },
  {
   "cell_type": "code",
   "execution_count": 136,
   "metadata": {},
   "outputs": [
    {
     "data": {
      "text/plain": [
       "array([[0.70926572, 0.29073428]])"
      ]
     },
     "execution_count": 136,
     "metadata": {},
     "output_type": "execute_result"
    }
   ],
   "source": [
    "svc_previsoes_1 = svc.predict_proba(X_teste[:1])\n",
    "svc_previsoes_1"
   ]
  },
  {
   "cell_type": "markdown",
   "metadata": {},
   "source": [
    "### Referências"
   ]
  },
  {
   "cell_type": "markdown",
   "metadata": {},
   "source": [
    "### Harrison, Matt. Machine Learning – Guia de Referência Rápida. Novatec Editora. Edição do Kindle. \n",
    "### Regressão Logística. Disponível em: https://scikit-learn.org/stable/modules/generated/sklearn.linear_model.LogisticRegression.html. Acesso em 05/10/2022.\n",
    "### GaussianNB. Disponível em:https://scikit-learn.org/stable/modules/generated/sklearn.naive_bayes.GaussianNB.html?highlight=gaussiannb#sklearn.naive_bayes.GaussianNB .Acesso em 05/10/2022.\n",
    "### SVC. Disponível em:https://scikit-learn.org/stable/modules/generated/sklearn.svm.SVC.html?highlight=svc#sklearn.svm.SVC. Acesso em 10/10/2022.\n",
    "### Yellowbrick. Disponível em: https://www.scikit-yb.org/en/latest/. Acesso em 05/10/2022."
   ]
  },
  {
   "cell_type": "code",
   "execution_count": null,
   "metadata": {},
   "outputs": [],
   "source": []
  }
 ],
 "metadata": {
  "jupytext": {
   "formats": "ipynb,py:light"
  },
  "kernelspec": {
   "display_name": "Python 3",
   "language": "python",
   "name": "python3"
  },
  "language_info": {
   "codemirror_mode": {
    "name": "ipython",
    "version": 3
   },
   "file_extension": ".py",
   "mimetype": "text/x-python",
   "name": "python",
   "nbconvert_exporter": "python",
   "pygments_lexer": "ipython3",
   "version": "3.8.8"
  }
 },
 "nbformat": 4,
 "nbformat_minor": 2
}
