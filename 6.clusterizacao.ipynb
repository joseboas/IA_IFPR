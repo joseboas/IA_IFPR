{
 "cells": [
  {
   "cell_type": "markdown",
   "metadata": {},
   "source": [
    "### Agrupamento ou  Clusterização é uma técnica não supervisionada para dividir um grupo em conjuntos, portanto:\n",
    "* Não existem classes;\n",
    "* Objetivo é criar grupos a partir de atributos (características) das instâncias."
   ]
  },
  {
   "cell_type": "markdown",
   "metadata": {},
   "source": [
    "### Tipos de grupos:\n",
    "* Agrupamento completo: cada elemento é adicionado em um único grupo."
   ]
  },
  {
   "cell_type": "markdown",
   "metadata": {},
   "source": [
    "<img src=\"clusterizacao_1.png\" />"
   ]
  },
  {
   "cell_type": "markdown",
   "metadata": {},
   "source": [
    "### Tipos de grupos: \n",
    "* Agrupamento parcial: cada instancia pode pertencer a mais de um grupo.\n"
   ]
  },
  {
   "cell_type": "markdown",
   "metadata": {},
   "source": [
    "<img src=\"clusterizacao_2.png\"/>"
   ]
  },
  {
   "cell_type": "markdown",
   "metadata": {},
   "source": [
    "### Tipos de grupos:\n",
    "* Modelo Difuso: cada elemento pertence a um grupo segundo uma probabilidade."
   ]
  },
  {
   "cell_type": "markdown",
   "metadata": {},
   "source": [
    "<img src=\"modelo_difuso.png\"/>"
   ]
  },
  {
   "cell_type": "markdown",
   "metadata": {},
   "source": [
    "### Tipos de grupos:\n",
    "* Modelo Hierárquico: permite que o grupo tenha subgrupos"
   ]
  },
  {
   "cell_type": "markdown",
   "metadata": {},
   "source": [
    "<img src=\"modelo_hirarquico.png\"/>"
   ]
  },
  {
   "cell_type": "markdown",
   "metadata": {},
   "source": [
    "### Tipos de grupos:\n",
    "* Agrupa todos os elementos;\n",
    "* Pode deixar elementos sem agrupar (ruído)."
   ]
  },
  {
   "cell_type": "markdown",
   "metadata": {},
   "source": [
    "<img src=\"agrupamento_final.png\"/>"
   ]
  },
  {
   "cell_type": "markdown",
   "metadata": {},
   "source": [
    "### K-means e K-medoid\n",
    "* Simples; Baseado em protótipo; Encontra um número de grupos definido pelo usuário; Agrupa todos os objetos; Definir os centróides é uma etapa fundamental; Distância Euclidiana;\n",
    "* K-means: Protótipo é um centróide: média de grupo de pontos. Quase nunca é um ponto real de dados;\n",
    "* K-medoid: Protótipo baseado em medóide: ponto mais representativo. É um ponto real de dados.\n",
    "* Tem dificuldade para detectar grupos naturais, não esféricas, de tamanho ou densidades muito diferentes;\n",
    "* Pode ser melhorado escolhendo os centros."
   ]
  },
  {
   "cell_type": "code",
   "execution_count": null,
   "metadata": {},
   "outputs": [],
   "source": [
    "#Vamos ver a versão do threadpoolctl.\n",
    "#Se a versão for inferior a 3.1.0, devemos fazer upgrade. \n",
    "import threadpoolctl\n",
    "print(threadpoolctl.__version__)"
   ]
  },
  {
   "cell_type": "code",
   "execution_count": null,
   "metadata": {},
   "outputs": [],
   "source": [
    "!pip install threadpoolctl --upgrade"
   ]
  },
  {
   "cell_type": "code",
   "execution_count": null,
   "metadata": {},
   "outputs": [],
   "source": [
    "#Se continuar a dar erro fazemos o  downgrade do numpy\n",
    "!pip install numpy==1.21.4 "
   ]
  },
  {
   "cell_type": "code",
   "execution_count": 1,
   "metadata": {},
   "outputs": [],
   "source": [
    "# Importação das bibliotecas\n",
    "from sklearn import datasets\n",
    "import numpy as np\n",
    "from sklearn.metrics import confusion_matrix\n",
    "import matplotlib.pyplot as plt\n",
    "from sklearn.cluster import KMeans"
   ]
  },
  {
   "cell_type": "code",
   "execution_count": 2,
   "metadata": {},
   "outputs": [],
   "source": [
    "# Carregamento da base de dados \n",
    "iris = datasets.load_iris()"
   ]
  },
  {
   "cell_type": "code",
   "execution_count": 3,
   "metadata": {},
   "outputs": [
    {
     "name": "stdout",
     "output_type": "stream",
     "text": [
      "[0 1 2]\n",
      "[50 50 50]\n"
     ]
    }
   ],
   "source": [
    "# visualização de quantos registros existem por classe\n",
    "unicos, quantidade = np.unique(iris.target, return_counts = True)\n",
    "print(unicos)\n",
    "print(quantidade)"
   ]
  },
  {
   "cell_type": "code",
   "execution_count": 4,
   "metadata": {},
   "outputs": [
    {
     "data": {
      "text/plain": [
       "array([50, 50, 50], dtype=int64)"
      ]
     },
     "execution_count": 4,
     "metadata": {},
     "output_type": "execute_result"
    }
   ],
   "source": [
    "quantidade"
   ]
  },
  {
   "cell_type": "code",
   "execution_count": 5,
   "metadata": {},
   "outputs": [
    {
     "data": {
      "text/html": [
       "<style>#sk-container-id-1 {color: black;background-color: white;}#sk-container-id-1 pre{padding: 0;}#sk-container-id-1 div.sk-toggleable {background-color: white;}#sk-container-id-1 label.sk-toggleable__label {cursor: pointer;display: block;width: 100%;margin-bottom: 0;padding: 0.3em;box-sizing: border-box;text-align: center;}#sk-container-id-1 label.sk-toggleable__label-arrow:before {content: \"▸\";float: left;margin-right: 0.25em;color: #696969;}#sk-container-id-1 label.sk-toggleable__label-arrow:hover:before {color: black;}#sk-container-id-1 div.sk-estimator:hover label.sk-toggleable__label-arrow:before {color: black;}#sk-container-id-1 div.sk-toggleable__content {max-height: 0;max-width: 0;overflow: hidden;text-align: left;background-color: #f0f8ff;}#sk-container-id-1 div.sk-toggleable__content pre {margin: 0.2em;color: black;border-radius: 0.25em;background-color: #f0f8ff;}#sk-container-id-1 input.sk-toggleable__control:checked~div.sk-toggleable__content {max-height: 200px;max-width: 100%;overflow: auto;}#sk-container-id-1 input.sk-toggleable__control:checked~label.sk-toggleable__label-arrow:before {content: \"▾\";}#sk-container-id-1 div.sk-estimator input.sk-toggleable__control:checked~label.sk-toggleable__label {background-color: #d4ebff;}#sk-container-id-1 div.sk-label input.sk-toggleable__control:checked~label.sk-toggleable__label {background-color: #d4ebff;}#sk-container-id-1 input.sk-hidden--visually {border: 0;clip: rect(1px 1px 1px 1px);clip: rect(1px, 1px, 1px, 1px);height: 1px;margin: -1px;overflow: hidden;padding: 0;position: absolute;width: 1px;}#sk-container-id-1 div.sk-estimator {font-family: monospace;background-color: #f0f8ff;border: 1px dotted black;border-radius: 0.25em;box-sizing: border-box;margin-bottom: 0.5em;}#sk-container-id-1 div.sk-estimator:hover {background-color: #d4ebff;}#sk-container-id-1 div.sk-parallel-item::after {content: \"\";width: 100%;border-bottom: 1px solid gray;flex-grow: 1;}#sk-container-id-1 div.sk-label:hover label.sk-toggleable__label {background-color: #d4ebff;}#sk-container-id-1 div.sk-serial::before {content: \"\";position: absolute;border-left: 1px solid gray;box-sizing: border-box;top: 0;bottom: 0;left: 50%;z-index: 0;}#sk-container-id-1 div.sk-serial {display: flex;flex-direction: column;align-items: center;background-color: white;padding-right: 0.2em;padding-left: 0.2em;position: relative;}#sk-container-id-1 div.sk-item {position: relative;z-index: 1;}#sk-container-id-1 div.sk-parallel {display: flex;align-items: stretch;justify-content: center;background-color: white;position: relative;}#sk-container-id-1 div.sk-item::before, #sk-container-id-1 div.sk-parallel-item::before {content: \"\";position: absolute;border-left: 1px solid gray;box-sizing: border-box;top: 0;bottom: 0;left: 50%;z-index: -1;}#sk-container-id-1 div.sk-parallel-item {display: flex;flex-direction: column;z-index: 1;position: relative;background-color: white;}#sk-container-id-1 div.sk-parallel-item:first-child::after {align-self: flex-end;width: 50%;}#sk-container-id-1 div.sk-parallel-item:last-child::after {align-self: flex-start;width: 50%;}#sk-container-id-1 div.sk-parallel-item:only-child::after {width: 0;}#sk-container-id-1 div.sk-dashed-wrapped {border: 1px dashed gray;margin: 0 0.4em 0.5em 0.4em;box-sizing: border-box;padding-bottom: 0.4em;background-color: white;}#sk-container-id-1 div.sk-label label {font-family: monospace;font-weight: bold;display: inline-block;line-height: 1.2em;}#sk-container-id-1 div.sk-label-container {text-align: center;}#sk-container-id-1 div.sk-container {/* jupyter's `normalize.less` sets `[hidden] { display: none; }` but bootstrap.min.css set `[hidden] { display: none !important; }` so we also need the `!important` here to be able to override the default hidden behavior on the sphinx rendered scikit-learn.org. See: https://github.com/scikit-learn/scikit-learn/issues/21755 */display: inline-block !important;position: relative;}#sk-container-id-1 div.sk-text-repr-fallback {display: none;}</style><div id=\"sk-container-id-1\" class=\"sk-top-container\"><div class=\"sk-text-repr-fallback\"><pre>KMeans(n_clusters=3)</pre><b>In a Jupyter environment, please rerun this cell to show the HTML representation or trust the notebook. <br />On GitHub, the HTML representation is unable to render, please try loading this page with nbviewer.org.</b></div><div class=\"sk-container\" hidden><div class=\"sk-item\"><div class=\"sk-estimator sk-toggleable\"><input class=\"sk-toggleable__control sk-hidden--visually\" id=\"sk-estimator-id-1\" type=\"checkbox\" checked><label for=\"sk-estimator-id-1\" class=\"sk-toggleable__label sk-toggleable__label-arrow\">KMeans</label><div class=\"sk-toggleable__content\"><pre>KMeans(n_clusters=3)</pre></div></div></div></div></div>"
      ],
      "text/plain": [
       "KMeans(n_clusters=3)"
      ]
     },
     "execution_count": 5,
     "metadata": {},
     "output_type": "execute_result"
    }
   ],
   "source": [
    "# Agrupamento com k-means, utilizando 3 clusters (de acordo com a base de dados)\n",
    "cluster = KMeans(n_clusters = 3)\n",
    "cluster.fit(iris.data)"
   ]
  },
  {
   "cell_type": "code",
   "execution_count": 7,
   "metadata": {},
   "outputs": [
    {
     "data": {
      "text/plain": [
       "array([[5.9016129 , 2.7483871 , 4.39354839, 1.43387097],\n",
       "       [5.006     , 3.428     , 1.462     , 0.246     ],\n",
       "       [6.85      , 3.07368421, 5.74210526, 2.07105263]])"
      ]
     },
     "execution_count": 7,
     "metadata": {},
     "output_type": "execute_result"
    }
   ],
   "source": [
    "# Visualização dos três centroides\n",
    "centroides = cluster.cluster_centers_\n",
    "centroides"
   ]
  },
  {
   "cell_type": "code",
   "execution_count": 8,
   "metadata": {},
   "outputs": [
    {
     "data": {
      "text/plain": [
       "array([1, 1, 1, 1, 1, 1, 1, 1, 1, 1, 1, 1, 1, 1, 1, 1, 1, 1, 1, 1, 1, 1,\n",
       "       1, 1, 1, 1, 1, 1, 1, 1, 1, 1, 1, 1, 1, 1, 1, 1, 1, 1, 1, 1, 1, 1,\n",
       "       1, 1, 1, 1, 1, 1, 0, 0, 2, 0, 0, 0, 0, 0, 0, 0, 0, 0, 0, 0, 0, 0,\n",
       "       0, 0, 0, 0, 0, 0, 0, 0, 0, 0, 0, 2, 0, 0, 0, 0, 0, 0, 0, 0, 0, 0,\n",
       "       0, 0, 0, 0, 0, 0, 0, 0, 0, 0, 0, 0, 2, 0, 2, 2, 2, 2, 0, 2, 2, 2,\n",
       "       2, 2, 2, 0, 0, 2, 2, 2, 2, 0, 2, 0, 2, 0, 2, 2, 0, 0, 2, 2, 2, 2,\n",
       "       2, 0, 2, 2, 2, 2, 0, 2, 2, 2, 0, 2, 2, 2, 0, 2, 2, 0])"
      ]
     },
     "execution_count": 8,
     "metadata": {},
     "output_type": "execute_result"
    }
   ],
   "source": [
    "# Visualização dos grupos que cada registro foi associado\n",
    "previsoes = cluster.labels_\n",
    "previsoes"
   ]
  },
  {
   "cell_type": "code",
   "execution_count": 9,
   "metadata": {},
   "outputs": [
    {
     "data": {
      "text/plain": [
       "array([0, 1, 2])"
      ]
     },
     "execution_count": 9,
     "metadata": {},
     "output_type": "execute_result"
    }
   ],
   "source": [
    "# Contagem dos registros por classe\n",
    "unicos2, quantidade2 = np.unique(previsoes, return_counts = True)\n",
    "unicos2"
   ]
  },
  {
   "cell_type": "code",
   "execution_count": 10,
   "metadata": {},
   "outputs": [
    {
     "data": {
      "text/plain": [
       "array([62, 50, 38], dtype=int64)"
      ]
     },
     "execution_count": 10,
     "metadata": {},
     "output_type": "execute_result"
    }
   ],
   "source": [
    "quantidade2"
   ]
  },
  {
   "cell_type": "code",
   "execution_count": 11,
   "metadata": {},
   "outputs": [
    {
     "data": {
      "text/plain": [
       "array([[ 0, 50,  0],\n",
       "       [48,  0,  2],\n",
       "       [14,  0, 36]], dtype=int64)"
      ]
     },
     "execution_count": 11,
     "metadata": {},
     "output_type": "execute_result"
    }
   ],
   "source": [
    "# Geração da matriz de contingência para comparar os grupos com a base de dados\n",
    "resultados = confusion_matrix(iris.target, previsoes)\n",
    "resultados"
   ]
  },
  {
   "cell_type": "code",
   "execution_count": 12,
   "metadata": {},
   "outputs": [
    {
     "data": {
      "text/plain": [
       "<matplotlib.legend.Legend at 0x1e6e8caeca0>"
      ]
     },
     "execution_count": 12,
     "metadata": {},
     "output_type": "execute_result"
    },
    {
     "data": {
      "image/png": "[encoded data removed]",
      "text/plain": [
       "<Figure size 432x288 with 1 Axes>"
      ]
     },
     "metadata": {
      "needs_background": "light"
     },
     "output_type": "display_data"
    }
   ],
   "source": [
    "# Geração do gráfico com os clusters gerados, considerando para um (previsoes 0, 1 ou 2)\n",
    "# Usamos somente as colunas 0 e 1 da base de dados original para termos 2 dimensões\n",
    "plt.scatter(iris.data[previsoes == 0, 0], iris.data[previsoes == 0, 1], \n",
    "            c = 'green', label = 'Setosa')\n",
    "plt.scatter(iris.data[previsoes == 1, 0], iris.data[previsoes == 1, 1], \n",
    "            c = 'red', label = 'Versicolor')\n",
    "plt.scatter(iris.data[previsoes == 2, 0], iris.data[previsoes == 2, 1], \n",
    "            c = 'blue', label = 'Virgica')\n",
    "plt.legend()"
   ]
  },
  {
   "cell_type": "markdown",
   "metadata": {},
   "source": [
    "### C-means\n",
    "* O agrupamento fuzzy C-Means é uma abordagem de agrupamento suave, onde cada ponto de dados é atribuído a uma probabilidade ou pontuação de probabilidade de pertencer a esse agrupamento;\n",
    "* Os princípios da lógica difusa podem ser usados para agrupar dados multidimensionais, atribuindo a cada ponto uma associação em cada centro de agrupamento de 0 a 100 por cento."
   ]
  },
  {
   "cell_type": "code",
   "execution_count": 13,
   "metadata": {},
   "outputs": [
    {
     "name": "stdout",
     "output_type": "stream",
     "text": [
      "Requirement already satisfied: scikit-fuzzy in c:\\users\\usuario\\anaconda3\\lib\\site-packages (0.4.2)\n",
      "Requirement already satisfied: scipy>=0.9.0 in c:\\users\\usuario\\anaconda3\\lib\\site-packages (from scikit-fuzzy) (1.9.1)\n",
      "Requirement already satisfied: numpy>=1.6.0 in c:\\users\\usuario\\anaconda3\\lib\\site-packages (from scikit-fuzzy) (1.21.4)\n",
      "Requirement already satisfied: networkx>=1.9.0 in c:\\users\\usuario\\anaconda3\\lib\\site-packages (from scikit-fuzzy) (2.5)\n",
      "Requirement already satisfied: decorator>=4.3.0 in c:\\users\\usuario\\anaconda3\\lib\\site-packages (from networkx>=1.9.0->scikit-fuzzy) (5.0.6)\n"
     ]
    }
   ],
   "source": [
    "#!pip install -U scikit-fuzzy"
   ]
  },
  {
   "cell_type": "code",
   "execution_count": 14,
   "metadata": {},
   "outputs": [],
   "source": [
    "# Importação das bibliotecas\n",
    "from sklearn import datasets\n",
    "import numpy as np\n",
    "from sklearn.metrics import confusion_matrix\n",
    "import skfuzzy"
   ]
  },
  {
   "cell_type": "code",
   "execution_count": 15,
   "metadata": {},
   "outputs": [],
   "source": [
    "# Carregamento da base de dados iris, que já está disponível no sklearn\n",
    "iris = datasets.load_iris()"
   ]
  },
  {
   "cell_type": "code",
   "execution_count": 16,
   "metadata": {},
   "outputs": [],
   "source": [
    "# Aplicação do algoritmo definindo três cluster (c = 3) e passando a matriz transposta (iris.data.T). \n",
    "#Os outros parâmetros são obrigatórios e são os default indicados na documentação\n",
    "r = skfuzzy.cmeans(data = iris.data.T, c = 3, m = 2, error = 0.005,\n",
    "                   maxiter = 1000, init = None)"
   ]
  },
  {
   "cell_type": "code",
   "execution_count": 17,
   "metadata": {},
   "outputs": [],
   "source": [
    "# Obtendo as porcentagens de um registros pertencer a um cluster, que está na posição 1 da matriz retornada\n",
    "previsoes_porcentagem = r[1]"
   ]
  },
  {
   "cell_type": "code",
   "execution_count": 18,
   "metadata": {},
   "outputs": [
    {
     "name": "stdout",
     "output_type": "stream",
     "text": [
      "0.0023044525670331936 0.0010719057273151638 0.9966236417056518\n",
      "0.01666160551136333 0.007501973316213915 0.9758364211724226\n",
      "0.013767400355732089 0.006417180366314717 0.9798154192779531\n",
      "0.02248109459107904 0.010112814525239386 0.9674060908836816\n",
      "0.003762145465241255 0.0017678835261698163 0.9944699710085889\n",
      "0.044831493180189225 0.020628877633078215 0.9345396291867325\n",
      "0.014011990835285303 0.006507253209996649 0.9794807559547181\n",
      "0.0003117509040183693 0.00014127973487035328 0.9995469693611113\n",
      "0.04774847285158494 0.021912406828791788 0.9303391203196232\n",
      "0.011944589023107887 0.005344615581787846 0.9827107953951044\n",
      "0.021767879091886728 0.010204848007939502 0.9680272729001738\n",
      "0.005436254465293187 0.002432618949151453 0.9921311265855552\n",
      "0.020196429131207692 0.00918170384928124 0.9706218670195111\n",
      "0.05182159241850631 0.02524544310244374 0.92293296447905\n",
      "0.07263720767295402 0.037643601207994135 0.8897191911190518\n",
      "0.10438730092741356 0.05432383840734156 0.8412888606652449\n",
      "0.03559453160034825 0.01750147152979814 0.9469039968698537\n",
      "0.0022889244116008458 0.0010588314424471647 0.996652244145952\n",
      "0.06559207756305319 0.030321009996234306 0.9040869124407126\n",
      "0.014163947739058554 0.0066558942792665984 0.9791801579816749\n",
      "0.021871751101639195 0.009545780091559451 0.9685824688068012\n",
      "0.010378711464769987 0.0047957318845339445 0.984825556650696\n",
      "0.027519993588211483 0.013836572896836995 0.9586434335149514\n",
      "0.014475600274849273 0.006116339278424417 0.9794080604467263\n",
      "0.023262892644061457 0.009844658851042305 0.9668924485048962\n",
      "0.01847455015625675 0.007978669656251323 0.9735467801874919\n",
      "0.0035855794134914414 0.001574861169570008 0.9948395594169385\n",
      "0.004567405938636741 0.0020874940863241324 0.9933450999750391\n",
      "0.004329953347817268 0.00199653405888148 0.9936735125933014\n",
      "0.014212641694021559 0.006286367819469476 0.979500990486509\n",
      "0.0148114257626142 0.006477624673124721 0.9787109495642612\n",
      "0.017708187749440104 0.007943592632917133 0.9743482196176428\n",
      "0.041162782192614294 0.02034081111233489 0.9384964066950507\n",
      "0.06350664380012144 0.03235878466163623 0.9041345715382424\n",
      "0.010349238525357088 0.004596879627753553 0.9850538818468892\n",
      "0.010206041553253801 0.004806714455159339 0.9849872439915868\n",
      "0.02426312711372693 0.011568173496953774 0.9641686993893193\n",
      "0.006184056559932038 0.002926875417939676 0.9908890680221283\n",
      "0.0411081129095881 0.019240745875255844 0.9396511412151561\n",
      "0.0011785215384915889 0.0005335144371082051 0.9982879640244003\n",
      "0.0035843248808333015 0.0016882787821614457 0.9947273963370051\n",
      "0.10233131643286651 0.04701340940793912 0.8506552741591943\n",
      "0.03219472583253968 0.01521460702442626 0.9525906671430341\n",
      "0.014394116046488593 0.006333417751841379 0.97927246620167\n",
      "0.03815469078425773 0.016609484845690792 0.9452358243700514\n",
      "0.019236255736982684 0.008636132228537539 0.9721276120344798\n",
      "0.015850200660393065 0.007367717447269483 0.9767820818923375\n",
      "0.017663564020545208 0.008130463680488646 0.9742059722989662\n",
      "0.015527713535352315 0.007262131867330657 0.977210154597317\n",
      "0.002009159294237211 0.0009195923315732266 0.9970712483741896\n",
      "0.45361614958191754 0.5018104173328151 0.04457343308526741\n",
      "0.7633227962069473 0.20747292488130958 0.029204278911743223\n",
      "0.36796575750540267 0.6007819131251433 0.03125232936945405\n",
      "0.870451942563141 0.08032400772925395 0.049224049707605085\n",
      "0.7579012921200549 0.21794889523334982 0.024149812646595367\n",
      "0.9737925206723065 0.020473129058492266 0.0057343502692012984\n",
      "0.6720623019375385 0.2981105132436771 0.029827184818784477\n",
      "0.5828291087753851 0.13228069504590947 0.2848901961787055\n",
      "0.7203025482235128 0.24843112312297527 0.03126632865351191\n",
      "0.8308068771596028 0.09459381598288207 0.07459930685751508\n",
      "0.6367905119268604 0.14502384153175785 0.21818564654138167\n",
      "0.9620666274087207 0.028755130239105267 0.009178242352174112\n",
      "0.843406209209754 0.10105741269202739 0.055536378098218604\n",
      "0.899027340822067 0.08880498755831971 0.012167671619613163\n",
      "0.816473398090765 0.09207882366173357 0.0914477782475014\n",
      "0.6892809569718154 0.26897272072034095 0.04174632230784369\n",
      "0.9330674419128943 0.05277369327234787 0.014158864814757898\n",
      "0.9259657377804711 0.04824018689826368 0.02579407532126515\n",
      "0.8351303451373457 0.1377079652441755 0.027161689618478754\n",
      "0.877978243948254 0.0706245212910529 0.0513972347606933\n",
      "0.720799475295072 0.251549421439576 0.027651103265352056\n",
      "0.9343721327307065 0.04618011526704063 0.019447752002252763\n",
      "0.7045103924027446 0.27148750065638827 0.024002106940867032\n",
      "0.902309266205255 0.08371626057505857 0.0139744732196864\n",
      "0.8756054223198425 0.1014604032412835 0.022934174438874105\n",
      "0.754202243378977 0.21182251463343896 0.033975241987584046\n",
      "0.5227937016016923 0.4435945035045696 0.03361179489373817\n",
      "0.30530394886606005 0.6735370112659871 0.021159039867952978\n",
      "0.9685668046158736 0.026455436791814228 0.00497775859231214\n",
      "0.7673587111766239 0.10456092149357722 0.12808036732979886\n",
      "0.832622345172364 0.08976017525600623 0.07761747957162968\n",
      "0.7958080175663814 0.10062845738296429 0.10356352505065436\n",
      "0.9189833048469066 0.05015940433238407 0.030857290820709406\n",
      "0.6552627316788253 0.32074222552673737 0.023995042794437395\n",
      "0.89112027782916 0.0825135855075928 0.026366136663247285\n",
      "0.7966624115928651 0.17116000500210812 0.03217758340502665\n",
      "0.5544904200267475 0.4120445142049911 0.03346506576826129\n",
      "0.8574471167312742 0.11567827213713998 0.026874611131585804\n",
      "0.9291150900630653 0.046877698052411376 0.024007211884523386\n",
      "0.8997163385112694 0.06223478314771525 0.038048878341015384\n",
      "0.9312873877792126 0.04914049883346782 0.01957211338731962\n",
      "0.9151530693632094 0.07317877961758155 0.011668151019208983\n",
      "0.9359461709140624 0.041641218516040045 0.02241261056989754\n",
      "0.5986435382254066 0.13270698057840824 0.2686494811961851\n",
      "0.9590890942018031 0.02830620173844794 0.01260470405974899\n",
      "0.9456909765874812 0.0375867762805914 0.016722247131927145\n",
      "0.9675716320821203 0.022907573081099097 0.009520794836780611\n",
      "0.943708878099463 0.044865976909139064 0.011425144991397953\n",
      "0.5204519549924135 0.12450237131975828 0.35504567368782836\n",
      "0.9607909269414721 0.026599898097498673 0.012609174961029288\n",
      "0.12068356929478541 0.8599469602831912 0.01936947042202336\n",
      "0.6146812157167957 0.35600719482760296 0.029311589455601358\n",
      "0.038294132772529445 0.9556008604750934 0.006105006752377118\n",
      "0.14135305674524654 0.8461539161707554 0.012493027083997967\n",
      "0.03757831050348036 0.9576690431397823 0.004752646356737188\n",
      "0.15278067914467178 0.8117077364946748 0.035511584360653596\n",
      "0.7599891457239918 0.167089994176111 0.07292086009989714\n",
      "0.11524030767988103 0.8628228206813273 0.021936871638791672\n",
      "0.11713697643995381 0.8688769690420515 0.013986054517994664\n",
      "0.11470526246337398 0.8608325028250392 0.024462234711586702\n",
      "0.20901019297280818 0.7742644791603536 0.016725327866838266\n",
      "0.22219788705311141 0.7620831668237397 0.01571894612314889\n",
      "0.009924294953731186 0.9889185152347824 0.0011571898114864276\n",
      "0.65929462528907 0.3063256685453633 0.03437970616556671\n",
      "0.4602833619399056 0.5013553492309589 0.0383612888291355\n",
      "0.1355698668883075 0.8503976072802353 0.014032525831457091\n",
      "0.07910909765083789 0.9137636320143215 0.007127270334840591\n",
      "0.18589820242507057 0.7634573935215369 0.05064440405339255\n",
      "0.1933246227306865 0.7574427856780586 0.04923259159125489\n",
      "0.710139745090592 0.2576538037864903 0.032206451122917645\n",
      "0.025789395066303265 0.97036499383586 0.003845611097836795\n",
      "0.7063480101399012 0.25999070064819974 0.033661289211899065\n",
      "0.1749114518992024 0.7830678015616636 0.04202074653913404\n",
      "0.5944869557068844 0.3826963109843878 0.022816733308727882\n",
      "0.02175024485722573 0.9753315412043551 0.0029182139384193216\n",
      "0.07527862489621368 0.9117815507037795 0.012939824400006952\n",
      "0.7066155420223467 0.272370654476302 0.021013803501351333\n",
      "0.6456831480123849 0.3312005749316341 0.023116277055981082\n",
      "0.08263128415613732 0.909036089638737 0.008332626205125544\n",
      "0.09475081973086405 0.8907872912058701 0.014461889063265863\n",
      "0.1075451039616693 0.8726322204630885 0.019822675575242203\n",
      "0.18906282309328554 0.7599801127661165 0.05095706414059793\n",
      "0.08451345136747722 0.9065523692038794 0.008934179428643474\n",
      "0.5389545566665982 0.43764901763492703 0.023396425698474742\n",
      "0.3920082610247858 0.5768197192818861 0.03117201969332816\n",
      "0.13188583931895292 0.8394047579381211 0.028709402742925973\n",
      "0.12846392203779686 0.8543201461820296 0.017215931780173648\n",
      "0.1094915375208525 0.8807603812724685 0.009748081206679143\n",
      "0.7489140190669031 0.22932137063697577 0.02176461029612105\n",
      "0.028847109830315333 0.9676726650104698 0.003480225159214702\n",
      "0.03764808338080461 0.9572723888397353 0.0050795277794600064\n",
      "0.1291374319064549 0.8554809221651336 0.01538164592841152\n",
      "0.6146812157167957 0.35600719482760296 0.029311589455601358\n",
      "0.03384894035505251 0.9608777585281392 0.005273301116808259\n",
      "0.06319370126557985 0.9270921934785362 0.009714105255883981\n",
      "0.10596805116519478 0.8827970577945726 0.011234891040232684\n",
      "0.5064216368618912 0.4677818535509859 0.025796509587122898\n",
      "0.15558466025261902 0.8323446776183986 0.012070662128982387\n",
      "0.1885667863966287 0.789875891290522 0.021557322312849292\n",
      "0.5806976461627218 0.3923704182538023 0.026931935583475935\n"
     ]
    }
   ],
   "source": [
    "# Visualização da probabilidade de um registro pertencer a cada um dos cluster (o somatório é 1.0 que indica 100%)\n",
    "for x in range(150):\n",
    "  print( previsoes_porcentagem[0][x] ,previsoes_porcentagem[1][x] ,previsoes_porcentagem[2][x] )"
   ]
  },
  {
   "cell_type": "code",
   "execution_count": 19,
   "metadata": {},
   "outputs": [
    {
     "data": {
      "text/plain": [
       "array([[ 0,  0, 50],\n",
       "       [47,  3,  0],\n",
       "       [13, 37,  0]], dtype=int64)"
      ]
     },
     "execution_count": 19,
     "metadata": {},
     "output_type": "execute_result"
    }
   ],
   "source": [
    "# Geração de matriz de contingência para comparação com as classes originais da base de dados\n",
    "previsoes = previsoes_porcentagem.argmax(axis = 0)\n",
    "resultados = confusion_matrix(iris.target, previsoes)\n",
    "resultados"
   ]
  },
  {
   "cell_type": "code",
   "execution_count": 20,
   "metadata": {},
   "outputs": [],
   "source": [
    "from fcmeans import FCM\n",
    "from matplotlib import pyplot as plt"
   ]
  },
  {
   "cell_type": "code",
   "execution_count": 21,
   "metadata": {},
   "outputs": [],
   "source": [
    "fcm = FCM(n_clusters=2)\n",
    "fcm.fit(iris.data)"
   ]
  },
  {
   "cell_type": "code",
   "execution_count": 22,
   "metadata": {},
   "outputs": [],
   "source": [
    "X = iris.data"
   ]
  },
  {
   "cell_type": "code",
   "execution_count": 23,
   "metadata": {},
   "outputs": [
    {
     "data": {
      "image/png": "[encoded data removed]",
      "text/plain": [
       "<Figure size 792x360 with 2 Axes>"
      ]
     },
     "metadata": {
      "needs_background": "light"
     },
     "output_type": "display_data"
    }
   ],
   "source": [
    "# outputs\n",
    "fcm_centers = fcm.centers\n",
    "fcm_labels = fcm.predict(X)\n",
    "\n",
    "# plot result\n",
    "f, axes = plt.subplots(1, 2, figsize=(11,5))\n",
    "axes[0].scatter(X[:,0], X[:,1], alpha=.1)\n",
    "axes[1].scatter(X[:,0], X[:,1], c=fcm_labels, alpha=.1)\n",
    "axes[1].scatter(fcm_centers[:,0], fcm_centers[:,1], marker=\"+\", s=500, c='w')\n",
    "plt.show()"
   ]
  },
  {
   "cell_type": "markdown",
   "metadata": {},
   "source": [
    "### K-medoids"
   ]
  },
  {
   "cell_type": "code",
   "execution_count": 24,
   "metadata": {},
   "outputs": [
    {
     "name": "stdout",
     "output_type": "stream",
     "text": [
      "Requirement already satisfied: pyclustering in c:\\users\\usuario\\anaconda3\\lib\\site-packages (0.10.1.2)\n",
      "Requirement already satisfied: matplotlib>=3.0.0 in c:\\users\\usuario\\anaconda3\\lib\\site-packages (from pyclustering) (3.3.4)\n",
      "Requirement already satisfied: Pillow>=5.2.0 in c:\\users\\usuario\\anaconda3\\lib\\site-packages (from pyclustering) (8.2.0)\n",
      "Requirement already satisfied: scipy>=1.1.0 in c:\\users\\usuario\\anaconda3\\lib\\site-packages (from pyclustering) (1.9.1)\n",
      "Requirement already satisfied: numpy>=1.15.2 in c:\\users\\usuario\\anaconda3\\lib\\site-packages (from pyclustering) (1.21.4)\n",
      "Requirement already satisfied: kiwisolver>=1.0.1 in c:\\users\\usuario\\anaconda3\\lib\\site-packages (from matplotlib>=3.0.0->pyclustering) (1.3.1)\n",
      "Requirement already satisfied: pyparsing!=2.0.4,!=2.1.2,!=2.1.6,>=2.0.3 in c:\\users\\usuario\\anaconda3\\lib\\site-packages (from matplotlib>=3.0.0->pyclustering) (2.4.7)\n",
      "Requirement already satisfied: cycler>=0.10 in c:\\users\\usuario\\anaconda3\\lib\\site-packages (from matplotlib>=3.0.0->pyclustering) (0.10.0)\n",
      "Requirement already satisfied: python-dateutil>=2.1 in c:\\users\\usuario\\anaconda3\\lib\\site-packages (from matplotlib>=3.0.0->pyclustering) (2.8.1)\n",
      "Requirement already satisfied: six in c:\\users\\usuario\\anaconda3\\lib\\site-packages (from cycler>=0.10->matplotlib>=3.0.0->pyclustering) (1.15.0)\n"
     ]
    }
   ],
   "source": [
    "#!pip install pyclustering"
   ]
  },
  {
   "cell_type": "code",
   "execution_count": 25,
   "metadata": {},
   "outputs": [],
   "source": [
    "from sklearn import datasets\n",
    "from sklearn.metrics import confusion_matrix\n",
    "import numpy as np\n",
    "from pyclustering.cluster.kmedoids import kmedoids\n",
    "from pyclustering.cluster import cluster_visualizer"
   ]
  },
  {
   "cell_type": "code",
   "execution_count": 26,
   "metadata": {},
   "outputs": [],
   "source": [
    "iris = datasets.load_iris()"
   ]
  },
  {
   "cell_type": "code",
   "execution_count": 27,
   "metadata": {},
   "outputs": [
    {
     "data": {
      "text/plain": [
       "[3, 12, 20]"
      ]
     },
     "execution_count": 27,
     "metadata": {},
     "output_type": "execute_result"
    }
   ],
   "source": [
    "# Configuração dos parâmetros do k-medoids, utilizando somente as duas primeiras colunas da base de dados por causa da visualização apenas\n",
    "# 3, 12 e 20 são índices aleatórios de registros da base de dados (inicialização)\n",
    "cluster = kmedoids(iris.data[:, 0:2], [3, 12, 20])\n",
    "# Visualização dos pontos escolhidos (3, 12 e 20)\n",
    "cluster.get_medoids()"
   ]
  },
  {
   "cell_type": "code",
   "execution_count": 28,
   "metadata": {},
   "outputs": [
    {
     "data": {
      "text/plain": [
       "[[50,\n",
       "  51,\n",
       "  52,\n",
       "  54,\n",
       "  56,\n",
       "  58,\n",
       "  65,\n",
       "  74,\n",
       "  75,\n",
       "  76,\n",
       "  77,\n",
       "  86,\n",
       "  100,\n",
       "  102,\n",
       "  103,\n",
       "  104,\n",
       "  105,\n",
       "  107,\n",
       "  108,\n",
       "  109,\n",
       "  110,\n",
       "  111,\n",
       "  112,\n",
       "  115,\n",
       "  116,\n",
       "  117,\n",
       "  118,\n",
       "  120,\n",
       "  122,\n",
       "  124,\n",
       "  125,\n",
       "  128,\n",
       "  129,\n",
       "  130,\n",
       "  131,\n",
       "  132,\n",
       "  135,\n",
       "  136,\n",
       "  137,\n",
       "  139,\n",
       "  140,\n",
       "  141,\n",
       "  143,\n",
       "  144,\n",
       "  145,\n",
       "  147,\n",
       "  148],\n",
       " [53,\n",
       "  55,\n",
       "  57,\n",
       "  59,\n",
       "  60,\n",
       "  61,\n",
       "  62,\n",
       "  63,\n",
       "  64,\n",
       "  66,\n",
       "  67,\n",
       "  68,\n",
       "  69,\n",
       "  70,\n",
       "  71,\n",
       "  72,\n",
       "  73,\n",
       "  78,\n",
       "  79,\n",
       "  80,\n",
       "  81,\n",
       "  82,\n",
       "  83,\n",
       "  84,\n",
       "  85,\n",
       "  87,\n",
       "  88,\n",
       "  89,\n",
       "  90,\n",
       "  91,\n",
       "  92,\n",
       "  93,\n",
       "  94,\n",
       "  95,\n",
       "  96,\n",
       "  97,\n",
       "  98,\n",
       "  99,\n",
       "  101,\n",
       "  113,\n",
       "  114,\n",
       "  119,\n",
       "  121,\n",
       "  123,\n",
       "  126,\n",
       "  127,\n",
       "  133,\n",
       "  134,\n",
       "  138,\n",
       "  142,\n",
       "  146,\n",
       "  149],\n",
       " [0,\n",
       "  1,\n",
       "  2,\n",
       "  3,\n",
       "  4,\n",
       "  5,\n",
       "  6,\n",
       "  7,\n",
       "  8,\n",
       "  9,\n",
       "  10,\n",
       "  11,\n",
       "  12,\n",
       "  13,\n",
       "  14,\n",
       "  15,\n",
       "  16,\n",
       "  17,\n",
       "  18,\n",
       "  19,\n",
       "  20,\n",
       "  21,\n",
       "  22,\n",
       "  23,\n",
       "  24,\n",
       "  25,\n",
       "  26,\n",
       "  27,\n",
       "  28,\n",
       "  29,\n",
       "  30,\n",
       "  31,\n",
       "  32,\n",
       "  33,\n",
       "  34,\n",
       "  35,\n",
       "  36,\n",
       "  37,\n",
       "  38,\n",
       "  39,\n",
       "  40,\n",
       "  41,\n",
       "  42,\n",
       "  43,\n",
       "  44,\n",
       "  45,\n",
       "  46,\n",
       "  47,\n",
       "  48,\n",
       "  49,\n",
       "  106]]"
      ]
     },
     "execution_count": 28,
     "metadata": {},
     "output_type": "execute_result"
    }
   ],
   "source": [
    "# Aplicação do algoritmo para o agrupamento, obtenção da previsões (grupo de cada registro) e visualização dos medoides\n",
    "cluster.process()\n",
    "previsoes = cluster.get_clusters()\n",
    "medoides = cluster.get_medoids()\n",
    "#lista de 3 elementos, com os indices dos registros do cluster\n",
    "previsoes"
   ]
  },
  {
   "cell_type": "code",
   "execution_count": 29,
   "metadata": {},
   "outputs": [
    {
     "data": {
      "image/png": "[encoded data removed]",
      "text/plain": [
       "<Figure size 432x288 with 1 Axes>"
      ]
     },
     "metadata": {
      "needs_background": "light"
     },
     "output_type": "display_data"
    },
    {
     "data": {
      "image/png": "[encoded data removed]",
      "text/plain": [
       "<Figure size 432x288 with 1 Axes>"
      ]
     },
     "execution_count": 29,
     "metadata": {},
     "output_type": "execute_result"
    }
   ],
   "source": [
    "# Visualização do agrupamento\n",
    "v = cluster_visualizer()\n",
    "v.append_clusters(previsoes, iris.data[:,0:2])\n",
    "v.append_cluster(medoides, data = iris.data[:,0:2], marker = '*', markersize = 20)\n",
    "v.show()"
   ]
  },
  {
   "cell_type": "code",
   "execution_count": 30,
   "metadata": {},
   "outputs": [],
   "source": [
    "# Código para criar duas listas, uma com os grupos reais da base de dados e outra com os valores dos grupos\n",
    "# Utilizado posteriormente para visualização da matriz de contingência\n",
    "lista_previsoes = []\n",
    "lista_real = []\n",
    "for i in range(len(previsoes)):\n",
    "     for j in range(len(previsoes[i])):\n",
    "        lista_previsoes.append(i)\n",
    "        lista_real.append(iris.target[previsoes[i][j]])"
   ]
  },
  {
   "cell_type": "code",
   "execution_count": null,
   "metadata": {},
   "outputs": [],
   "source": [
    "# Geração da matriz de contingência, comparando os grupos reais com os grupos previstos\n",
    "lista_previsoes = np.asarray(lista_previsoes)\n",
    "lista_real = np.asarray(lista_real)\n",
    "resultados = confusion_matrix(lista_real, lista_previsoes)\n",
    "resultados"
   ]
  },
  {
   "cell_type": "markdown",
   "metadata": {},
   "source": [
    "### Referências\n",
    "* Formação Cientista de Dados - Fernando Amaral e Jones Granatyr. Disponpivel em: https://www.udemy.com/course/cientista-de-dados/learn/lecture/21173996#search. Acesso em 26/10/2022.\n",
    "* Fuzzy C-Means Clustering —Is it Better than K-Means Clustering?. Disponível em: https://towardsdatascience.com/fuzzy-c-means-clustering-is-it-better-than-k-means-clustering-448a0aba1ee7. Acesso em 26/10/2022.\n",
    "* Fuzzy C-Means Clustering (FCM) Algorithm. Disponível em: https://medium.com/geekculture/fuzzy-c-means-clustering-fcm-algorithm-in-machine-learning-c2e51e586fff. Acesso em 26/10/2022."
   ]
  }
 ],
 "metadata": {
  "jupytext": {
   "cell_metadata_filter": "-all",
   "main_language": "python",
   "notebook_metadata_filter": "-all"
  },
  "kernelspec": {
   "display_name": "Python 3",
   "language": "python",
   "name": "python3"
  },
  "language_info": {
   "codemirror_mode": {
    "name": "ipython",
    "version": 3
   },
   "file_extension": ".py",
   "mimetype": "text/x-python",
   "name": "python",
   "nbconvert_exporter": "python",
   "pygments_lexer": "ipython3",
   "version": "3.8.8"
  }
 },
 "nbformat": 4,
 "nbformat_minor": 4
}
